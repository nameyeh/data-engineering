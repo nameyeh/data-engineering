{
 "cells": [
  {
   "cell_type": "markdown",
   "metadata": {
    "Collapsed": "false"
   },
   "source": [
    "# **Implement a Recursive Algorithm**\n",
    "MSDS 432 Module 3\n",
    "\n",
    "Nameyeh Alam"
   ]
  },
  {
   "cell_type": "code",
   "execution_count": 1,
   "metadata": {
    "Collapsed": "false",
    "scrolled": true
   },
   "outputs": [],
   "source": [
    "import numpy as np\n",
    "import pandas as pd \n",
    "import matplotlib.pyplot as plt\n",
    "import seaborn as sns\n",
    "import random\n",
    "import string\n",
    "import warnings\n",
    "warnings.filterwarnings(\"ignore\", category=Warning)\n",
    "import time"
   ]
  },
  {
   "cell_type": "markdown",
   "metadata": {
    "Collapsed": "false"
   },
   "source": [
    "### 1. Set up an array of ten random numbers between 100 and 500 (just one array with 10 numbers)."
   ]
  },
  {
   "cell_type": "code",
   "execution_count": 2,
   "metadata": {
    "Collapsed": "false"
   },
   "outputs": [],
   "source": [
    "np.random.seed(1)\n",
    "array = np.random.randint(low=100, high=500, size=10).tolist()\n",
    "\n",
    "array = list(map(int, array))"
   ]
  },
  {
   "cell_type": "markdown",
   "metadata": {
    "Collapsed": "false"
   },
   "source": [
    "### 2. Calculate the factorial of each of the numbers using a simple FOR loop.  Please capture the start/end times and store the results in an array, or linked list, or dictionary. \n",
    "\n",
    "In this section, we first define the factorial function that performs the calculation iteratively, or with a for loop. Because we don't want to individually calculate factorials for the all the numbers in the array, we will use a for loop outside of the iterative factorial function. Before running the array numbers through the function, we will create empty lists to store the outputs for each number; one list for the factorial output, and one list for the execution time. "
   ]
  },
  {
   "cell_type": "code",
   "execution_count": 3,
   "metadata": {
    "Collapsed": "false"
   },
   "outputs": [],
   "source": [
    "def fact_iter(x):\n",
    "    ans = 1\n",
    "    for i in range(1,x+1): \n",
    "        ans = ans * i \n",
    "    return ans"
   ]
  },
  {
   "cell_type": "code",
   "execution_count": 4,
   "metadata": {
    "Collapsed": "false"
   },
   "outputs": [
    {
     "data": {
      "text/plain": [
       "[0.12751500000085514,\n",
       " 0.3844849999996569,\n",
       " 1.2358809999994946,\n",
       " 0.16630299999853548,\n",
       " 0.40339400000100056,\n",
       " 0.706909999999894,\n",
       " 0.3447269999998781,\n",
       " 0.2715159999997496,\n",
       " 0.4610920000001073,\n",
       " 0.2923639999998784]"
      ]
     },
     "execution_count": 4,
     "metadata": {},
     "output_type": "execute_result"
    }
   ],
   "source": [
    "array_loop = []\n",
    "array_loop_time = []\n",
    "for n in array:\n",
    "    import time\n",
    "    start = time.perf_counter()\n",
    "    y = fact_iter(n)\n",
    "    end = time.perf_counter()\n",
    "    time = (end - start)*1000 # convert to milliseconds \n",
    "#     print(\"Recursion time =  %s seconds\" % (end - start))\n",
    "    array_loop.append(y)\n",
    "    array_loop_time.append(time)\n",
    "array_loop\n",
    "array_loop_time"
   ]
  },
  {
   "cell_type": "markdown",
   "metadata": {
    "Collapsed": "false"
   },
   "source": [
    "### 3. Calculate the factorial of each of the numbers using recursion.  Please capture the start/end times and store the results in an array, or linked list, or dictionary.\n",
    "\n",
    "In this section, we again define the factorial function first; this time the factorial will be calculated recursively instead of with a for loop. Similar to the last section, we will use a for loop outside of the recursive factorial function to efficiently get our results. Again, empty lists are created to store the factorial output and the execution time for each number. "
   ]
  },
  {
   "cell_type": "code",
   "execution_count": 5,
   "metadata": {
    "Collapsed": "false"
   },
   "outputs": [],
   "source": [
    "# base code for recursion \n",
    "# as described in Chapter 3 of Grokking Algorithms (Bhargava 2016)\n",
    "def fact(x):\n",
    "  if x == 1:\n",
    "    return 1\n",
    "  else:\n",
    "    return x * fact(x-1)"
   ]
  },
  {
   "cell_type": "code",
   "execution_count": 6,
   "metadata": {
    "Collapsed": "false"
   },
   "outputs": [
    {
     "data": {
      "text/plain": [
       "[0.264726999999354,\n",
       " 1.7386699999999422,\n",
       " 2.2172170000001046,\n",
       " 0.33018200000078934,\n",
       " 0.9231539999987604,\n",
       " 1.8400039999999507,\n",
       " 0.5735770000008245,\n",
       " 0.3626679999992888,\n",
       " 1.0201240000000666,\n",
       " 0.43297099999861643]"
      ]
     },
     "execution_count": 6,
     "metadata": {},
     "output_type": "execute_result"
    }
   ],
   "source": [
    "array_recur = []\n",
    "array_recur_time = []\n",
    "for n in array:\n",
    "    import time\n",
    "    start = time.perf_counter()\n",
    "    y = fact(n)\n",
    "    end = time.perf_counter()\n",
    "    time = (end - start)*1000 # convert to milliseconds \n",
    "#     print(\"Recursion time =  %s seconds\" % (end - start))\n",
    "    array_recur.append(y)\n",
    "    array_recur_time.append(time)\n",
    "array_recur\n",
    "array_recur_time"
   ]
  },
  {
   "cell_type": "markdown",
   "metadata": {
    "Collapsed": "false"
   },
   "source": [
    "### 4. Organize the results of the study into a table showing the number, it's factorial, the time to calculate the factorial using recursion, the time to calculate factorial using FOR loop, and the difference between times.\n",
    "\n",
    "We should have sorted the initial array after generating it, but instead of rerunning all the code, after organizing the results in the dataframe, the dataframe was sorted by number. In the future, we should adhere to best practices and sort in the beginning before moving forward. "
   ]
  },
  {
   "cell_type": "code",
   "execution_count": 7,
   "metadata": {
    "Collapsed": "false"
   },
   "outputs": [
    {
     "data": {
      "text/html": [
       "<div>\n",
       "<style scoped>\n",
       "    .dataframe tbody tr th:only-of-type {\n",
       "        vertical-align: middle;\n",
       "    }\n",
       "\n",
       "    .dataframe tbody tr th {\n",
       "        vertical-align: top;\n",
       "    }\n",
       "\n",
       "    .dataframe thead th {\n",
       "        text-align: right;\n",
       "    }\n",
       "</style>\n",
       "<table border=\"1\" class=\"dataframe\">\n",
       "  <thead>\n",
       "    <tr style=\"text-align: right;\">\n",
       "      <th></th>\n",
       "      <th>number</th>\n",
       "      <th>factorial</th>\n",
       "      <th>recur_time</th>\n",
       "      <th>loop_time</th>\n",
       "      <th>time_diff</th>\n",
       "    </tr>\n",
       "  </thead>\n",
       "  <tbody>\n",
       "    <tr>\n",
       "      <th>0</th>\n",
       "      <td>137</td>\n",
       "      <td>5012888748274991661034926292112253883237205694...</td>\n",
       "      <td>0.264727</td>\n",
       "      <td>0.127515</td>\n",
       "      <td>0.137212</td>\n",
       "    </tr>\n",
       "    <tr>\n",
       "      <th>3</th>\n",
       "      <td>172</td>\n",
       "      <td>2134551080774388656290725701457338867300561593...</td>\n",
       "      <td>0.330182</td>\n",
       "      <td>0.166303</td>\n",
       "      <td>0.163879</td>\n",
       "    </tr>\n",
       "    <tr>\n",
       "      <th>7</th>\n",
       "      <td>233</td>\n",
       "      <td>9688098312403563764462819142711903273341070576...</td>\n",
       "      <td>0.362668</td>\n",
       "      <td>0.271516</td>\n",
       "      <td>0.091152</td>\n",
       "    </tr>\n",
       "    <tr>\n",
       "      <th>9</th>\n",
       "      <td>244</td>\n",
       "      <td>1406686158591095782582355424847327315104888551...</td>\n",
       "      <td>0.432971</td>\n",
       "      <td>0.292364</td>\n",
       "      <td>0.140607</td>\n",
       "    </tr>\n",
       "    <tr>\n",
       "      <th>6</th>\n",
       "      <td>303</td>\n",
       "      <td>8429835712576162669156835438871826823450494341...</td>\n",
       "      <td>0.573577</td>\n",
       "      <td>0.344727</td>\n",
       "      <td>0.228850</td>\n",
       "    </tr>\n",
       "    <tr>\n",
       "      <th>1</th>\n",
       "      <td>335</td>\n",
       "      <td>1156323337476057938975353804080109126849124676...</td>\n",
       "      <td>1.738670</td>\n",
       "      <td>0.384485</td>\n",
       "      <td>1.354185</td>\n",
       "    </tr>\n",
       "    <tr>\n",
       "      <th>4</th>\n",
       "      <td>355</td>\n",
       "      <td>6773767977667418360999114574273791421754222965...</td>\n",
       "      <td>0.923154</td>\n",
       "      <td>0.403394</td>\n",
       "      <td>0.519760</td>\n",
       "    </tr>\n",
       "    <tr>\n",
       "      <th>8</th>\n",
       "      <td>435</td>\n",
       "      <td>3492568302586660806842386856444503662583831103...</td>\n",
       "      <td>1.020124</td>\n",
       "      <td>0.461092</td>\n",
       "      <td>0.559032</td>\n",
       "    </tr>\n",
       "    <tr>\n",
       "      <th>5</th>\n",
       "      <td>493</td>\n",
       "      <td>1629065060950699000257933439287168591766043386...</td>\n",
       "      <td>1.840004</td>\n",
       "      <td>0.706910</td>\n",
       "      <td>1.133094</td>\n",
       "    </tr>\n",
       "    <tr>\n",
       "      <th>2</th>\n",
       "      <td>496</td>\n",
       "      <td>1975842185597201155604039420988101025292970922...</td>\n",
       "      <td>2.217217</td>\n",
       "      <td>1.235881</td>\n",
       "      <td>0.981336</td>\n",
       "    </tr>\n",
       "  </tbody>\n",
       "</table>\n",
       "</div>"
      ],
      "text/plain": [
       "   number                                          factorial  recur_time  \\\n",
       "0     137  5012888748274991661034926292112253883237205694...    0.264727   \n",
       "3     172  2134551080774388656290725701457338867300561593...    0.330182   \n",
       "7     233  9688098312403563764462819142711903273341070576...    0.362668   \n",
       "9     244  1406686158591095782582355424847327315104888551...    0.432971   \n",
       "6     303  8429835712576162669156835438871826823450494341...    0.573577   \n",
       "1     335  1156323337476057938975353804080109126849124676...    1.738670   \n",
       "4     355  6773767977667418360999114574273791421754222965...    0.923154   \n",
       "8     435  3492568302586660806842386856444503662583831103...    1.020124   \n",
       "5     493  1629065060950699000257933439287168591766043386...    1.840004   \n",
       "2     496  1975842185597201155604039420988101025292970922...    2.217217   \n",
       "\n",
       "   loop_time  time_diff  \n",
       "0   0.127515   0.137212  \n",
       "3   0.166303   0.163879  \n",
       "7   0.271516   0.091152  \n",
       "9   0.292364   0.140607  \n",
       "6   0.344727   0.228850  \n",
       "1   0.384485   1.354185  \n",
       "4   0.403394   0.519760  \n",
       "8   0.461092   0.559032  \n",
       "5   0.706910   1.133094  \n",
       "2   1.235881   0.981336  "
      ]
     },
     "execution_count": 7,
     "metadata": {},
     "output_type": "execute_result"
    }
   ],
   "source": [
    "df=pd.DataFrame({'number':array,'factorial':array_loop,'recur_time':array_recur_time,'loop_time':array_loop_time})\n",
    "df['time_diff']=df['recur_time']-df['loop_time']\n",
    "df=df.sort_values(by='number')\n",
    "df"
   ]
  },
  {
   "cell_type": "markdown",
   "metadata": {
    "Collapsed": "false"
   },
   "source": [
    "### 5. Use python matplotlib or seaborn to generate a graph that has number on the horizontal axis and with execution time in milliseconds on the vertical axis. The plot should show execution times of recursion and the loop."
   ]
  },
  {
   "cell_type": "code",
   "execution_count": 8,
   "metadata": {
    "Collapsed": "false"
   },
   "outputs": [
    {
     "data": {
      "image/png": "[encoded data removed]",
      "text/plain": [
       "<Figure size 432x288 with 1 Axes>"
      ]
     },
     "metadata": {},
     "output_type": "display_data"
    }
   ],
   "source": [
    "plt.style.use('ggplot')\n",
    "# sns.set_context('poster')\n",
    "\n",
    "plt.plot( 'number', 'recur_time', data=df, marker='o',linewidth=2,linestyle='solid')\n",
    "plt.plot( 'number', 'loop_time', data=df, marker='o',linewidth=2,linestyle='solid')\n",
    "plt.xlabel('number input into factorial functions')\n",
    "plt.ylabel('Execution Time (milliseconds)')\n",
    "plt.title('Fig 1: Factorial Calculation Execution Time\\n for Recursive & Iterative Functions')\n",
    "plt.legend()\n",
    "plt.show()\n",
    "plt.close()"
   ]
  },
  {
   "cell_type": "markdown",
   "metadata": {
    "Collapsed": "false"
   },
   "source": [
    "# Executive Summary"
   ]
  },
  {
   "cell_type": "markdown",
   "metadata": {
    "Collapsed": "false"
   },
   "source": [
    "In this assignment, we implemented a recursive algorithm to calculate the factorial of a number, and compared it to another function which calculated the factorial iteratively. We first defined the two functions, naming the recursive function \"fact\" and the iterative function \"fact_iter\". Next we created empty lists to store the output of the factorial function, and to store the time it took to calculate the factorial, for each of the two factorial functions. To calculate the execution time for each function, we implemented a for loop so each number in the original array could be looped through. NOTE: This for loop was only implemented to calculate execution times, and is separate from the function \"fact_iter\" which uses a for loop to calculate the factorial. \n",
    "\n",
    "We then organized the factorials and the associated execution times in a pandas DataFrame for both the recursive function and the iterative function. We also added a column for the time difference between the two functions. Next, we generated a graph, shown in Figure 1, with the number from the array on the horizontal axis and the execution time in milliseconds on the vertical axis, for both functions.  \n",
    "\n",
    "Figure 1 clearly shows that the iterative function performed faster than the recursive function, which is what we expected since the recursive function utilizes more memory during execution. The execution times for the iterative function increases as the numbers get larger, but for the recursive function, although the execution time does increase overall as the numbers get larger, there is some inconsistency in the middle of the graph, which could be due to overhead, or other processes running on the machine while the algorithm was running. The execution times also start out closer together for the two functions, and diverge more as the numbers get larger. "
   ]
  }
 ],
 "metadata": {
  "kernelspec": {
   "display_name": "Python 3",
   "language": "python",
   "name": "python3"
  },
  "language_info": {
   "codemirror_mode": {
    "name": "ipython",
    "version": 3
   },
   "file_extension": ".py",
   "mimetype": "text/x-python",
   "name": "python",
   "nbconvert_exporter": "python",
   "pygments_lexer": "ipython3",
   "version": "3.7.6"
  },
  "toc": {
   "base_numbering": 1,
   "nav_menu": {
    "height": "390.972px",
    "width": "403.993px"
   },
   "number_sections": true,
   "sideBar": true,
   "skip_h1_title": false,
   "title_cell": "Table of Contents",
   "title_sidebar": "Contents",
   "toc_cell": false,
   "toc_position": {},
   "toc_section_display": true,
   "toc_window_display": true
  },
  "varInspector": {
   "cols": {
    "lenName": 16,
    "lenType": 16,
    "lenVar": 40
   },
   "kernels_config": {
    "python": {
     "delete_cmd_postfix": "",
     "delete_cmd_prefix": "del ",
     "library": "var_list.py",
     "varRefreshCmd": "print(var_dic_list())"
    },
    "r": {
     "delete_cmd_postfix": ") ",
     "delete_cmd_prefix": "rm(",
     "library": "var_list.r",
     "varRefreshCmd": "cat(var_dic_list()) "
    }
   },
   "position": {
    "height": "422.4px",
    "left": "1016.93px",
    "right": "20px",
    "top": "242px",
    "width": "350.925px"
   },
   "types_to_exclude": [
    "module",
    "function",
    "builtin_function_or_method",
    "instance",
    "_Feature"
   ],
   "window_display": false
  }
 },
 "nbformat": 4,
 "nbformat_minor": 4
}
