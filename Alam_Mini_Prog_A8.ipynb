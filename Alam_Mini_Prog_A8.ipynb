{
 "cells": [
  {
   "cell_type": "markdown",
   "metadata": {
    "Collapsed": "false",
    "cell_style": "center"
   },
   "source": [
    "# **Implement a Greedy Algorithm**\n",
    "MSDS 432 Module 8\n",
    "\n",
    "Nameyeh Alam"
   ]
  },
  {
   "cell_type": "code",
   "execution_count": 1,
   "metadata": {
    "Collapsed": "false",
    "cell_style": "center",
    "scrolled": true
   },
   "outputs": [],
   "source": [
    "import numpy as np\n",
    "import pandas as pd \n",
    "import matplotlib.pyplot as plt\n",
    "import seaborn as sns\n",
    "import random\n",
    "import string\n",
    "import warnings\n",
    "warnings.filterwarnings(\"ignore\", category=Warning)\n",
    "import time"
   ]
  },
  {
   "cell_type": "markdown",
   "metadata": {
    "Collapsed": "false"
   },
   "source": [
    "#### 1. Scenario\n",
    "Assume you run a small security company that provides physical security services in the area and you recently won a new contract in the area to provide 24x7 security to a small building under construction.  For simplicity we will design the solution for only 24 hours, but if you want to go above and beyond, feel free to write code that handles the 24x7 scenario as well.\n",
    "\n"
   ]
  },
  {
   "cell_type": "markdown",
   "metadata": {
    "Collapsed": "false"
   },
   "source": [
    "#### 2. Security Guard Availability (n=6)\n",
    "You have 6 security guards available at the moment who you can assign to this building but your goal is to make more money out of this contract and spend less in wages (hence greedy!)"
   ]
  },
  {
   "cell_type": "code",
   "execution_count": 2,
   "metadata": {
    "Collapsed": "false"
   },
   "outputs": [],
   "source": [
    "guards_list = ['guard1', 'guard2', 'guard3', 'guard4', 'guard5', 'guard6']"
   ]
  },
  {
   "cell_type": "markdown",
   "metadata": {
    "Collapsed": "false"
   },
   "source": [
    "#### 3. The cost/wage structure is as follows:\n",
    "- People working less than or equal to 8 hours will be paid \\\\$15/hr \n",
    "- Anyone working overtime (>8 hours) will be paid an additional \\\\$5, i.e. \\\\$20/hr"
   ]
  },
  {
   "cell_type": "code",
   "execution_count": 3,
   "metadata": {
    "Collapsed": "false"
   },
   "outputs": [],
   "source": [
    "hourly_pay = 15 \n",
    "overtime_pay = 15 + 5 \n",
    "hrs_to_schedule = 24\n",
    "hrs_b4_overtime = 8 "
   ]
  },
  {
   "cell_type": "markdown",
   "metadata": {
    "Collapsed": "false"
   },
   "source": [
    "#### 4. Create a greedy algorithm\n",
    "Create a greedy algorithm (come up with any algorithm of your own) that finds you the most cost effective solution e.g. Should we appoint 2 security guards for 12 hours each? Or 3 of them for 8 hours each? Or 4 for 6 hours each? Or all 6 for 4 hours each? Or any other combination?"
   ]
  },
  {
   "cell_type": "code",
   "execution_count": 4,
   "metadata": {
    "Collapsed": "false"
   },
   "outputs": [
    {
     "data": {
      "text/plain": [
       "[0, 0, 0, 0, 0, 0]"
      ]
     },
     "execution_count": 4,
     "metadata": {},
     "output_type": "execute_result"
    }
   ],
   "source": [
    "# create empty array to hold guard hours, \n",
    "# populate with zeros for each guard\n",
    "guard_hrs_list = []\n",
    "for guard in guards_list: \n",
    "    hours = 0 \n",
    "    guard_hrs_list.append(hours)\n",
    "guard_hrs_list"
   ]
  },
  {
   "cell_type": "code",
   "execution_count": 5,
   "metadata": {
    "Collapsed": "false"
   },
   "outputs": [
    {
     "data": {
      "text/plain": [
       "0"
      ]
     },
     "execution_count": 5,
     "metadata": {},
     "output_type": "execute_result"
    }
   ],
   "source": [
    "# def function to calc total cost of shift \n",
    "def shift_cost(hrs_list):\n",
    "    shift_cost = 0\n",
    "    for hr in hrs_list:\n",
    "        if hr <= hrs_b4_overtime:\n",
    "            hrly_pay = hr*hourly_pay\n",
    "        else:\n",
    "            hrly_pay = (hourly_pay*8) + (overtime_pay*(hr-8))\n",
    "        shift_cost += hrly_pay\n",
    "    return shift_cost  \n",
    "# test function with zeros list\n",
    "shift_cost(guard_hrs_list)"
   ]
  },
  {
   "cell_type": "markdown",
   "metadata": {
    "Collapsed": "false"
   },
   "source": [
    "For our greedy approach, we want to minimize the number of overtime hours, which means minimizing the number of hours per guard. So we will try to assign hours to guards equally, by iterating through the guard_hrs_list and adding one hour to each guard until the total hours in the array = 24. "
   ]
  },
  {
   "cell_type": "code",
   "execution_count": 6,
   "metadata": {
    "Collapsed": "false"
   },
   "outputs": [
    {
     "name": "stdout",
     "output_type": "stream",
     "text": [
      "[4, 4, 4, 4, 4, 4]\n",
      "360\n"
     ]
    }
   ],
   "source": [
    "i = 0\n",
    "while sum(guard_hrs_list) != hrs_to_schedule:\n",
    "    guard_hrs_list[i] += 1\n",
    "    i = (i + 1) % len(guard_hrs_list)\n",
    "print(guard_hrs_list)\n",
    "greedy_solution = shift_cost(guard_hrs_list)\n",
    "print(greedy_solution)"
   ]
  },
  {
   "cell_type": "markdown",
   "metadata": {
    "Collapsed": "false"
   },
   "source": [
    "check solution by generating combinations of guard schedules, limiting each guard to 8 hrs, compare minimum of combo_costs to our solution "
   ]
  },
  {
   "cell_type": "code",
   "execution_count": 7,
   "metadata": {
    "Collapsed": "false"
   },
   "outputs": [],
   "source": [
    "import itertools\n",
    "numbers=np.arange(1,9)\n",
    "combos = [seq for i in range(7, 0, -1) for seq in itertools.combinations_with_replacement(numbers, i) if sum(seq) == 24 and len(seq)<=6]\n",
    "shift_combos = [list(x) for x in combos]\n",
    "shift_combos[0:5]\n",
    "combo_costs_list = []\n",
    "shift_combo = []\n",
    "len_shift_combo = []\n",
    "for shift in shift_combos: \n",
    "    shift_combo.append(shift)\n",
    "    len_shift_combo.append(len(shift))\n",
    "    combo_costs = shift_cost(shift)\n",
    "    combo_costs_list.append(combo_costs)"
   ]
  },
  {
   "cell_type": "code",
   "execution_count": 8,
   "metadata": {
    "Collapsed": "false"
   },
   "outputs": [
    {
     "name": "stdout",
     "output_type": "stream",
     "text": [
      "greedy solution is equal to optimal solution from minimum of combo_costs!\n",
      "greedy solution: $360\n",
      "optimal solution from list of combos: $360\n"
     ]
    }
   ],
   "source": [
    "if (np.min(combo_costs_list)) == greedy_solution:\n",
    "    print(\"greedy solution is equal to optimal solution from minimum of combo_costs!\")\n",
    "    print((\"greedy solution: $\")+str(greedy_solution))\n",
    "    print((\"optimal solution from list of combos: $\")+str((np.min(combo_costs_list))))\n",
    "else: \n",
    "    print(\"greedy solution is NOT equal to optimal solution from minimum of combo_costs\")"
   ]
  },
  {
   "cell_type": "code",
   "execution_count": 9,
   "metadata": {
    "Collapsed": "false"
   },
   "outputs": [
    {
     "data": {
      "text/html": [
       "<div>\n",
       "<style scoped>\n",
       "    .dataframe tbody tr th:only-of-type {\n",
       "        vertical-align: middle;\n",
       "    }\n",
       "\n",
       "    .dataframe tbody tr th {\n",
       "        vertical-align: top;\n",
       "    }\n",
       "\n",
       "    .dataframe thead th {\n",
       "        text-align: right;\n",
       "    }\n",
       "</style>\n",
       "<table border=\"1\" class=\"dataframe\">\n",
       "  <thead>\n",
       "    <tr style=\"text-align: right;\">\n",
       "      <th></th>\n",
       "      <th>shift_combo</th>\n",
       "      <th>number of guards</th>\n",
       "      <th>total_shift_cost</th>\n",
       "    </tr>\n",
       "  </thead>\n",
       "  <tbody>\n",
       "    <tr>\n",
       "      <th>0</th>\n",
       "      <td>[1, 1, 1, 5, 8, 8]</td>\n",
       "      <td>6</td>\n",
       "      <td>360</td>\n",
       "    </tr>\n",
       "    <tr>\n",
       "      <th>1</th>\n",
       "      <td>[1, 1, 1, 6, 7, 8]</td>\n",
       "      <td>6</td>\n",
       "      <td>360</td>\n",
       "    </tr>\n",
       "    <tr>\n",
       "      <th>2</th>\n",
       "      <td>[1, 1, 1, 7, 7, 7]</td>\n",
       "      <td>6</td>\n",
       "      <td>360</td>\n",
       "    </tr>\n",
       "    <tr>\n",
       "      <th>3</th>\n",
       "      <td>[1, 1, 2, 4, 8, 8]</td>\n",
       "      <td>6</td>\n",
       "      <td>360</td>\n",
       "    </tr>\n",
       "    <tr>\n",
       "      <th>4</th>\n",
       "      <td>[1, 1, 2, 5, 7, 8]</td>\n",
       "      <td>6</td>\n",
       "      <td>360</td>\n",
       "    </tr>\n",
       "    <tr>\n",
       "      <th>5</th>\n",
       "      <td>[1, 1, 2, 6, 6, 8]</td>\n",
       "      <td>6</td>\n",
       "      <td>360</td>\n",
       "    </tr>\n",
       "    <tr>\n",
       "      <th>6</th>\n",
       "      <td>[1, 1, 2, 6, 7, 7]</td>\n",
       "      <td>6</td>\n",
       "      <td>360</td>\n",
       "    </tr>\n",
       "    <tr>\n",
       "      <th>7</th>\n",
       "      <td>[1, 1, 3, 3, 8, 8]</td>\n",
       "      <td>6</td>\n",
       "      <td>360</td>\n",
       "    </tr>\n",
       "    <tr>\n",
       "      <th>8</th>\n",
       "      <td>[1, 1, 3, 4, 7, 8]</td>\n",
       "      <td>6</td>\n",
       "      <td>360</td>\n",
       "    </tr>\n",
       "    <tr>\n",
       "      <th>9</th>\n",
       "      <td>[1, 1, 3, 5, 6, 8]</td>\n",
       "      <td>6</td>\n",
       "      <td>360</td>\n",
       "    </tr>\n",
       "    <tr>\n",
       "      <th>10</th>\n",
       "      <td>[1, 1, 3, 5, 7, 7]</td>\n",
       "      <td>6</td>\n",
       "      <td>360</td>\n",
       "    </tr>\n",
       "    <tr>\n",
       "      <th>11</th>\n",
       "      <td>[1, 1, 3, 6, 6, 7]</td>\n",
       "      <td>6</td>\n",
       "      <td>360</td>\n",
       "    </tr>\n",
       "    <tr>\n",
       "      <th>12</th>\n",
       "      <td>[1, 1, 4, 4, 6, 8]</td>\n",
       "      <td>6</td>\n",
       "      <td>360</td>\n",
       "    </tr>\n",
       "    <tr>\n",
       "      <th>13</th>\n",
       "      <td>[1, 1, 4, 4, 7, 7]</td>\n",
       "      <td>6</td>\n",
       "      <td>360</td>\n",
       "    </tr>\n",
       "    <tr>\n",
       "      <th>14</th>\n",
       "      <td>[1, 1, 4, 5, 5, 8]</td>\n",
       "      <td>6</td>\n",
       "      <td>360</td>\n",
       "    </tr>\n",
       "    <tr>\n",
       "      <th>15</th>\n",
       "      <td>[1, 1, 4, 5, 6, 7]</td>\n",
       "      <td>6</td>\n",
       "      <td>360</td>\n",
       "    </tr>\n",
       "    <tr>\n",
       "      <th>16</th>\n",
       "      <td>[1, 1, 4, 6, 6, 6]</td>\n",
       "      <td>6</td>\n",
       "      <td>360</td>\n",
       "    </tr>\n",
       "    <tr>\n",
       "      <th>17</th>\n",
       "      <td>[1, 1, 5, 5, 5, 7]</td>\n",
       "      <td>6</td>\n",
       "      <td>360</td>\n",
       "    </tr>\n",
       "    <tr>\n",
       "      <th>18</th>\n",
       "      <td>[1, 1, 5, 5, 6, 6]</td>\n",
       "      <td>6</td>\n",
       "      <td>360</td>\n",
       "    </tr>\n",
       "    <tr>\n",
       "      <th>19</th>\n",
       "      <td>[1, 2, 2, 3, 8, 8]</td>\n",
       "      <td>6</td>\n",
       "      <td>360</td>\n",
       "    </tr>\n",
       "    <tr>\n",
       "      <th>20</th>\n",
       "      <td>[1, 2, 2, 4, 7, 8]</td>\n",
       "      <td>6</td>\n",
       "      <td>360</td>\n",
       "    </tr>\n",
       "    <tr>\n",
       "      <th>21</th>\n",
       "      <td>[1, 2, 2, 5, 6, 8]</td>\n",
       "      <td>6</td>\n",
       "      <td>360</td>\n",
       "    </tr>\n",
       "    <tr>\n",
       "      <th>22</th>\n",
       "      <td>[1, 2, 2, 5, 7, 7]</td>\n",
       "      <td>6</td>\n",
       "      <td>360</td>\n",
       "    </tr>\n",
       "    <tr>\n",
       "      <th>23</th>\n",
       "      <td>[1, 2, 2, 6, 6, 7]</td>\n",
       "      <td>6</td>\n",
       "      <td>360</td>\n",
       "    </tr>\n",
       "    <tr>\n",
       "      <th>24</th>\n",
       "      <td>[1, 2, 3, 3, 7, 8]</td>\n",
       "      <td>6</td>\n",
       "      <td>360</td>\n",
       "    </tr>\n",
       "    <tr>\n",
       "      <th>25</th>\n",
       "      <td>[1, 2, 3, 4, 6, 8]</td>\n",
       "      <td>6</td>\n",
       "      <td>360</td>\n",
       "    </tr>\n",
       "    <tr>\n",
       "      <th>26</th>\n",
       "      <td>[1, 2, 3, 4, 7, 7]</td>\n",
       "      <td>6</td>\n",
       "      <td>360</td>\n",
       "    </tr>\n",
       "    <tr>\n",
       "      <th>27</th>\n",
       "      <td>[1, 2, 3, 5, 5, 8]</td>\n",
       "      <td>6</td>\n",
       "      <td>360</td>\n",
       "    </tr>\n",
       "    <tr>\n",
       "      <th>28</th>\n",
       "      <td>[1, 2, 3, 5, 6, 7]</td>\n",
       "      <td>6</td>\n",
       "      <td>360</td>\n",
       "    </tr>\n",
       "    <tr>\n",
       "      <th>29</th>\n",
       "      <td>[1, 2, 3, 6, 6, 6]</td>\n",
       "      <td>6</td>\n",
       "      <td>360</td>\n",
       "    </tr>\n",
       "    <tr>\n",
       "      <th>...</th>\n",
       "      <td>...</td>\n",
       "      <td>...</td>\n",
       "      <td>...</td>\n",
       "    </tr>\n",
       "    <tr>\n",
       "      <th>121</th>\n",
       "      <td>[3, 3, 4, 6, 8]</td>\n",
       "      <td>5</td>\n",
       "      <td>360</td>\n",
       "    </tr>\n",
       "    <tr>\n",
       "      <th>122</th>\n",
       "      <td>[3, 3, 4, 7, 7]</td>\n",
       "      <td>5</td>\n",
       "      <td>360</td>\n",
       "    </tr>\n",
       "    <tr>\n",
       "      <th>123</th>\n",
       "      <td>[3, 3, 5, 5, 8]</td>\n",
       "      <td>5</td>\n",
       "      <td>360</td>\n",
       "    </tr>\n",
       "    <tr>\n",
       "      <th>124</th>\n",
       "      <td>[3, 3, 5, 6, 7]</td>\n",
       "      <td>5</td>\n",
       "      <td>360</td>\n",
       "    </tr>\n",
       "    <tr>\n",
       "      <th>125</th>\n",
       "      <td>[3, 3, 6, 6, 6]</td>\n",
       "      <td>5</td>\n",
       "      <td>360</td>\n",
       "    </tr>\n",
       "    <tr>\n",
       "      <th>126</th>\n",
       "      <td>[3, 4, 4, 5, 8]</td>\n",
       "      <td>5</td>\n",
       "      <td>360</td>\n",
       "    </tr>\n",
       "    <tr>\n",
       "      <th>127</th>\n",
       "      <td>[3, 4, 4, 6, 7]</td>\n",
       "      <td>5</td>\n",
       "      <td>360</td>\n",
       "    </tr>\n",
       "    <tr>\n",
       "      <th>128</th>\n",
       "      <td>[3, 4, 5, 5, 7]</td>\n",
       "      <td>5</td>\n",
       "      <td>360</td>\n",
       "    </tr>\n",
       "    <tr>\n",
       "      <th>129</th>\n",
       "      <td>[3, 4, 5, 6, 6]</td>\n",
       "      <td>5</td>\n",
       "      <td>360</td>\n",
       "    </tr>\n",
       "    <tr>\n",
       "      <th>130</th>\n",
       "      <td>[3, 5, 5, 5, 6]</td>\n",
       "      <td>5</td>\n",
       "      <td>360</td>\n",
       "    </tr>\n",
       "    <tr>\n",
       "      <th>131</th>\n",
       "      <td>[4, 4, 4, 4, 8]</td>\n",
       "      <td>5</td>\n",
       "      <td>360</td>\n",
       "    </tr>\n",
       "    <tr>\n",
       "      <th>132</th>\n",
       "      <td>[4, 4, 4, 5, 7]</td>\n",
       "      <td>5</td>\n",
       "      <td>360</td>\n",
       "    </tr>\n",
       "    <tr>\n",
       "      <th>133</th>\n",
       "      <td>[4, 4, 4, 6, 6]</td>\n",
       "      <td>5</td>\n",
       "      <td>360</td>\n",
       "    </tr>\n",
       "    <tr>\n",
       "      <th>134</th>\n",
       "      <td>[4, 4, 5, 5, 6]</td>\n",
       "      <td>5</td>\n",
       "      <td>360</td>\n",
       "    </tr>\n",
       "    <tr>\n",
       "      <th>135</th>\n",
       "      <td>[4, 5, 5, 5, 5]</td>\n",
       "      <td>5</td>\n",
       "      <td>360</td>\n",
       "    </tr>\n",
       "    <tr>\n",
       "      <th>136</th>\n",
       "      <td>[1, 7, 8, 8]</td>\n",
       "      <td>4</td>\n",
       "      <td>360</td>\n",
       "    </tr>\n",
       "    <tr>\n",
       "      <th>137</th>\n",
       "      <td>[2, 6, 8, 8]</td>\n",
       "      <td>4</td>\n",
       "      <td>360</td>\n",
       "    </tr>\n",
       "    <tr>\n",
       "      <th>138</th>\n",
       "      <td>[2, 7, 7, 8]</td>\n",
       "      <td>4</td>\n",
       "      <td>360</td>\n",
       "    </tr>\n",
       "    <tr>\n",
       "      <th>139</th>\n",
       "      <td>[3, 5, 8, 8]</td>\n",
       "      <td>4</td>\n",
       "      <td>360</td>\n",
       "    </tr>\n",
       "    <tr>\n",
       "      <th>140</th>\n",
       "      <td>[3, 6, 7, 8]</td>\n",
       "      <td>4</td>\n",
       "      <td>360</td>\n",
       "    </tr>\n",
       "    <tr>\n",
       "      <th>141</th>\n",
       "      <td>[3, 7, 7, 7]</td>\n",
       "      <td>4</td>\n",
       "      <td>360</td>\n",
       "    </tr>\n",
       "    <tr>\n",
       "      <th>142</th>\n",
       "      <td>[4, 4, 8, 8]</td>\n",
       "      <td>4</td>\n",
       "      <td>360</td>\n",
       "    </tr>\n",
       "    <tr>\n",
       "      <th>143</th>\n",
       "      <td>[4, 5, 7, 8]</td>\n",
       "      <td>4</td>\n",
       "      <td>360</td>\n",
       "    </tr>\n",
       "    <tr>\n",
       "      <th>144</th>\n",
       "      <td>[4, 6, 6, 8]</td>\n",
       "      <td>4</td>\n",
       "      <td>360</td>\n",
       "    </tr>\n",
       "    <tr>\n",
       "      <th>145</th>\n",
       "      <td>[4, 6, 7, 7]</td>\n",
       "      <td>4</td>\n",
       "      <td>360</td>\n",
       "    </tr>\n",
       "    <tr>\n",
       "      <th>146</th>\n",
       "      <td>[5, 5, 6, 8]</td>\n",
       "      <td>4</td>\n",
       "      <td>360</td>\n",
       "    </tr>\n",
       "    <tr>\n",
       "      <th>147</th>\n",
       "      <td>[5, 5, 7, 7]</td>\n",
       "      <td>4</td>\n",
       "      <td>360</td>\n",
       "    </tr>\n",
       "    <tr>\n",
       "      <th>148</th>\n",
       "      <td>[5, 6, 6, 7]</td>\n",
       "      <td>4</td>\n",
       "      <td>360</td>\n",
       "    </tr>\n",
       "    <tr>\n",
       "      <th>149</th>\n",
       "      <td>[6, 6, 6, 6]</td>\n",
       "      <td>4</td>\n",
       "      <td>360</td>\n",
       "    </tr>\n",
       "    <tr>\n",
       "      <th>150</th>\n",
       "      <td>[8, 8, 8]</td>\n",
       "      <td>3</td>\n",
       "      <td>360</td>\n",
       "    </tr>\n",
       "  </tbody>\n",
       "</table>\n",
       "<p>151 rows × 3 columns</p>\n",
       "</div>"
      ],
      "text/plain": [
       "            shift_combo  number of guards  total_shift_cost\n",
       "0    [1, 1, 1, 5, 8, 8]                 6               360\n",
       "1    [1, 1, 1, 6, 7, 8]                 6               360\n",
       "2    [1, 1, 1, 7, 7, 7]                 6               360\n",
       "3    [1, 1, 2, 4, 8, 8]                 6               360\n",
       "4    [1, 1, 2, 5, 7, 8]                 6               360\n",
       "5    [1, 1, 2, 6, 6, 8]                 6               360\n",
       "6    [1, 1, 2, 6, 7, 7]                 6               360\n",
       "7    [1, 1, 3, 3, 8, 8]                 6               360\n",
       "8    [1, 1, 3, 4, 7, 8]                 6               360\n",
       "9    [1, 1, 3, 5, 6, 8]                 6               360\n",
       "10   [1, 1, 3, 5, 7, 7]                 6               360\n",
       "11   [1, 1, 3, 6, 6, 7]                 6               360\n",
       "12   [1, 1, 4, 4, 6, 8]                 6               360\n",
       "13   [1, 1, 4, 4, 7, 7]                 6               360\n",
       "14   [1, 1, 4, 5, 5, 8]                 6               360\n",
       "15   [1, 1, 4, 5, 6, 7]                 6               360\n",
       "16   [1, 1, 4, 6, 6, 6]                 6               360\n",
       "17   [1, 1, 5, 5, 5, 7]                 6               360\n",
       "18   [1, 1, 5, 5, 6, 6]                 6               360\n",
       "19   [1, 2, 2, 3, 8, 8]                 6               360\n",
       "20   [1, 2, 2, 4, 7, 8]                 6               360\n",
       "21   [1, 2, 2, 5, 6, 8]                 6               360\n",
       "22   [1, 2, 2, 5, 7, 7]                 6               360\n",
       "23   [1, 2, 2, 6, 6, 7]                 6               360\n",
       "24   [1, 2, 3, 3, 7, 8]                 6               360\n",
       "25   [1, 2, 3, 4, 6, 8]                 6               360\n",
       "26   [1, 2, 3, 4, 7, 7]                 6               360\n",
       "27   [1, 2, 3, 5, 5, 8]                 6               360\n",
       "28   [1, 2, 3, 5, 6, 7]                 6               360\n",
       "29   [1, 2, 3, 6, 6, 6]                 6               360\n",
       "..                  ...               ...               ...\n",
       "121     [3, 3, 4, 6, 8]                 5               360\n",
       "122     [3, 3, 4, 7, 7]                 5               360\n",
       "123     [3, 3, 5, 5, 8]                 5               360\n",
       "124     [3, 3, 5, 6, 7]                 5               360\n",
       "125     [3, 3, 6, 6, 6]                 5               360\n",
       "126     [3, 4, 4, 5, 8]                 5               360\n",
       "127     [3, 4, 4, 6, 7]                 5               360\n",
       "128     [3, 4, 5, 5, 7]                 5               360\n",
       "129     [3, 4, 5, 6, 6]                 5               360\n",
       "130     [3, 5, 5, 5, 6]                 5               360\n",
       "131     [4, 4, 4, 4, 8]                 5               360\n",
       "132     [4, 4, 4, 5, 7]                 5               360\n",
       "133     [4, 4, 4, 6, 6]                 5               360\n",
       "134     [4, 4, 5, 5, 6]                 5               360\n",
       "135     [4, 5, 5, 5, 5]                 5               360\n",
       "136        [1, 7, 8, 8]                 4               360\n",
       "137        [2, 6, 8, 8]                 4               360\n",
       "138        [2, 7, 7, 8]                 4               360\n",
       "139        [3, 5, 8, 8]                 4               360\n",
       "140        [3, 6, 7, 8]                 4               360\n",
       "141        [3, 7, 7, 7]                 4               360\n",
       "142        [4, 4, 8, 8]                 4               360\n",
       "143        [4, 5, 7, 8]                 4               360\n",
       "144        [4, 6, 6, 8]                 4               360\n",
       "145        [4, 6, 7, 7]                 4               360\n",
       "146        [5, 5, 6, 8]                 4               360\n",
       "147        [5, 5, 7, 7]                 4               360\n",
       "148        [5, 6, 6, 7]                 4               360\n",
       "149        [6, 6, 6, 6]                 4               360\n",
       "150           [8, 8, 8]                 3               360\n",
       "\n",
       "[151 rows x 3 columns]"
      ]
     },
     "execution_count": 9,
     "metadata": {},
     "output_type": "execute_result"
    }
   ],
   "source": [
    "zipped_data = list(zip(shift_combo,len_shift_combo, combo_costs_list))\n",
    "pd.DataFrame(zipped_data, columns=['shift_combo','number of guards','total_shift_cost'])"
   ]
  },
  {
   "cell_type": "code",
   "execution_count": 10,
   "metadata": {
    "Collapsed": "false"
   },
   "outputs": [
    {
     "data": {
      "text/html": [
       "<div>\n",
       "<style scoped>\n",
       "    .dataframe tbody tr th:only-of-type {\n",
       "        vertical-align: middle;\n",
       "    }\n",
       "\n",
       "    .dataframe tbody tr th {\n",
       "        vertical-align: top;\n",
       "    }\n",
       "\n",
       "    .dataframe thead th {\n",
       "        text-align: right;\n",
       "    }\n",
       "</style>\n",
       "<table border=\"1\" class=\"dataframe\">\n",
       "  <thead>\n",
       "    <tr style=\"text-align: right;\">\n",
       "      <th></th>\n",
       "      <th>guard</th>\n",
       "      <th>hours</th>\n",
       "      <th>pay_rate</th>\n",
       "      <th>total_pay_per_guard</th>\n",
       "    </tr>\n",
       "  </thead>\n",
       "  <tbody>\n",
       "    <tr>\n",
       "      <th>0</th>\n",
       "      <td>guard1</td>\n",
       "      <td>4</td>\n",
       "      <td>15</td>\n",
       "      <td>60</td>\n",
       "    </tr>\n",
       "    <tr>\n",
       "      <th>1</th>\n",
       "      <td>guard2</td>\n",
       "      <td>4</td>\n",
       "      <td>15</td>\n",
       "      <td>60</td>\n",
       "    </tr>\n",
       "    <tr>\n",
       "      <th>2</th>\n",
       "      <td>guard3</td>\n",
       "      <td>4</td>\n",
       "      <td>15</td>\n",
       "      <td>60</td>\n",
       "    </tr>\n",
       "    <tr>\n",
       "      <th>3</th>\n",
       "      <td>guard4</td>\n",
       "      <td>4</td>\n",
       "      <td>15</td>\n",
       "      <td>60</td>\n",
       "    </tr>\n",
       "    <tr>\n",
       "      <th>4</th>\n",
       "      <td>guard5</td>\n",
       "      <td>4</td>\n",
       "      <td>15</td>\n",
       "      <td>60</td>\n",
       "    </tr>\n",
       "    <tr>\n",
       "      <th>5</th>\n",
       "      <td>guard6</td>\n",
       "      <td>4</td>\n",
       "      <td>15</td>\n",
       "      <td>60</td>\n",
       "    </tr>\n",
       "    <tr>\n",
       "      <th>Totals For Shift:</th>\n",
       "      <td></td>\n",
       "      <td>24</td>\n",
       "      <td></td>\n",
       "      <td>$360</td>\n",
       "    </tr>\n",
       "  </tbody>\n",
       "</table>\n",
       "</div>"
      ],
      "text/plain": [
       "                     guard  hours pay_rate total_pay_per_guard\n",
       "0                   guard1      4       15                  60\n",
       "1                   guard2      4       15                  60\n",
       "2                   guard3      4       15                  60\n",
       "3                   guard4      4       15                  60\n",
       "4                   guard5      4       15                  60\n",
       "5                   guard6      4       15                  60\n",
       "Totals For Shift:              24                         $360"
      ]
     },
     "execution_count": 10,
     "metadata": {},
     "output_type": "execute_result"
    }
   ],
   "source": [
    "df=pd.DataFrame(list(zip(guards_list,guard_hrs_list)),columns=['guard','hours'])\n",
    "df['pay_rate'] = hourly_pay\n",
    "df['total_pay_per_guard'] = df['hours']*df['pay_rate']\n",
    "df.loc['Totals For Shift: ']= [\"\",df['hours'].sum(),\"\",str(\"$\"+str(df['total_pay_per_guard'].sum()))]\n",
    "df"
   ]
  },
  {
   "cell_type": "markdown",
   "metadata": {
    "Collapsed": "false"
   },
   "source": [
    "As seen in the dataframe of different combinations of shifts above, our solution of $360 and 4 hours for each guard is ONE optimal solution. "
   ]
  },
  {
   "cell_type": "markdown",
   "metadata": {
    "Collapsed": "false"
   },
   "source": [
    "## Executive Summary\n",
    "---\n",
    "\n",
    "#### Explain your algorithm in detail.  How is it greedy?\n",
    "The algorithm implemented to find the solution is \"greedy\" in the sense that we wanted to minimize the number of overtime hours, so that we could accomplish our goal of making more money and spending less in guard salaries. We knew we had six guards available, so we minimized overtime in the simplest way by assigning hours to all guards, minimizing the number of hours per guard. We assigned hours to guards in increments of one hour until we had assigned a total of 24 hours. Choosing one-hour increments was a way to locally-optimize and ensure that each guard worked the minimum number of hours possible. \n",
    "\n",
    "#### What is the complexity of your solution?\n",
    "There is minimal complexity associated with this solution, since we decided to take the simplest approach and incrementally assign hours to all six guards. To add more complexity, we could specify a maximum hour limit per guard per shift, or add other constraints and expand the algorithm to schedule for the entire week instead of just 24 hours. \n",
    "\n",
    "#### Did the greedy algorithm provide the best solution or could there be an alternative/better solution to your problem?  Why or why not?\n",
    "The greedy algorithm successfully provided a single optimal solution, but we also reviewed other alternative solutions to the problem. The alternative solutions had the same minimum cost as our optimal solution, but there are many different combinations to schedule the six guards instead of the equal hours we assigned. For example, if we wanted to limit the solution to the least number of guards, then our solution would no longer be a \"best\" solution and we'd have to rewrite the algorithm with this additional requirement. \n",
    "\n",
    "#### If the scenario had different values for the inputs would your algorithm still be successful?  Eg. more than 24 hours, higher overtime, shorter shifts, or values that don't factor so nicely.  Why or why not?  What things would change the optimal output?\n",
    "\n",
    "This algorithm would not be successful if the input values changed. Increasing scheduling window to more than 24 hours would introduce additional problems that we didn't account for in the simple solution. We iterated through one array to schedule for 24 hours, which would need to be changed and nested into a loop to account for separate 24 hour increments. We'd have to add logic to account for maximum hours per shift, limiting to shorter shifts, and minimum time between shifts if we scheduled for the week. \n",
    "\n",
    "#### If you were not constrained to a greedy algorithm, what approaches would you take to solve the problem?  \n",
    "\n",
    "If not constrained to a greedy algorithm, I think I would still choose a greedy approach, since I wouldn't want to waste time trying to find the \"perfect\" solution when our optimal/good solution works just fine. "
   ]
  },
  {
   "cell_type": "code",
   "execution_count": null,
   "metadata": {
    "Collapsed": "false"
   },
   "outputs": [],
   "source": []
  }
 ],
 "metadata": {
  "kernelspec": {
   "display_name": "Python [conda env:py37]",
   "language": "python",
   "name": "conda-env-py37-py"
  },
  "language_info": {
   "codemirror_mode": {
    "name": "ipython",
    "version": 3
   },
   "file_extension": ".py",
   "mimetype": "text/x-python",
   "name": "python",
   "nbconvert_exporter": "python",
   "pygments_lexer": "ipython3",
   "version": "3.7.7"
  },
  "toc": {
   "base_numbering": 1,
   "nav_menu": {
    "height": "390.972px",
    "width": "403.993px"
   },
   "number_sections": true,
   "sideBar": true,
   "skip_h1_title": false,
   "title_cell": "Table of Contents",
   "title_sidebar": "Contents",
   "toc_cell": false,
   "toc_position": {},
   "toc_section_display": true,
   "toc_window_display": false
  },
  "varInspector": {
   "cols": {
    "lenName": 16,
    "lenType": 16,
    "lenVar": 40
   },
   "kernels_config": {
    "python": {
     "delete_cmd_postfix": "",
     "delete_cmd_prefix": "del ",
     "library": "var_list.py",
     "varRefreshCmd": "print(var_dic_list())"
    },
    "r": {
     "delete_cmd_postfix": ") ",
     "delete_cmd_prefix": "rm(",
     "library": "var_list.r",
     "varRefreshCmd": "cat(var_dic_list()) "
    }
   },
   "position": {
    "height": "422.4px",
    "left": "1016.93px",
    "right": "20px",
    "top": "242px",
    "width": "350.925px"
   },
   "types_to_exclude": [
    "module",
    "function",
    "builtin_function_or_method",
    "instance",
    "_Feature"
   ],
   "window_display": false
  }
 },
 "nbformat": 4,
 "nbformat_minor": 4
}
