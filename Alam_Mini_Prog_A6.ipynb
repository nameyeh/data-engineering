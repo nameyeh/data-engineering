{
 "cells": [
  {
   "cell_type": "markdown",
   "metadata": {
    "cell_style": "center"
   },
   "source": [
    "# **Implement a Breadth-first Search Algorithm**\n",
    "MSDS 432 Module 6\n",
    "\n",
    "Nameyeh Alam"
   ]
  },
  {
   "cell_type": "code",
   "execution_count": 1,
   "metadata": {
    "cell_style": "center",
    "scrolled": true
   },
   "outputs": [],
   "source": [
    "import numpy as np\n",
    "import pandas as pd \n",
    "import matplotlib.pyplot as plt\n",
    "import seaborn as sns\n",
    "import random\n",
    "import string\n",
    "import warnings\n",
    "warnings.filterwarnings(\"ignore\", category=Warning)\n",
    "import time"
   ]
  },
  {
   "cell_type": "markdown",
   "metadata": {},
   "source": [
    "#### 1. Create a five level 'connections' graph (all unique, no duplicates)\n",
    "- The first level should have five people and each person in first level should have five connections (they can be exclusive to one person or shared with other members on the same level, but all five should be unique, no duplicates)\n",
    "- Each person in the second level should have five connections (they can be exclusive to one person or shared with other members on the same level, but all five should be unique, no duplicates)\n",
    "- Continue the same for third, fourth, and fifth levels\n",
    "- There should be no reverse connections (i.e. first level can connect to second level but second cannot have any reverse connection with the first, and so on for 3rd, 4th, and 5th levels)"
   ]
  },
  {
   "cell_type": "code",
   "execution_count": 2,
   "metadata": {},
   "outputs": [],
   "source": [
    "graph = {}\n",
    "# level one \n",
    "graph[\"you\"] = [\"jake\", \"mallory\", \"donna\", \"phoebe\", \"jon\"]\n",
    "\n",
    "graph[\"jake\"] = [\"amy\",\"rosa\",\"gina\",\"boyle\",\"holt\"]\n",
    "graph[\"mallory\"] = [\"amy\",\"rosa\",\"gina\",\"boyle\",\"holt\"]\n",
    "graph[\"donna\"] = [\"amy\",\"rosa\",\"gina\",\"boyle\",\"holt\"]\n",
    "graph[\"phoebe\"] = [\"amy\",\"rosa\",\"gina\",\"boyle\",\"holt\"]\n",
    "graph[\"jon\"] = [\"amy\",\"rosa\",\"gina\",\"boyle\",\"holt\"]\n",
    "# level two\n",
    "graph[\"amy\"] = [\"grace\", \"frankie\",\"brianna\",\"bud\",\"coyote\"]\n",
    "graph[\"rosa\"] = [\"grace\", \"frankie\",\"brianna\",\"bud\",\"coyote\"]\n",
    "graph[\"gina\"] = [\"grace\", \"frankie\",\"brianna\",\"bud\",\"coyote\"]\n",
    "graph[\"boyle\"] = [\"grace\", \"frankie\",\"brianna\",\"bud\",\"coyote\"]\n",
    "graph[\"holt\"] = [\"grace\", \"frankie\",\"brianna\",\"bud\",\"coyote\"]\n",
    "# level three\n",
    "graph[\"grace\"] = [\"leslie\",\"ron\",\"ann\",\"april\",\"andy\"]\n",
    "graph[\"frankie\"] = [\"leslie\",\"ron\",\"ann\",\"april\",\"andy\"]\n",
    "graph[\"brianna\"] = [\"leslie\",\"ron\",\"ann\",\"april\",\"andy\"]\n",
    "graph[\"bud\"] = [\"leslie\",\"ron\",\"ann\",\"april\",\"andy\"]\n",
    "graph[\"coyote\"] = [\"leslie\",\"ron\",\"ann\",\"april\",\"andy\"]\n",
    "# level four\n",
    "graph[\"leslie\"] = [\"monica\",\"chandler\",\"ross\",\"rachel\",\"joey\"]\n",
    "graph[\"ron\"] = [\"monica\",\"chandler\",\"ross\",\"rachel\",\"joey\"]\n",
    "graph[\"ann\"] = [\"monica\",\"chandler\",\"ross\",\"rachel\",\"joey\"]\n",
    "graph[\"april\"] = [\"monica\",\"chandler\",\"ross\",\"rachel\",\"joey\"]\n",
    "graph[\"andy\"] = [\"monica\",\"chandler\",\"ross\",\"rachel\",\"joey\"]\n",
    "# level five \n",
    "graph[\"monica\"] = [\"arya\",\"sansa\",\"dany\",\"brienne\",\"tyrion\"]\n",
    "graph[\"chandler\"] = [\"arya\",\"sansa\",\"dany\",\"brienne\",\"tyrion\"]\n",
    "graph[\"ross\"] = [\"arya\",\"sansa\",\"dany\",\"brienne\",\"tyrion\"]\n",
    "graph[\"rachel\"] = [\"arya\",\"sansa\",\"dany\",\"brienne\",\"tyrion\"]\n",
    "graph[\"joey\"] = [\"arya\",\"sansa\",\"dany\",\"brienne\",\"tyrion\"]\n",
    "# level six - terminal nodes \n",
    "graph[\"arya\"] = []\n",
    "graph[\"sansa\"] = []\n",
    "graph[\"dany\"] = []\n",
    "graph[\"brienne\"] = []\n",
    "graph[\"tyrion\"] = []"
   ]
  },
  {
   "cell_type": "markdown",
   "metadata": {},
   "source": [
    "#### 2. Now search for three people on each level and capture the time for each search"
   ]
  },
  {
   "cell_type": "code",
   "execution_count": 3,
   "metadata": {},
   "outputs": [
    {
     "name": "stdout",
     "output_type": "stream",
     "text": [
      "sorry, harry not found :( \n",
      "sorry, harry not found :( \n",
      "ron found!\n",
      "sorry, hermione not found :( \n"
     ]
    }
   ],
   "source": [
    "from collections import deque\n",
    "def search(name):\n",
    "        search_queue = deque()\n",
    "        search_queue += graph[name]\n",
    "        # This array is how you keep track of which people you've searched before.\n",
    "        searched = []\n",
    "        while search_queue: # while the queue is not empty\n",
    "            person = search_queue.popleft() # grabs the first person off the queue\n",
    "            # Only search this person if you haven't already searched them.\n",
    "            if person not in searched:\n",
    "                if person == search_name:\n",
    "                    print(search_name+\" found!\")\n",
    "                    return True\n",
    "                else:\n",
    "                    search_queue += graph[person]\n",
    "                    # Marks this person as searched\n",
    "                    searched.append(person)\n",
    "        print(\"sorry, \"+str(search_name)+\" not found :( \")\n",
    "        return False\n",
    "    \n",
    "search_name = 'harry'\n",
    "search(\"you\")\n",
    "\n",
    "search_list = ['harry','ron','hermione']\n",
    "for x in search_list: \n",
    "    search_name = x \n",
    "    search(\"you\")"
   ]
  },
  {
   "cell_type": "code",
   "execution_count": 4,
   "metadata": {},
   "outputs": [
    {
     "name": "stdout",
     "output_type": "stream",
     "text": [
      "['jake', 'mallory', 'donna']\n",
      "['grace', 'frankie', 'brianna']\n",
      "['leslie', 'ron', 'ann']\n",
      "['monica', 'chandler', 'ross']\n",
      "['arya', 'sansa', 'dany']\n"
     ]
    }
   ],
   "source": [
    "level1 = [\"jake\", \"mallory\", \"donna\"]\n",
    "level2 = [\"grace\", \"frankie\",\"brianna\"]\n",
    "level3 = [\"leslie\",\"ron\",\"ann\"]\n",
    "level4 = [\"monica\",\"chandler\",\"ross\"]\n",
    "level5 = [\"arya\",\"sansa\",\"dany\"]\n",
    "all_levels = [level1,level2,level3,level4,level5]\n",
    "for x in range(len(all_levels)): \n",
    "    print(all_levels[x])"
   ]
  },
  {
   "cell_type": "code",
   "execution_count": 5,
   "metadata": {},
   "outputs": [
    {
     "name": "stdout",
     "output_type": "stream",
     "text": [
      "Level 1\n",
      "jake found!\n",
      "mallory found!\n",
      "donna found!\n",
      "---------------\n",
      "Level 2\n",
      "grace found!\n",
      "frankie found!\n",
      "brianna found!\n",
      "---------------\n",
      "Level 3\n",
      "leslie found!\n",
      "ron found!\n",
      "ann found!\n",
      "---------------\n",
      "Level 4\n",
      "monica found!\n",
      "chandler found!\n",
      "ross found!\n",
      "---------------\n",
      "Level 5\n",
      "arya found!\n",
      "sansa found!\n",
      "dany found!\n",
      "---------------\n"
     ]
    }
   ],
   "source": [
    "search_times=[]\n",
    "level_list=[]\n",
    "names_list =[]\n",
    "for x in range(len(all_levels)): \n",
    "    print(\"Level \"+str(x+1))\n",
    "    import time\n",
    "    for i in range(len(all_levels[x])):\n",
    "        start = time.perf_counter()\n",
    "        search_name = all_levels[x][i]\n",
    "        search(\"you\")\n",
    "        end = time.perf_counter()\n",
    "        search_time = (end - start)*1000 # convert to milliseconds \n",
    "        search_times.append(search_time)\n",
    "        names_list.append(search_name)\n",
    "        level_list.append(\"Level \"+str(x+1))\n",
    "    print(\"---------------\")"
   ]
  },
  {
   "cell_type": "code",
   "execution_count": 6,
   "metadata": {},
   "outputs": [
    {
     "data": {
      "text/plain": [
       "[0.04121199999995717,\n",
       " 0.02666600000011954,\n",
       " 0.025696999999880177,\n",
       " 0.040728000000100906,\n",
       " 0.03975700000014015,\n",
       " 0.04169700000011822,\n",
       " 0.09066700000004424,\n",
       " 0.044605999999891566,\n",
       " 0.06448399999992027,\n",
       " 0.13090899999990135,\n",
       " 0.12896900000014533,\n",
       " 0.08824299999998786,\n",
       " 0.06448400000014232,\n",
       " 0.49987899999992536,\n",
       " 0.24727199999996508]"
      ]
     },
     "execution_count": 6,
     "metadata": {},
     "output_type": "execute_result"
    }
   ],
   "source": [
    "search_times"
   ]
  },
  {
   "cell_type": "code",
   "execution_count": 12,
   "metadata": {},
   "outputs": [],
   "source": [
    "# level_list\n",
    "# names_list"
   ]
  },
  {
   "cell_type": "markdown",
   "metadata": {},
   "source": [
    "#### 3. Organize the results of the study into an table showing the 'name' that you searched for, the level of the search (first, second, third, fourth, fifth), and the time it took.  Discuss any findings.\n"
   ]
  },
  {
   "cell_type": "code",
   "execution_count": 8,
   "metadata": {
    "cell_style": "center"
   },
   "outputs": [
    {
     "data": {
      "text/html": [
       "<div>\n",
       "<style scoped>\n",
       "    .dataframe tbody tr th:only-of-type {\n",
       "        vertical-align: middle;\n",
       "    }\n",
       "\n",
       "    .dataframe tbody tr th {\n",
       "        vertical-align: top;\n",
       "    }\n",
       "\n",
       "    .dataframe thead th {\n",
       "        text-align: right;\n",
       "    }\n",
       "</style>\n",
       "<table border=\"1\" class=\"dataframe\">\n",
       "  <thead>\n",
       "    <tr style=\"text-align: right;\">\n",
       "      <th></th>\n",
       "      <th>Name</th>\n",
       "      <th>Level</th>\n",
       "      <th>Search_Time</th>\n",
       "    </tr>\n",
       "  </thead>\n",
       "  <tbody>\n",
       "    <tr>\n",
       "      <th>0</th>\n",
       "      <td>jake</td>\n",
       "      <td>Level 1</td>\n",
       "      <td>0.041212</td>\n",
       "    </tr>\n",
       "    <tr>\n",
       "      <th>1</th>\n",
       "      <td>mallory</td>\n",
       "      <td>Level 1</td>\n",
       "      <td>0.026666</td>\n",
       "    </tr>\n",
       "    <tr>\n",
       "      <th>2</th>\n",
       "      <td>donna</td>\n",
       "      <td>Level 1</td>\n",
       "      <td>0.025697</td>\n",
       "    </tr>\n",
       "    <tr>\n",
       "      <th>3</th>\n",
       "      <td>grace</td>\n",
       "      <td>Level 2</td>\n",
       "      <td>0.040728</td>\n",
       "    </tr>\n",
       "    <tr>\n",
       "      <th>4</th>\n",
       "      <td>frankie</td>\n",
       "      <td>Level 2</td>\n",
       "      <td>0.039757</td>\n",
       "    </tr>\n",
       "    <tr>\n",
       "      <th>5</th>\n",
       "      <td>brianna</td>\n",
       "      <td>Level 2</td>\n",
       "      <td>0.041697</td>\n",
       "    </tr>\n",
       "    <tr>\n",
       "      <th>6</th>\n",
       "      <td>leslie</td>\n",
       "      <td>Level 3</td>\n",
       "      <td>0.090667</td>\n",
       "    </tr>\n",
       "    <tr>\n",
       "      <th>7</th>\n",
       "      <td>ron</td>\n",
       "      <td>Level 3</td>\n",
       "      <td>0.044606</td>\n",
       "    </tr>\n",
       "    <tr>\n",
       "      <th>8</th>\n",
       "      <td>ann</td>\n",
       "      <td>Level 3</td>\n",
       "      <td>0.064484</td>\n",
       "    </tr>\n",
       "    <tr>\n",
       "      <th>9</th>\n",
       "      <td>monica</td>\n",
       "      <td>Level 4</td>\n",
       "      <td>0.130909</td>\n",
       "    </tr>\n",
       "    <tr>\n",
       "      <th>10</th>\n",
       "      <td>chandler</td>\n",
       "      <td>Level 4</td>\n",
       "      <td>0.128969</td>\n",
       "    </tr>\n",
       "    <tr>\n",
       "      <th>11</th>\n",
       "      <td>ross</td>\n",
       "      <td>Level 4</td>\n",
       "      <td>0.088243</td>\n",
       "    </tr>\n",
       "    <tr>\n",
       "      <th>12</th>\n",
       "      <td>arya</td>\n",
       "      <td>Level 5</td>\n",
       "      <td>0.064484</td>\n",
       "    </tr>\n",
       "    <tr>\n",
       "      <th>13</th>\n",
       "      <td>sansa</td>\n",
       "      <td>Level 5</td>\n",
       "      <td>0.499879</td>\n",
       "    </tr>\n",
       "    <tr>\n",
       "      <th>14</th>\n",
       "      <td>dany</td>\n",
       "      <td>Level 5</td>\n",
       "      <td>0.247272</td>\n",
       "    </tr>\n",
       "  </tbody>\n",
       "</table>\n",
       "</div>"
      ],
      "text/plain": [
       "        Name    Level  Search_Time\n",
       "0       jake  Level 1     0.041212\n",
       "1    mallory  Level 1     0.026666\n",
       "2      donna  Level 1     0.025697\n",
       "3      grace  Level 2     0.040728\n",
       "4    frankie  Level 2     0.039757\n",
       "5    brianna  Level 2     0.041697\n",
       "6     leslie  Level 3     0.090667\n",
       "7        ron  Level 3     0.044606\n",
       "8        ann  Level 3     0.064484\n",
       "9     monica  Level 4     0.130909\n",
       "10  chandler  Level 4     0.128969\n",
       "11      ross  Level 4     0.088243\n",
       "12      arya  Level 5     0.064484\n",
       "13     sansa  Level 5     0.499879\n",
       "14      dany  Level 5     0.247272"
      ]
     },
     "execution_count": 8,
     "metadata": {},
     "output_type": "execute_result"
    }
   ],
   "source": [
    "df=pd.DataFrame({'Name':names_list,\n",
    "                 'Level':level_list,\n",
    "                 'Search_Time':search_times})\n",
    "df"
   ]
  },
  {
   "cell_type": "markdown",
   "metadata": {},
   "source": [
    "#### 4. Using the average time for each level, create a plot and compare times at each level (five bars or any other suitable visual).  Discuss any findings."
   ]
  },
  {
   "cell_type": "code",
   "execution_count": 9,
   "metadata": {},
   "outputs": [],
   "source": [
    "mean_times = df.groupby(\"Level\")[\"Search_Time\"].mean().tolist()"
   ]
  },
  {
   "cell_type": "code",
   "execution_count": 10,
   "metadata": {},
   "outputs": [
    {
     "data": {
      "text/html": [
       "<div>\n",
       "<style scoped>\n",
       "    .dataframe tbody tr th:only-of-type {\n",
       "        vertical-align: middle;\n",
       "    }\n",
       "\n",
       "    .dataframe tbody tr th {\n",
       "        vertical-align: top;\n",
       "    }\n",
       "\n",
       "    .dataframe thead th {\n",
       "        text-align: right;\n",
       "    }\n",
       "</style>\n",
       "<table border=\"1\" class=\"dataframe\">\n",
       "  <thead>\n",
       "    <tr style=\"text-align: right;\">\n",
       "      <th></th>\n",
       "      <th>Level</th>\n",
       "      <th>Mean_Search_Time</th>\n",
       "    </tr>\n",
       "  </thead>\n",
       "  <tbody>\n",
       "    <tr>\n",
       "      <th>0</th>\n",
       "      <td>Level 1</td>\n",
       "      <td>0.031192</td>\n",
       "    </tr>\n",
       "    <tr>\n",
       "      <th>1</th>\n",
       "      <td>Level 2</td>\n",
       "      <td>0.040727</td>\n",
       "    </tr>\n",
       "    <tr>\n",
       "      <th>2</th>\n",
       "      <td>Level 3</td>\n",
       "      <td>0.066586</td>\n",
       "    </tr>\n",
       "    <tr>\n",
       "      <th>3</th>\n",
       "      <td>Level 4</td>\n",
       "      <td>0.116040</td>\n",
       "    </tr>\n",
       "    <tr>\n",
       "      <th>4</th>\n",
       "      <td>Level 5</td>\n",
       "      <td>0.270545</td>\n",
       "    </tr>\n",
       "  </tbody>\n",
       "</table>\n",
       "</div>"
      ],
      "text/plain": [
       "     Level  Mean_Search_Time\n",
       "0  Level 1          0.031192\n",
       "1  Level 2          0.040727\n",
       "2  Level 3          0.066586\n",
       "3  Level 4          0.116040\n",
       "4  Level 5          0.270545"
      ]
     },
     "execution_count": 10,
     "metadata": {},
     "output_type": "execute_result"
    }
   ],
   "source": [
    "df=pd.DataFrame({'Level':['Level 1', 'Level 2', \n",
    "                          'Level 3', 'Level 4', 'Level 5'],\n",
    "                 'Mean_Search_Time':mean_times})\n",
    "df"
   ]
  },
  {
   "cell_type": "code",
   "execution_count": 11,
   "metadata": {
    "cell_style": "center"
   },
   "outputs": [
    {
     "data": {
      "image/png": "[encoded data removed]",
      "text/plain": [
       "<Figure size 504x360 with 1 Axes>"
      ]
     },
     "metadata": {},
     "output_type": "display_data"
    }
   ],
   "source": [
    "plt.style.use('ggplot')\n",
    "plt.figure(figsize = (7,5))\n",
    "plt.bar( 'Level', 'Mean_Search_Time', data=df)\n",
    "plt.ylabel('Execution Time (milliseconds)')\n",
    "plt.title('Figure 1: BFS Search Times across Levels')\n",
    "# plt.legend()\n",
    "plt.show()\n",
    "plt.close()"
   ]
  },
  {
   "cell_type": "markdown",
   "metadata": {
    "cell_style": "split"
   },
   "source": [
    "In Figure 1, we can see that search time increases as we progress through the five levels."
   ]
  },
  {
   "cell_type": "markdown",
   "metadata": {},
   "source": [
    "## Executive Summary"
   ]
  },
  {
   "cell_type": "markdown",
   "metadata": {},
   "source": [
    "In this assignment, we compared search times across five levels of a graph. A graph is a container that models a set of connections or relationships, made up of nodes and edges. In this case, names were the nodes, and connections were the edges. \n",
    "\n",
    "The way that Breadth First Search (BFS) algorithm works, is that it first determines whether or not a path from node A to node B exists, and if yes, it figures out the shortest path from A to B. BFS uses a node-based approach, where each node is stored in a queue that follows first in, first out. Data engineers should consider using BFS when the target solution is closer to the starting point. \n",
    "\n",
    "In terms of Big O time complexity, the running time for BFS is O(number of nodes + number of edges), so the more nodes and edges or connections we have, the larger the Big O time complexity will be for BFS. This is exactly what we see in Figure 1. As the level increases, the number of nodes we have to search through increases, resulting in longer execution times. So for example, if we know that a solution is likely to be far from our starting point, BFS will likely be inefficient; instead, something like DFS (Depth First Search) might be more appropriate. \n"
   ]
  },
  {
   "cell_type": "code",
   "execution_count": null,
   "metadata": {},
   "outputs": [],
   "source": []
  }
 ],
 "metadata": {
  "kernelspec": {
   "display_name": "Python [conda env:py37]",
   "language": "python",
   "name": "conda-env-py37-py"
  },
  "language_info": {
   "codemirror_mode": {
    "name": "ipython",
    "version": 3
   },
   "file_extension": ".py",
   "mimetype": "text/x-python",
   "name": "python",
   "nbconvert_exporter": "python",
   "pygments_lexer": "ipython3",
   "version": "3.7.1"
  },
  "toc": {
   "base_numbering": 1,
   "nav_menu": {
    "height": "390.972px",
    "width": "403.993px"
   },
   "number_sections": true,
   "sideBar": true,
   "skip_h1_title": false,
   "title_cell": "Table of Contents",
   "title_sidebar": "Contents",
   "toc_cell": false,
   "toc_position": {},
   "toc_section_display": true,
   "toc_window_display": false
  },
  "varInspector": {
   "cols": {
    "lenName": 16,
    "lenType": 16,
    "lenVar": 40
   },
   "kernels_config": {
    "python": {
     "delete_cmd_postfix": "",
     "delete_cmd_prefix": "del ",
     "library": "var_list.py",
     "varRefreshCmd": "print(var_dic_list())"
    },
    "r": {
     "delete_cmd_postfix": ") ",
     "delete_cmd_prefix": "rm(",
     "library": "var_list.r",
     "varRefreshCmd": "cat(var_dic_list()) "
    }
   },
   "position": {
    "height": "422.4px",
    "left": "1016.93px",
    "right": "20px",
    "top": "242px",
    "width": "350.925px"
   },
   "types_to_exclude": [
    "module",
    "function",
    "builtin_function_or_method",
    "instance",
    "_Feature"
   ],
   "window_display": false
  }
 },
 "nbformat": 4,
 "nbformat_minor": 4
}
