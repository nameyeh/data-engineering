{
 "cells": [
  {
   "cell_type": "markdown",
   "metadata": {
    "Collapsed": "false",
    "cell_style": "center"
   },
   "source": [
    "# **Implement Dijkstra's Algorithm**\n",
    "MSDS 432 Module 7\n",
    "\n",
    "Nameyeh Alam"
   ]
  },
  {
   "cell_type": "code",
   "execution_count": 30,
   "metadata": {
    "Collapsed": "false",
    "cell_style": "center",
    "scrolled": true
   },
   "outputs": [],
   "source": [
    "import numpy as np\n",
    "import pandas as pd \n",
    "import matplotlib.pyplot as plt\n",
    "import seaborn as sns\n",
    "import random\n",
    "import string\n",
    "import warnings\n",
    "warnings.filterwarnings(\"ignore\", category=Warning)\n",
    "import time"
   ]
  },
  {
   "cell_type": "markdown",
   "metadata": {
    "Collapsed": "false"
   },
   "source": [
    "#### 1. First, use the breadth-first algorithm to find the quickest way to get to L.A from NYC and calculate the time that it will take to get to L.A. from NYC using the breadth first algorithm.  (Even though BFS does not use weighted edges, we will indirectly use them to calculate the time of the route).\n"
   ]
  },
  {
   "cell_type": "code",
   "execution_count": 31,
   "metadata": {
    "Collapsed": "false"
   },
   "outputs": [
    {
     "data": {
      "text/plain": [
       "{'NYC': {},\n",
       " 'DC': {},\n",
       " 'Pittsburgh': {},\n",
       " 'Indianapolis': {},\n",
       " 'Atlanta': {},\n",
       " 'Kansas City': {},\n",
       " 'Cincinnati': {},\n",
       " 'New Orleans': {},\n",
       " 'Denver': {},\n",
       " 'St Louis': {},\n",
       " 'Dallas': {},\n",
       " 'Salt Lake City': {},\n",
       " 'Oklahoma City': {},\n",
       " 'Albuquerque': {},\n",
       " 'Las Vegas': {},\n",
       " 'Phoenix': {},\n",
       " 'San Diego': {},\n",
       " 'Los Angeles': {}}"
      ]
     },
     "execution_count": 31,
     "metadata": {},
     "output_type": "execute_result"
    }
   ],
   "source": [
    "# create graph \n",
    "graph = {}\n",
    "# nodes\n",
    "nodes = ['NYC','DC','Pittsburgh','Indianapolis',\n",
    "         'Atlanta','Kansas City','Cincinnati',\n",
    "         'New Orleans','Denver','St Louis',\n",
    "         'Dallas','Salt Lake City','Oklahoma City',\n",
    "         'Albuquerque','Las Vegas','Phoenix',\n",
    "         'San Diego','Los Angeles']\n",
    "# create nodes in graph \n",
    "for x in nodes:\n",
    "    graph[x] = {}\n",
    "    \n",
    "# check graph \n",
    "graph"
   ]
  },
  {
   "cell_type": "code",
   "execution_count": 32,
   "metadata": {
    "Collapsed": "false"
   },
   "outputs": [
    {
     "data": {
      "text/plain": [
       "{'NYC': {'DC': 2, 'Pittsburgh': 7, 'Indianapolis': 11},\n",
       " 'DC': {'Atlanta': 2},\n",
       " 'Pittsburgh': {'Cincinnati': 6},\n",
       " 'Indianapolis': {'Kansas City': 8},\n",
       " 'Atlanta': {'New Orleans': 2},\n",
       " 'Kansas City': {'Denver': 7},\n",
       " 'Cincinnati': {'St Louis': 8},\n",
       " 'New Orleans': {'Dallas': 2},\n",
       " 'Denver': {'Salt Lake City': 6},\n",
       " 'St Louis': {'Oklahoma City': 7},\n",
       " 'Dallas': {'Albuquerque': 2},\n",
       " 'Salt Lake City': {'Las Vegas': 9},\n",
       " 'Oklahoma City': {'Albuquerque': 9},\n",
       " 'Albuquerque': {'Phoenix': 2},\n",
       " 'Las Vegas': {'San Diego': 2, 'Los Angeles': 5},\n",
       " 'Phoenix': {'Las Vegas': 2, 'San Diego': 5},\n",
       " 'San Diego': {'Los Angeles': 2},\n",
       " 'Los Angeles': {}}"
      ]
     },
     "execution_count": 32,
     "metadata": {},
     "output_type": "execute_result"
    }
   ],
   "source": [
    "# node - NYC\n",
    "graph['NYC']['DC'] = 2\n",
    "graph['NYC']['Pittsburgh'] = 7\n",
    "graph['NYC']['Indianapolis'] = 11\n",
    "\n",
    "# node - DC\n",
    "graph['DC']['Atlanta'] = 2\n",
    "\n",
    "# node - Indianapolis\n",
    "graph['Indianapolis']['Kansas City'] = 8\n",
    "\n",
    "# node - Pittsburgh\n",
    "graph['Pittsburgh']['Cincinnati'] = 6\n",
    "\n",
    "# node - Atlanta\n",
    "graph['Atlanta']['New Orleans'] = 2\n",
    "\n",
    "# node - Kansas City\n",
    "graph['Kansas City']['Denver'] = 7\n",
    "\n",
    "# node - Cincinnati\n",
    "graph['Cincinnati']['St Louis'] = 8\n",
    "\n",
    "# node - New Orleans\n",
    "graph['New Orleans']['Dallas'] = 2\n",
    "\n",
    "# node - Denver\n",
    "graph['Denver']['Salt Lake City'] = 6\n",
    "\n",
    "# node - St Louis\n",
    "graph['St Louis']['Oklahoma City'] = 7\n",
    "\n",
    "# node - Dallas\n",
    "graph['Dallas']['Albuquerque'] = 2\n",
    "\n",
    "# node - Oklahoma City\n",
    "graph['Oklahoma City']['Albuquerque'] = 9\n",
    "\n",
    "# node - Salt Lake City\n",
    "graph['Salt Lake City']['Las Vegas'] = 9\n",
    "\n",
    "# node - Albuquerque\n",
    "graph['Albuquerque']['Phoenix'] = 2\n",
    "\n",
    "# node - Phoenix\n",
    "graph['Phoenix']['Las Vegas'] = 2\n",
    "graph['Phoenix']['San Diego'] = 5\n",
    "\n",
    "# node - Las Vegas\n",
    "graph['Las Vegas']['San Diego'] = 2\n",
    "graph['Las Vegas']['Los Angeles'] = 5\n",
    "\n",
    "# node - San Diego\n",
    "graph['San Diego']['Los Angeles'] = 2\n",
    "\n",
    "# check graph \n",
    "graph"
   ]
  },
  {
   "cell_type": "code",
   "execution_count": 33,
   "metadata": {
    "Collapsed": "false"
   },
   "outputs": [],
   "source": [
    "# BFS\n",
    "def bfs(graph, start, finish):\n",
    "    # list to keep track of nodes already processed \n",
    "    processed = []\n",
    "    # list to keep track of which paths need to be searched\n",
    "    search_queue = [[start]]\n",
    "    # if same input for start&fin\n",
    "    if start == finish:\n",
    "        return \"You are already at your destination!\"\n",
    "    # Check all possible paths\n",
    "    while search_queue:\n",
    "        # Pop init path off queue\n",
    "        init_path = search_queue.pop(0)\n",
    "        # Find the last possible destination on this path\n",
    "        node = init_path[-1]\n",
    "        # if not already processed\n",
    "        if node not in processed:\n",
    "            neighbors = graph[node]\n",
    "            # push all neighbors into search queue\n",
    "            for neighbor in neighbors:\n",
    "                path = list(init_path)\n",
    "                path.append(neighbor)\n",
    "                search_queue.append(path)\n",
    "                # return path if neighbor=destination\n",
    "                if neighbor == finish:\n",
    "                    sep = \" --> \"\n",
    "                    travel_time = 0 \n",
    "                    for i in range(len(path)-1):\n",
    "                        travel_time += graph[path[i]][path[i+1]]\n",
    "                        formatted_path = sep.join(path)\n",
    "                    print((\"According to BFS, \" + \n",
    "                    \"the 'best' route is: \\n{}. \\nThis route will take {} hours\"+\n",
    "                          \" and you will drive through {} cities \"+\n",
    "                          \"before reaching {}.\")\n",
    "                          .format(formatted_path,\n",
    "                                  travel_time,\n",
    "                                  (len(path)-2),\n",
    "                                   path[-1]))\n",
    "                    return path, travel_time, (len(path)-2), formatted_path\n",
    "            # Mark the node as processed\n",
    "            processed.append(node)\n",
    "    # if no path exists \n",
    "    return \"A route to your destination does not exist!!\""
   ]
  },
  {
   "cell_type": "markdown",
   "metadata": {
    "Collapsed": "false"
   },
   "source": [
    "#### 2. Print the route"
   ]
  },
  {
   "cell_type": "code",
   "execution_count": 34,
   "metadata": {
    "Collapsed": "false"
   },
   "outputs": [
    {
     "name": "stdout",
     "output_type": "stream",
     "text": [
      "According to BFS, the 'best' route is: \n",
      "NYC --> Indianapolis --> Kansas City --> Denver --> Salt Lake City --> Las Vegas --> Los Angeles. \n",
      "This route will take 46 hours and you will drive through 5 cities before reaching Los Angeles.\n",
      "(['NYC', 'Indianapolis', 'Kansas City', 'Denver', 'Salt Lake City', 'Las Vegas', 'Los Angeles'], 46, 5, 'NYC --> Indianapolis --> Kansas City --> Denver --> Salt Lake City --> Las Vegas --> Los Angeles')\n"
     ]
    }
   ],
   "source": [
    "bfs_path = bfs(graph, 'NYC', 'Los Angeles')  \n",
    "print(bfs_path)"
   ]
  },
  {
   "cell_type": "markdown",
   "metadata": {
    "Collapsed": "false"
   },
   "source": [
    "#### 3. Next, use Dijkstra's algorithm to find the most optimal route to get to L.A from NYC, capture the time that it will take to get to L.A (use the weights in the algorithm assigned to the routes)."
   ]
  },
  {
   "cell_type": "code",
   "execution_count": 35,
   "metadata": {
    "Collapsed": "false"
   },
   "outputs": [],
   "source": [
    "def find_lowest_cost_node(costs,processed):\n",
    "    lowest_cost = float(\"inf\")\n",
    "    lowest_cost_node = None\n",
    "    # Go through each node.\n",
    "    for node in costs:\n",
    "        cost = costs[node]\n",
    "        # If it's the lowest cost so far and hasn't been processed yet...\n",
    "        if cost < lowest_cost and node not in processed:\n",
    "            # ... set it as the new lowest-cost node.\n",
    "            lowest_cost = cost\n",
    "            lowest_cost_node = node\n",
    "    return lowest_cost_node, lowest_cost"
   ]
  },
  {
   "cell_type": "code",
   "execution_count": 36,
   "metadata": {
    "Collapsed": "false"
   },
   "outputs": [],
   "source": [
    "def dijkstras(start, finish):\n",
    "    # create costs and parents tables\n",
    "    infinity = float(\"inf\")\n",
    "    costs = {}\n",
    "    parents = {}\n",
    "    for x in graph.keys():\n",
    "        costs[x] = infinity\n",
    "        parents[x] = None\n",
    "\n",
    "    for x in graph[start].keys():\n",
    "        costs[x] = graph[start][x]\n",
    "        parents[x] = start\n",
    "    \n",
    "    costs[start] = 0            \n",
    "    processed = [start]\n",
    "    \n",
    "    # Find the lowest-cost node that you haven't processed yet.\n",
    "    node, cost = find_lowest_cost_node(costs, processed)\n",
    "    # If you've processed all the nodes, this while loop is done.\n",
    "    while node is not None:\n",
    "        # Go through all the neighbors of this node.\n",
    "        neighbors = graph[node]\n",
    "        for n in neighbors.keys():\n",
    "            new_cost = cost + neighbors[n]\n",
    "            # If it's cheaper to get to this neighbor by going through this node...\n",
    "            if costs[n] > new_cost:\n",
    "                # ... update the cost for this node.\n",
    "                costs[n] = new_cost\n",
    "                # This node becomes the new parent for this neighbor.\n",
    "                parents[n] = node\n",
    "        # Mark the node as processed.\n",
    "        processed.append(node)\n",
    "        # Find the next node to process, and loop.\n",
    "        node, cost = find_lowest_cost_node(costs, processed)\n",
    "        \n",
    "    current = finish\n",
    "    path = []\n",
    "    while parents[current] is not None:\n",
    "        path = [current] +  path\n",
    "        current = parents[current]\n",
    "    if path: \n",
    "        path = [current] +  path\n",
    "        sep = \" --> \"\n",
    "        formatted_path = sep.join(path)\n",
    "        print((\"According to Dijkstra's Algorithm, \" + \n",
    "                \"the 'best' route is: \\n{}. \\nThis route will take {} hours\"+\n",
    "                      \" and you will drive through {} cities \"+\n",
    "                      \"before reaching {}.\")\n",
    "                      .format(formatted_path,\n",
    "                              costs[finish],\n",
    "                              (len(path)-2),\n",
    "                               path[-1]))\n",
    "        return  path, costs[finish], (len(path)-2), formatted_path\n",
    "    else:\n",
    "        return None"
   ]
  },
  {
   "cell_type": "markdown",
   "metadata": {
    "Collapsed": "false"
   },
   "source": [
    "#### 4. Print the route "
   ]
  },
  {
   "cell_type": "code",
   "execution_count": 37,
   "metadata": {
    "Collapsed": "false"
   },
   "outputs": [
    {
     "name": "stdout",
     "output_type": "stream",
     "text": [
      "According to Dijkstra's Algorithm, the 'best' route is: \n",
      "NYC --> DC --> Atlanta --> New Orleans --> Dallas --> Albuquerque --> Phoenix --> Las Vegas --> San Diego --> Los Angeles. \n",
      "This route will take 18 hours and you will drive through 8 cities before reaching Los Angeles.\n"
     ]
    }
   ],
   "source": [
    "da_path = dijkstras('NYC', 'Los Angeles')\n",
    "# print(da_path)"
   ]
  },
  {
   "cell_type": "markdown",
   "metadata": {
    "Collapsed": "false"
   },
   "source": [
    "#### 5. Compare time of Breadth-first algorithm with Dijkstra's algorithm in terms of trip time, stops, computation complexity.  Discuss the reason for differences in methods.\n"
   ]
  },
  {
   "cell_type": "code",
   "execution_count": 42,
   "metadata": {
    "Collapsed": "false",
    "cell_style": "center"
   },
   "outputs": [
    {
     "data": {
      "text/html": [
       "<div>\n",
       "<style scoped>\n",
       "    .dataframe tbody tr th:only-of-type {\n",
       "        vertical-align: middle;\n",
       "    }\n",
       "\n",
       "    .dataframe tbody tr th {\n",
       "        vertical-align: top;\n",
       "    }\n",
       "\n",
       "    .dataframe thead th {\n",
       "        text-align: right;\n",
       "    }\n",
       "</style>\n",
       "<table border=\"1\" class=\"dataframe\">\n",
       "  <thead>\n",
       "    <tr style=\"text-align: right;\">\n",
       "      <th></th>\n",
       "      <th>Algorithm</th>\n",
       "      <th>Recommended Path</th>\n",
       "      <th>Trip Travel Time (hrs)</th>\n",
       "      <th># of Stops Before Destination</th>\n",
       "    </tr>\n",
       "  </thead>\n",
       "  <tbody>\n",
       "    <tr>\n",
       "      <th>0</th>\n",
       "      <td>Breadth-First Search</td>\n",
       "      <td>NYC --&gt; Indianapolis --&gt; Kansas City --&gt; Denver --&gt; Salt Lake City --&gt; Las Vegas --&gt; Los Angeles</td>\n",
       "      <td>46</td>\n",
       "      <td>5</td>\n",
       "    </tr>\n",
       "    <tr>\n",
       "      <th>1</th>\n",
       "      <td>Dijkstra's Algorithm</td>\n",
       "      <td>NYC --&gt; DC --&gt; Atlanta --&gt; New Orleans --&gt; Dallas --&gt; Albuquerque --&gt; Phoenix --&gt; Las Vegas --&gt; San Diego --&gt; Los Angeles</td>\n",
       "      <td>18</td>\n",
       "      <td>8</td>\n",
       "    </tr>\n",
       "  </tbody>\n",
       "</table>\n",
       "</div>"
      ],
      "text/plain": [
       "              Algorithm  \\\n",
       "0  Breadth-First Search   \n",
       "1  Dijkstra's Algorithm   \n",
       "\n",
       "                                                                                                            Recommended Path  \\\n",
       "0  NYC --> Indianapolis --> Kansas City --> Denver --> Salt Lake City --> Las Vegas --> Los Angeles                            \n",
       "1  NYC --> DC --> Atlanta --> New Orleans --> Dallas --> Albuquerque --> Phoenix --> Las Vegas --> San Diego --> Los Angeles   \n",
       "\n",
       "   Trip Travel Time (hrs)  # of Stops Before Destination  \n",
       "0  46                      5                              \n",
       "1  18                      8                              "
      ]
     },
     "execution_count": 42,
     "metadata": {},
     "output_type": "execute_result"
    }
   ],
   "source": [
    "pd.set_option('display.max_colwidth', -1)\n",
    "df=pd.DataFrame({'Algorithm':['Breadth-First Search', \"Dijkstra's Algorithm\"],\n",
    "                 'Recommended Path': [bfs_path[3],da_path[3]],\n",
    "                 'Trip Travel Time (hrs)':[bfs_path[1],da_path[1]],\n",
    "                 '# of Stops Before Destination':[bfs_path[2],da_path[2]]})\n",
    "df"
   ]
  },
  {
   "cell_type": "markdown",
   "metadata": {
    "Collapsed": "false"
   },
   "source": [
    "We can see from the table that both algorithms are minimizing a slightly different cost function; BFS is minimizing the number of stops (shortest path in terms of number of nodes traversed), whereas Dijkstra's Algorithm is also taking into consideration the actual distance between the nodes."
   ]
  },
  {
   "cell_type": "markdown",
   "metadata": {
    "Collapsed": "false"
   },
   "source": [
    "#### 6. Use Python (matplotlib or Seaborn) or JavaScript (D3) visualization tools to illustrate algorithm performance."
   ]
  },
  {
   "cell_type": "code",
   "execution_count": 132,
   "metadata": {
    "Collapsed": "false"
   },
   "outputs": [],
   "source": [
    "# Melt DataFrame\n",
    "melted_df = pd.melt(df, \n",
    "                    id_vars=[\"Algorithm\",\"Recommended Path\"],\n",
    "                    var_name=\"Measure of 'Best' Route\") # melted variable\n",
    "# melted_df.head()"
   ]
  },
  {
   "cell_type": "code",
   "execution_count": 131,
   "metadata": {
    "Collapsed": "false"
   },
   "outputs": [
    {
     "data": {
      "image/png": "[encoded data removed]",
      "text/plain": [
       "<Figure size 432x432 with 1 Axes>"
      ]
     },
     "metadata": {},
     "output_type": "display_data"
    }
   ],
   "source": [
    "import matplotlib.pyplot as plt\n",
    "plt.style.use('ggplot')\n",
    "g=sns.catplot(data=melted_df, x= \"Measure of 'Best' Route\",y='value',\n",
    "                hue=\"Algorithm\",kind='bar',height=6,aspect=1,\n",
    "           legend_out=False,margin_titles=True);\n",
    "plt.subplots_adjust(top=0.9)\n",
    "g.fig.suptitle(\"Figure 1: Comparison of\\n Dijkstra's Algorithm & Breadth-First Search\"); "
   ]
  },
  {
   "cell_type": "markdown",
   "metadata": {
    "Collapsed": "false",
    "cell_style": "split"
   },
   "source": [
    "In Figure 1, we can see that BFS chose a route that was much longer in terms of trip travel time, but it had fewer number of stops. Dijkstra's Algorithm chose a route that had more stops than the one chosen by BFS, however, the trip travel time was drastically shorter. "
   ]
  },
  {
   "cell_type": "markdown",
   "metadata": {
    "Collapsed": "false"
   },
   "source": [
    "## Executive Summary"
   ]
  },
  {
   "cell_type": "markdown",
   "metadata": {
    "Collapsed": "false"
   },
   "source": [
    "In this assignment, we implemented the Breadth First Search (BFS) algorithm and Dijkstra's Algorithm and examined how both methods compute an optimal route in a graph model. We learned last week that the BFS first determines whether or not a path from node A to node B exists, and if yes, it figures out the shortest path from A to B. Similarly, Dijkstra's Algorithm also figures out the shortest path, but additionally takes positive weights into consideration and is useful for weighted graphs. Generally, Dijkstra's algorithm finds the least costly node, checks if there's a cheaper path to the neighbors of this node, if yes, updates their costs, and repeats until this is done for every node in the graph. Then the final path is calculated.      \n",
    "\n",
    "Our results show that the optimal route chosen by BFS took more than twice as long in terms of driving time (weights), whereas Dijkstra's algorithm chose the path with least amount of weights, or least amount of driving time. In practice, weighted graphs may be more useful in more complex use cases and Dijkstra's algorithm may be a better option for those, whereas BFS works well for unweighted graphs. \n"
   ]
  },
  {
   "cell_type": "code",
   "execution_count": null,
   "metadata": {
    "Collapsed": "false"
   },
   "outputs": [],
   "source": []
  }
 ],
 "metadata": {
  "kernelspec": {
   "display_name": "Python [conda env:py37]",
   "language": "python",
   "name": "conda-env-py37-py"
  },
  "language_info": {
   "codemirror_mode": {
    "name": "ipython",
    "version": 3
   },
   "file_extension": ".py",
   "mimetype": "text/x-python",
   "name": "python",
   "nbconvert_exporter": "python",
   "pygments_lexer": "ipython3",
   "version": "3.7.1"
  },
  "toc": {
   "base_numbering": 1,
   "nav_menu": {
    "height": "390.972px",
    "width": "403.993px"
   },
   "number_sections": true,
   "sideBar": true,
   "skip_h1_title": false,
   "title_cell": "Table of Contents",
   "title_sidebar": "Contents",
   "toc_cell": false,
   "toc_position": {},
   "toc_section_display": true,
   "toc_window_display": false
  },
  "varInspector": {
   "cols": {
    "lenName": 16,
    "lenType": 16,
    "lenVar": 40
   },
   "kernels_config": {
    "python": {
     "delete_cmd_postfix": "",
     "delete_cmd_prefix": "del ",
     "library": "var_list.py",
     "varRefreshCmd": "print(var_dic_list())"
    },
    "r": {
     "delete_cmd_postfix": ") ",
     "delete_cmd_prefix": "rm(",
     "library": "var_list.r",
     "varRefreshCmd": "cat(var_dic_list()) "
    }
   },
   "position": {
    "height": "422.4px",
    "left": "1016.93px",
    "right": "20px",
    "top": "242px",
    "width": "350.925px"
   },
   "types_to_exclude": [
    "module",
    "function",
    "builtin_function_or_method",
    "instance",
    "_Feature"
   ],
   "window_display": false
  }
 },
 "nbformat": 4,
 "nbformat_minor": 4
}
