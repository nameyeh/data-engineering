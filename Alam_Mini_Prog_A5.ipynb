{
 "cells": [
  {
   "cell_type": "markdown",
   "metadata": {
    "cell_style": "center"
   },
   "source": [
    "# **Exploring Hashing**\n",
    "MSDS 432 Module 5\n",
    "\n",
    "Nameyeh Alam"
   ]
  },
  {
   "cell_type": "code",
   "execution_count": 1,
   "metadata": {
    "cell_style": "center",
    "scrolled": true
   },
   "outputs": [],
   "source": [
    "import numpy as np\n",
    "import pandas as pd \n",
    "import matplotlib.pyplot as plt\n",
    "import seaborn as sns\n",
    "import random\n",
    "import string\n",
    "import warnings\n",
    "warnings.filterwarnings(\"ignore\", category=Warning)\n",
    "import time"
   ]
  },
  {
   "cell_type": "markdown",
   "metadata": {},
   "source": [
    "### Define sorting function"
   ]
  },
  {
   "cell_type": "code",
   "execution_count": 2,
   "metadata": {},
   "outputs": [
    {
     "name": "stdout",
     "output_type": "stream",
     "text": [
      "[2, 3, 5, 10]\n"
     ]
    }
   ],
   "source": [
    "# quicksort \n",
    "def quicksort(array):\n",
    "  if len(array) < 2:\n",
    "    # base case, \n",
    "    # arrays with 0 or 1 element \n",
    "    # are already \"sorted\"\n",
    "    return array\n",
    "  else:\n",
    "    # recursive case\n",
    "    pivot = array[0]\n",
    "    # sub-array of all \n",
    "    # the elements less than the pivot\n",
    "    less = [i for i in array[1:] if i <= pivot]\n",
    "    # sub-array of all \n",
    "    # the elements greater than the pivot\n",
    "    greater = [i for i in array[1:] if i > pivot]\n",
    "    return quicksort(less) + [pivot] + quicksort(greater)\n",
    "print(quicksort([10, 5, 2, 3]))"
   ]
  },
  {
   "cell_type": "markdown",
   "metadata": {},
   "source": [
    "### Define search functions "
   ]
  },
  {
   "cell_type": "code",
   "execution_count": 3,
   "metadata": {},
   "outputs": [],
   "source": [
    "# define function for simple search (sequential/linear search)\n",
    "def simple_search(list, item):\n",
    "    for i in list:\n",
    "        if i == item:\n",
    "            return i\n",
    "    # Return none if item does not exist\n",
    "    return None\n",
    "# binary search \n",
    "def binary_search(list, item):\n",
    "  # low and high keep track of which part of the list you'll search in.\n",
    "  low = 0\n",
    "  high = len(list) - 1\n",
    "  # While you haven't narrowed it down to one element ...\n",
    "  while low <= high:\n",
    "    # ... check the middle element\n",
    "    mid = (low + high) // 2\n",
    "    guess = list[mid]\n",
    "    # Found the item.\n",
    "    if guess == item:\n",
    "      return mid\n",
    "    # The guess was too high.\n",
    "    if guess > item:\n",
    "      high = mid - 1\n",
    "    # The guess was too low.\n",
    "    else:\n",
    "      low = mid + 1\n",
    "  # Item doesn't exist\n",
    "  return None"
   ]
  },
  {
   "cell_type": "markdown",
   "metadata": {},
   "source": [
    "# 1. Create three datasets\n",
    "- (1) an unsorted list of names,\n",
    "- (2) a set of those same names, and\n",
    "- (3) a sorted list of the same names.  "
   ]
  },
  {
   "cell_type": "code",
   "execution_count": 3,
   "metadata": {},
   "outputs": [],
   "source": [
    "# Create a list of 100,000 names (randomly pick 10 characters e.g. abcdefghij, any order is fine, \n",
    "# just make sure there are no duplicates in the name) and store those names in an unsorted list.\n",
    "random.seed(5)\n",
    "array1_unsrt = [''.join(random.choices(string.ascii_letters, k = 10)) for _ in range(100000)]"
   ]
  },
  {
   "cell_type": "code",
   "execution_count": 4,
   "metadata": {},
   "outputs": [
    {
     "name": "stdout",
     "output_type": "stream",
     "text": [
      "100000\n"
     ]
    },
    {
     "data": {
      "text/plain": [
       "100000"
      ]
     },
     "execution_count": 4,
     "metadata": {},
     "output_type": "execute_result"
    }
   ],
   "source": [
    "# store the above names in a set (https://docs.python.org/3.7/library/stdtypes.html ). \n",
    "array1_unsrt_set = set(array1_unsrt)\n",
    "# check for duplicates by comparing lengths of list and set \n",
    "print(len(array1_unsrt))\n",
    "len(array1_unsrt_set)"
   ]
  },
  {
   "cell_type": "markdown",
   "metadata": {},
   "source": [
    "Make a separate copy of the list and sort it using any sorting algorithm that you have learned so far and justify why are you using it. Capture the time it takes to sort the list.\n",
    "\n",
    "## Sort using quicksort\n",
    "As we learned last week, quicksort is a fast algorithm that has a best/average big O time complexity of O(n log n), so we will use it to sort the list. "
   ]
  },
  {
   "cell_type": "code",
   "execution_count": 5,
   "metadata": {},
   "outputs": [
    {
     "name": "stdout",
     "output_type": "stream",
     "text": [
      "QUICK SORT --- SORT TIME:\n"
     ]
    },
    {
     "data": {
      "text/plain": [
       "265.75272699999977"
      ]
     },
     "execution_count": 5,
     "metadata": {},
     "output_type": "execute_result"
    }
   ],
   "source": [
    "# make copy of list \n",
    "array1copy=array1_unsrt.copy()\n",
    "\n",
    "# sort copy of list \n",
    "import time\n",
    "start = time.perf_counter()\n",
    "array1_srt = quicksort(array1copy)\n",
    "end = time.perf_counter()\n",
    "array1_srt_time = (end - start)*1000 # convert to milliseconds \n",
    "print(\"QUICK SORT --- SORT TIME:\")\n",
    "array1_srt_time"
   ]
  },
  {
   "cell_type": "code",
   "execution_count": 6,
   "metadata": {},
   "outputs": [
    {
     "name": "stdout",
     "output_type": "stream",
     "text": [
      "['GMPXMVbyXH', 'UfymCDaloV', 'NiPhGgaTkl', 'ZTpXCJkWJY', 'UpsihdpFaJ']\n",
      "['AADMWdEbDp', 'AAEShwMdUN', 'AAGERGYgFE', 'AAGeZcgPpu', 'AAGwhDqQza']\n"
     ]
    }
   ],
   "source": [
    "print(array1_unsrt[0:5])\n",
    "print(array1_srt[0:5])\n",
    "# array1_set"
   ]
  },
  {
   "cell_type": "markdown",
   "metadata": {},
   "source": [
    "# 2. Pick search terms\n",
    "Pick the names from the unsorted array that are at 10,000th, 30,000th, 50,000th, 70,000th, 90,000th, and 100,000th positions, and store them in a temporary array somewhere for later use."
   ]
  },
  {
   "cell_type": "code",
   "execution_count": 7,
   "metadata": {},
   "outputs": [
    {
     "name": "stdout",
     "output_type": "stream",
     "text": [
      "[9999, 29999, 49999, 69999, 89999, 99999]\n"
     ]
    },
    {
     "data": {
      "text/plain": [
       "['GmuoLEHbUX',\n",
       " 'vcmIvQBaAF',\n",
       " 'qZIFgwgfWH',\n",
       " 'tPzidAnhdq',\n",
       " 'vJPJZTzjWu',\n",
       " 'wJyYhozKGK']"
      ]
     },
     "execution_count": 7,
     "metadata": {},
     "output_type": "execute_result"
    }
   ],
   "source": [
    "positions = [10000, 30000, 50000, 70000, 90000, 100000]\n",
    "positions0 = []\n",
    "for x in positions:\n",
    "    y=x-1\n",
    "    positions0.append(y)\n",
    "print(positions0)\n",
    "\n",
    "array1_unsrt_temp=[]\n",
    "for n in range(len(positions0)):\n",
    "    x=positions0[n]  \n",
    "    array1_unsrt_temp.append(array1_unsrt[x])\n",
    "array1_unsrt_temp"
   ]
  },
  {
   "cell_type": "markdown",
   "metadata": {},
   "source": [
    "# 3. Search using linear search, binary search, & set (hash) lookup\n",
    "Now search for these six names in each of the collections.  Use linear search for the unsorted list, binary search for the sorted list, and use the set.remove() (or the in keyword) builtin for the set.  Capture the time it takes using all three algorithms."
   ]
  },
  {
   "cell_type": "code",
   "execution_count": 8,
   "metadata": {},
   "outputs": [
    {
     "name": "stdout",
     "output_type": "stream",
     "text": [
      "GmuoLEHbUX\n"
     ]
    },
    {
     "data": {
      "text/plain": [
       "'GmuoLEHbUX'"
      ]
     },
     "execution_count": 8,
     "metadata": {},
     "output_type": "execute_result"
    }
   ],
   "source": [
    "# test previously defined search functions \n",
    "print(simple_search(array1_unsrt,array1_unsrt_temp[0]))\n",
    "z=(binary_search(array1_srt,array1_unsrt_temp[0]))\n",
    "array1_srt[z]"
   ]
  },
  {
   "cell_type": "code",
   "execution_count": 9,
   "metadata": {},
   "outputs": [
    {
     "name": "stdout",
     "output_type": "stream",
     "text": [
      "GmuoLEHbUX\n",
      "vcmIvQBaAF\n",
      "qZIFgwgfWH\n",
      "tPzidAnhdq\n",
      "vJPJZTzjWu\n",
      "wJyYhozKGK\n"
     ]
    },
    {
     "data": {
      "text/plain": [
       "[0.23660600000008358,\n",
       " 0.6865450000002049,\n",
       " 1.384241999999869,\n",
       " 1.874910000000174,\n",
       " 2.132363999999942,\n",
       " 2.435393999999924]"
      ]
     },
     "execution_count": 9,
     "metadata": {},
     "output_type": "execute_result"
    }
   ],
   "source": [
    "# time for linear/simple search (unsorted list)\n",
    "search_unsrt = []\n",
    "search_unsrt_time = []\n",
    "for n in array1_unsrt_temp:\n",
    "    import time\n",
    "    start = time.perf_counter()\n",
    "    y = simple_search(array1_unsrt,n)\n",
    "    end = time.perf_counter()\n",
    "    time = (end - start)*1000 # convert to milliseconds \n",
    "    print(y)\n",
    "    search_unsrt_time.append(time)\n",
    "search_unsrt_time"
   ]
  },
  {
   "cell_type": "code",
   "execution_count": 10,
   "metadata": {},
   "outputs": [
    {
     "name": "stdout",
     "output_type": "stream",
     "text": [
      "GmuoLEHbUX\n",
      "vcmIvQBaAF\n",
      "qZIFgwgfWH\n",
      "tPzidAnhdq\n",
      "vJPJZTzjWu\n",
      "wJyYhozKGK\n"
     ]
    },
    {
     "data": {
      "text/plain": [
       "[0.010667000000186277,\n",
       " 0.007273000000029839,\n",
       " 0.013576000000181665,\n",
       " 0.01551499999985495,\n",
       " 0.017455000000055065,\n",
       " 0.016000000000016]"
      ]
     },
     "execution_count": 10,
     "metadata": {},
     "output_type": "execute_result"
    }
   ],
   "source": [
    "# time for binary search (sorted list)\n",
    "search_srt_time = []\n",
    "for n in array1_unsrt_temp:\n",
    "    import time\n",
    "    start = time.perf_counter()\n",
    "    y = binary_search(array1_srt,n)\n",
    "    end = time.perf_counter()\n",
    "    time = (end - start)*1000 # convert to milliseconds \n",
    "    print(array1_srt[y])\n",
    "    search_srt_time.append(time)\n",
    "search_srt_time"
   ]
  },
  {
   "cell_type": "code",
   "execution_count": 11,
   "metadata": {},
   "outputs": [
    {
     "name": "stdout",
     "output_type": "stream",
     "text": [
      "GmuoLEHbUX\n",
      "vcmIvQBaAF\n",
      "qZIFgwgfWH\n",
      "tPzidAnhdq\n",
      "vJPJZTzjWu\n",
      "wJyYhozKGK\n"
     ]
    },
    {
     "data": {
      "text/plain": [
       "[0.0009699999998780129,\n",
       " 0.0009689999997952725,\n",
       " 0.00048500000016105105,\n",
       " 0.0014539999999563236,\n",
       " 0.0009699999998780129,\n",
       " 0.00048499999971696184]"
      ]
     },
     "execution_count": 11,
     "metadata": {},
     "output_type": "execute_result"
    }
   ],
   "source": [
    "# time for set lookup (unsorted list)\n",
    "search_set_time=[]\n",
    "for n in array1_unsrt_temp:\n",
    "    import time\n",
    "    start = time.perf_counter()\n",
    "    if n in array1_unsrt_set:\n",
    "        end = time.perf_counter()\n",
    "        print(n)\n",
    "        time = (end - start)*1000 # convert to milliseconds \n",
    "        search_set_time.append(time)\n",
    "search_set_time"
   ]
  },
  {
   "cell_type": "markdown",
   "metadata": {
    "cell_style": "center"
   },
   "source": [
    "# 4. Create a table and plot \n",
    "- comparing times of linear search, binary search and set lookup."
   ]
  },
  {
   "cell_type": "code",
   "execution_count": 12,
   "metadata": {
    "cell_style": "center"
   },
   "outputs": [
    {
     "data": {
      "text/html": [
       "<div>\n",
       "<style scoped>\n",
       "    .dataframe tbody tr th:only-of-type {\n",
       "        vertical-align: middle;\n",
       "    }\n",
       "\n",
       "    .dataframe tbody tr th {\n",
       "        vertical-align: top;\n",
       "    }\n",
       "\n",
       "    .dataframe thead th {\n",
       "        text-align: right;\n",
       "    }\n",
       "</style>\n",
       "<table border=\"1\" class=\"dataframe\">\n",
       "  <thead>\n",
       "    <tr style=\"text-align: right;\">\n",
       "      <th></th>\n",
       "      <th>array_values</th>\n",
       "      <th>simple_search_time</th>\n",
       "      <th>binary_search_time</th>\n",
       "      <th>hash_search_time</th>\n",
       "    </tr>\n",
       "  </thead>\n",
       "  <tbody>\n",
       "    <tr>\n",
       "      <th>0</th>\n",
       "      <td>GmuoLEHbUX</td>\n",
       "      <td>0.236606</td>\n",
       "      <td>0.010667</td>\n",
       "      <td>0.000970</td>\n",
       "    </tr>\n",
       "    <tr>\n",
       "      <th>1</th>\n",
       "      <td>vcmIvQBaAF</td>\n",
       "      <td>0.686545</td>\n",
       "      <td>0.007273</td>\n",
       "      <td>0.000969</td>\n",
       "    </tr>\n",
       "    <tr>\n",
       "      <th>2</th>\n",
       "      <td>qZIFgwgfWH</td>\n",
       "      <td>1.384242</td>\n",
       "      <td>0.013576</td>\n",
       "      <td>0.000485</td>\n",
       "    </tr>\n",
       "    <tr>\n",
       "      <th>3</th>\n",
       "      <td>tPzidAnhdq</td>\n",
       "      <td>1.874910</td>\n",
       "      <td>0.015515</td>\n",
       "      <td>0.001454</td>\n",
       "    </tr>\n",
       "    <tr>\n",
       "      <th>4</th>\n",
       "      <td>vJPJZTzjWu</td>\n",
       "      <td>2.132364</td>\n",
       "      <td>0.017455</td>\n",
       "      <td>0.000970</td>\n",
       "    </tr>\n",
       "    <tr>\n",
       "      <th>5</th>\n",
       "      <td>wJyYhozKGK</td>\n",
       "      <td>2.435394</td>\n",
       "      <td>0.016000</td>\n",
       "      <td>0.000485</td>\n",
       "    </tr>\n",
       "  </tbody>\n",
       "</table>\n",
       "</div>"
      ],
      "text/plain": [
       "  array_values  simple_search_time  binary_search_time  hash_search_time\n",
       "0   GmuoLEHbUX            0.236606            0.010667          0.000970\n",
       "1   vcmIvQBaAF            0.686545            0.007273          0.000969\n",
       "2   qZIFgwgfWH            1.384242            0.013576          0.000485\n",
       "3   tPzidAnhdq            1.874910            0.015515          0.001454\n",
       "4   vJPJZTzjWu            2.132364            0.017455          0.000970\n",
       "5   wJyYhozKGK            2.435394            0.016000          0.000485"
      ]
     },
     "execution_count": 12,
     "metadata": {},
     "output_type": "execute_result"
    }
   ],
   "source": [
    "df=pd.DataFrame({'array_values':array1_unsrt_temp,\n",
    "                 'simple_search_time':search_unsrt_time,\n",
    "                 'binary_search_time':search_srt_time,\n",
    "                 'hash_search_time':search_set_time})\n",
    "df"
   ]
  },
  {
   "cell_type": "code",
   "execution_count": 15,
   "metadata": {
    "cell_style": "center"
   },
   "outputs": [
    {
     "data": {
      "image/png": "[encoded data removed]",
      "text/plain": [
       "<Figure size 504x360 with 1 Axes>"
      ]
     },
     "metadata": {},
     "output_type": "display_data"
    }
   ],
   "source": [
    "plt.style.use('ggplot')\n",
    "plt.figure(figsize = (7,5))\n",
    "plt.plot( 'array_values', 'simple_search_time', data=df, marker='o',linewidth=2,linestyle='solid')\n",
    "plt.plot( 'array_values', 'binary_search_time', data=df, marker='o',linewidth=2,linestyle='solid')\n",
    "plt.plot( 'array_values', 'hash_search_time', data=df, marker='o',linewidth=2,linestyle='solid')\n",
    "plt.xlabel('array_values')\n",
    "plt.ylabel('Execution Time (milliseconds)')\n",
    "plt.title('Fig 1: Comparison of Search Times for\\n Simple/Linear Search, Binary Search, & Set (Hash) Lookup')\n",
    "plt.legend()\n",
    "plt.show()\n",
    "plt.close()"
   ]
  },
  {
   "cell_type": "markdown",
   "metadata": {
    "cell_style": "split"
   },
   "source": [
    "In Figure 1, we can see that search time for simple/linear increases linearly, whereas both set lookup and binary search seem to take constant time (straight line), but we need to take a close look at just binary search and set lookup to verify, since we expect set lookup to have constant time (O(1)), but binary search should be O(log n). "
   ]
  },
  {
   "cell_type": "code",
   "execution_count": 16,
   "metadata": {
    "cell_style": "center"
   },
   "outputs": [
    {
     "data": {
      "image/png": "[encoded data removed]",
      "text/plain": [
       "<Figure size 504x360 with 1 Axes>"
      ]
     },
     "metadata": {},
     "output_type": "display_data"
    }
   ],
   "source": [
    "plt.style.use('ggplot')\n",
    "plt.figure(figsize = (7,5))\n",
    "plt.plot( 'array_values', 'binary_search_time', data=df, marker='o',linewidth=2,linestyle='solid')\n",
    "plt.plot( 'array_values', 'hash_search_time', data=df, marker='o',linewidth=2,linestyle='solid')\n",
    "plt.xlabel('array_values')\n",
    "plt.ylabel('Execution Time (milliseconds)')\n",
    "plt.title('Fig 1: Comparison of Search Times for\\n Binary Search & Set (Hash) Lookup')\n",
    "plt.legend()\n",
    "plt.show()\n",
    "plt.close()"
   ]
  },
  {
   "cell_type": "markdown",
   "metadata": {
    "cell_style": "split"
   },
   "source": [
    "In Figure 2, we see that only set lookup takes constant time to lookup values, and binary search does closely resemble what we expect a graph of O(log n) time to look like. "
   ]
  },
  {
   "cell_type": "markdown",
   "metadata": {},
   "source": [
    "# Executive Summary"
   ]
  },
  {
   "cell_type": "markdown",
   "metadata": {},
   "source": [
    "In this assignment, we compared search times for simple/linear search, binary search, and set lookup. In python, a set is a container of hashable objects, so set lookup will give us an idea of how hash table lookup compares to linear and binary search. By taking the initial unsorted list and storing it in a set, we created a hash table that maps keys to values. Because of the key-value pairs, a set cannot contain duplicates, which is the reason we compared the length of the set to the length of the unsorted list to verify that there were no duplicates in the unsorted list. \n",
    "\n",
    "In terms of Big O time complexity, simple search takes O(n) time, binary search takes O(log n) time, and hash table lookups always take O(1) time, or constant time. Figures 1 and 2 illustrate this well, with linear search having the slowest search execution time, binary search being much faster than linear search, but hash table lookup is by far the fastest. Not only is hash table lookup the fastest, but it is *consistently* the fastest; it takes constant time (O(1)), so the size of the hash table doesn't impact run time, which can be a huge advantage to data engineeers when considering data structure options and search algorithms. "
   ]
  },
  {
   "cell_type": "markdown",
   "metadata": {},
   "source": []
  }
 ],
 "metadata": {
  "kernelspec": {
   "display_name": "Python 3",
   "language": "python",
   "name": "python3"
  },
  "language_info": {
   "codemirror_mode": {
    "name": "ipython",
    "version": 3
   },
   "file_extension": ".py",
   "mimetype": "text/x-python",
   "name": "python",
   "nbconvert_exporter": "python",
   "pygments_lexer": "ipython3",
   "version": "3.8.8"
  },
  "toc": {
   "base_numbering": 1,
   "nav_menu": {
    "height": "390.972px",
    "width": "403.993px"
   },
   "number_sections": true,
   "sideBar": true,
   "skip_h1_title": false,
   "title_cell": "Table of Contents",
   "title_sidebar": "Contents",
   "toc_cell": false,
   "toc_position": {},
   "toc_section_display": true,
   "toc_window_display": false
  },
  "varInspector": {
   "cols": {
    "lenName": 16,
    "lenType": 16,
    "lenVar": 40
   },
   "kernels_config": {
    "python": {
     "delete_cmd_postfix": "",
     "delete_cmd_prefix": "del ",
     "library": "var_list.py",
     "varRefreshCmd": "print(var_dic_list())"
    },
    "r": {
     "delete_cmd_postfix": ") ",
     "delete_cmd_prefix": "rm(",
     "library": "var_list.r",
     "varRefreshCmd": "cat(var_dic_list()) "
    }
   },
   "position": {
    "height": "422.4px",
    "left": "1016.93px",
    "right": "20px",
    "top": "242px",
    "width": "350.925px"
   },
   "types_to_exclude": [
    "module",
    "function",
    "builtin_function_or_method",
    "instance",
    "_Feature"
   ],
   "window_display": false
  }
 },
 "nbformat": 4,
 "nbformat_minor": 4
}
