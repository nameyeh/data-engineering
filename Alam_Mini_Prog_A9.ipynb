{
 "cells": [
  {
   "cell_type": "markdown",
   "metadata": {
    "Collapsed": "false"
   },
   "source": [
    "# **Implement Dynamic Programming**\n",
    "MSDS 432 Module 9\n",
    "\n",
    "Nameyeh Alam"
   ]
  },
  {
   "cell_type": "code",
   "execution_count": 1,
   "metadata": {
    "Collapsed": "false"
   },
   "outputs": [],
   "source": [
    "import numpy as np\n",
    "import pandas as pd \n",
    "import matplotlib.pyplot as plt\n",
    "import seaborn as sns\n",
    "import random\n",
    "import string\n",
    "import warnings\n",
    "warnings.filterwarnings(\"ignore\", category=Warning)\n",
    "import time"
   ]
  },
  {
   "cell_type": "markdown",
   "metadata": {
    "Collapsed": "false"
   },
   "source": [
    "For this week's assignment:\n",
    "\n",
    "- Go to this website and choose one of the Top 20 Dynamic Programming Interview Questions for this assignment.  https://www.geeksforgeeks.org/top-20-dynamic-programming-interview-questions/ (Links to an external site.)\n",
    "- Implement the Dynamic Programming algorithm in Python (it's ok to use the code that's on the webpage) and use it to solve a range of scenarios.  Make sure you are using a Dynamic Programming solution (not another one)\n",
    "- Explain what is being done in the implementation.  That is, write up a walk through of the algorithm and explain how it is a Dynamic Programming solution."
   ]
  },
  {
   "cell_type": "code",
   "execution_count": 2,
   "metadata": {
    "Collapsed": "false"
   },
   "outputs": [
    {
     "name": "stdout",
     "output_type": "stream",
     "text": [
      "Formatted Initial Table: \n",
      "   0  1  2  3  4  5\n",
      "0  0  0  0  0  0  0\n",
      "1  0  0  0  0  0  0\n",
      "2  0  0  0  0  0  0\n",
      "3  0  0  0  0  0  0\n",
      "\n",
      "Formatted Final Table: \n",
      "   0   1    2    3    4    5\n",
      "0  0   0    0    0    0    0\n",
      "1  0  60   60   60   60   60\n",
      "2  0  60  100  160  160  160\n",
      "3  0  60  100  160  180  220\n",
      "Final Result: \n",
      "220\n"
     ]
    }
   ],
   "source": [
    "# Code from: https://www.geeksforgeeks.org/0-1-knapsack-problem-dp-10/\n",
    "# A Dynamic Programming based Python Program for 0-1 Knapsack problem \n",
    "# Returns the maximum value that can be put in a knapsack of capacity W \n",
    "def knapSack(W, wt, val, n): \n",
    "    # create table K\n",
    "    K = [[0 for x in range(W+1)] for x in range(n+1)] \n",
    "    print(\"Formatted Initial Table: \")\n",
    "    print(pd.DataFrame(K))\n",
    "    # Build table K[][] in bottom up manner \n",
    "    # for each row and capacity of knapsack (W):\n",
    "    for i in range(n+1): # 0-3\n",
    "        for w in range(W+1): # 0-5\n",
    "            if i==0 or w==0: # if the row or column val is 0\n",
    "                K[i][w] = 0 # then table entry is 0; we are filling our base case\n",
    "            # if curr weight is less than or equal to curr col wt # for i=1, wt[0]=1\n",
    "            elif wt[i-1] <= w: \n",
    "                # then there are two cases possible: \n",
    "                # 1) with item included \n",
    "                # 2) the second case is excluding item \n",
    "                K[i][w] = max(val[i-1] + K[i-1][w-wt[i-1]],  K[i-1][w])  # for i=1, K[1][1], val[0]=60, K[0][1-wt[0]]=K[0][0], K[0][1]\n",
    "            else: # if wt of curr item is greater than knapsack capacity, \n",
    "                K[i][w] = K[i-1][w] # we exclude the item\n",
    "    print(\"\\nFormatted Final Table: \")\n",
    "    print(pd.DataFrame(K))\n",
    "    print(\"Final Result: \")\n",
    "    # return max value when there are n items within capacity of knapsack\n",
    "    return K[n][W] \n",
    "\n",
    "# Driver program to test above function \n",
    "val = [60, 100, 120] \n",
    "wt = [1, 2, 3] \n",
    "W = 5\n",
    "n = len(val) \n",
    "print(knapSack(W, wt, val, n)) "
   ]
  },
  {
   "cell_type": "markdown",
   "metadata": {
    "Collapsed": "false"
   },
   "source": [
    "# Executive Summary \n",
    "\n",
    "Explain what is being done in the implementation.  That is, write up a walk through of the algorithm and explain how it is a Dynamic Programming solution.\n",
    "\n",
    "---\n",
    "\n",
    "The knapSack function takes 4 arguments, W, wt, val, n.\n",
    "W is the capacity of the knapsack, wt is the weight of each individual item we'd like to steal, val is the value of each item, and n is the number of items available to steal. \n",
    "\n",
    "### 1) Step 1 \n",
    "We begin by creating a table K with dimensions n+1 by W+1. In the case of our test example, this generated a table with 4 rows and 6 columns. The first row will be used as the base case where we compute the max values if no items are available to steal (all zeroes). The first column shows max values for knapsack of capacity zero. \n",
    "\n",
    "```python \n",
    "K = [[0 for x in range(W+1)] for x in range(n+1)] \n",
    "```\n",
    "\n",
    "\n",
    "### 2) Step 2 \n",
    "For each row (item) and column (knapsack capacity), if row=0 or col=0, then we fill in zero for the current table entry. This fills in the entire first row with zeroes. For row 1, col=0 (K[1][0]), we also fill in zero. For row 1, col=1 (K[1][1]), i==0 or w==0 is no longer true, so we move on to the next elif statement. \n",
    "\n",
    "\n",
    "```python\n",
    "for i in range(n+1): # 0-3\n",
    "        for w in range(W+1): # 0-5\n",
    "            if i==0 or w==0: # if the row or column val is 0, # then table entry is 0\n",
    "                K[i][w] = 0 \n",
    "```\n",
    "\n",
    "### 3) Step 3 \n",
    "Here, we ask, is the current weight less than or equal to current column weight? For row 1, col=1 (K[1][1]), the current weight is wt[0]=1, so yes, the current weight is less than or equal to current column weight. So now we have two different possibilities. The first one includes the current item in the knapsack (value of current item + value of remaining space) or the second possibility is the previous maximum (value of the cell above). Whichever number is higher will be the current cell value. \n",
    "\n",
    "```python \n",
    "    elif wt[i-1] <= w: # if curr weight is less than or equal to curr col wt\n",
    "        # then there are two cases possible: \n",
    "        # 1) with item included\n",
    "        # 2) the second case is excluding item \n",
    "        K[i][w] = max(val[i-1] + K[i-1][w-wt[i-1]],  K[i-1][w]) \n",
    "```\n",
    "\n",
    "### 4) Step 4 \n",
    "If the weight of the current item is greater than knapsack capacity, then we'll exclude the item and take the previous max value. \n",
    "\n",
    "```python \n",
    "    else: # if wt of curr item is greater than knapsack capacity, we exclude the item \n",
    "        K[i][w] = K[i-1][w]  \n",
    "```\n",
    "\n",
    "### 5) Step 5\n",
    "Once we are finished iterating through all the rows and columns, we return the value of the last cell in the table, which is our final solution. \n",
    "\n",
    "```python \n",
    "return K[n][W] \n",
    "```\n",
    "\n",
    "#### Dynamic Programming \n",
    "Dynamic programming is a technique to solve a hard problem by breaking it up into subproblems and solving those subproblems first. For the knapsack problem, this is a dynamic programming solution since we started by solving the problem for smaller knapsacks (or “sub-knapsacks”) and then worked our way up to solving the original problem.\n"
   ]
  },
  {
   "cell_type": "code",
   "execution_count": null,
   "metadata": {
    "Collapsed": "false"
   },
   "outputs": [],
   "source": []
  }
 ],
 "metadata": {
  "kernelspec": {
   "display_name": "Python [conda env:py37]",
   "language": "python",
   "name": "conda-env-py37-py"
  },
  "language_info": {
   "codemirror_mode": {
    "name": "ipython",
    "version": 3
   },
   "file_extension": ".py",
   "mimetype": "text/x-python",
   "name": "python",
   "nbconvert_exporter": "python",
   "pygments_lexer": "ipython3",
   "version": "3.7.1"
  }
 },
 "nbformat": 4,
 "nbformat_minor": 4
}
