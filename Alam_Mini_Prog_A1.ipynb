{
 "cells": [
  {
   "cell_type": "markdown",
   "metadata": {},
   "source": [
    "# **Comparing Search Algorithm Performance**\n",
    "#### MSDS 432 Module 1\n",
    "#### Nameyeh Alam"
   ]
  },
  {
   "cell_type": "code",
   "execution_count": 1,
   "metadata": {},
   "outputs": [],
   "source": [
    "import numpy as np\n",
    "import time\n",
    "import pandas as pd \n",
    "import matplotlib.pyplot as plt\n",
    "plt.style.use('ggplot')\n",
    "import seaborn as sns"
   ]
  },
  {
   "cell_type": "code",
   "execution_count": 2,
   "metadata": {},
   "outputs": [],
   "source": [
    "# base code for binary search \n",
    "# as described in Chapter 1 of Grokking Algorithms (Bhargava 2016)\n",
    "def binary_search(list, item):\n",
    "  # low and high keep track of which part of the list you'll search in.\n",
    "  low = 0\n",
    "  high = len(list) - 1\n",
    "\n",
    "  # While you haven't narrowed it down to one element ...\n",
    "  while low <= high:\n",
    "    # ... check the middle element\n",
    "    mid = (low + high) // 2\n",
    "    guess = list[mid]\n",
    "    # Found the item.\n",
    "    if guess == item:\n",
    "      return mid\n",
    "    # The guess was too high.\n",
    "    if guess > item:\n",
    "      high = mid - 1\n",
    "    # The guess was too low.\n",
    "    else:\n",
    "      low = mid + 1\n",
    "\n",
    "  # Item doesn't exist\n",
    "  return None\n",
    "\n",
    "# define function for simple search (sequential/linear search)\n",
    "def simple_search(list, item):\n",
    "    for i in list:\n",
    "        if i == item:\n",
    "            return i\n",
    "    # Return none if item does not exist\n",
    "    return None"
   ]
  },
  {
   "cell_type": "markdown",
   "metadata": {},
   "source": [
    "### Generate random data \n",
    "- common random number seed (5) is used to generate each of the arrays<br>\n",
    "- five arrays, each of length 512, 1024, 2048, 4096, and 8192, <br>\n",
    "containing randomly generated uniformly distributed integers from 1 to 10000  "
   ]
  },
  {
   "cell_type": "code",
   "execution_count": 3,
   "metadata": {},
   "outputs": [],
   "source": [
    "np.random.seed(5)\n",
    "array1 = np.random.randint(low=1, high=10000, size=512)\n",
    "np.random.seed(5)\n",
    "array2 = np.random.randint(low=1, high=10000, size=1024)\n",
    "np.random.seed(5)\n",
    "array3 = np.random.randint(low=1, high=10000, size=2048)\n",
    "np.random.seed(5)\n",
    "array4 = np.random.randint(low=1, high=10000, size=4096)\n",
    "np.random.seed(5)\n",
    "array5 = np.random.randint(low=1, high=10000, size=8192)"
   ]
  },
  {
   "cell_type": "markdown",
   "metadata": {},
   "source": [
    "<p style=\"page-break-after:always;\"></p>"
   ]
  },
  {
   "cell_type": "markdown",
   "metadata": {},
   "source": [
    "### Sort arrays\n",
    "- sort each of the random number arrays from smallest to largest\n",
    "- note time to sort and time how long sort takes "
   ]
  },
  {
   "cell_type": "code",
   "execution_count": 4,
   "metadata": {},
   "outputs": [
    {
     "name": "stdout",
     "output_type": "stream",
     "text": [
      "Sort time =  0.000272484999999989 seconds\n",
      "Sort time =  0.0002176970000000722 seconds\n",
      "Sort time =  0.0003636370000004163 seconds\n",
      "Sort time =  0.0004363640000004665 seconds\n",
      "Sort time =  0.000864970000000298 seconds\n"
     ]
    }
   ],
   "source": [
    "start = time.perf_counter()\n",
    "array1 = np.sort(array1)\n",
    "end = time.perf_counter()\n",
    "print(\"Sort time =  %s seconds\" % (end - start))\n",
    "sort_time1 = (end - start)*1000 # convert to milliseconds \n",
    "\n",
    "start = time.perf_counter()\n",
    "array2 = np.sort(array2)\n",
    "end = time.perf_counter()\n",
    "print(\"Sort time =  %s seconds\" % (end - start))\n",
    "sort_time2 = (end - start)*1000 # convert to milliseconds \n",
    "\n",
    "start = time.perf_counter()\n",
    "array3 = np.sort(array3)\n",
    "end = time.perf_counter()\n",
    "print(\"Sort time =  %s seconds\" % (end - start))\n",
    "sort_time3 = (end - start)*1000 # convert to milliseconds \n",
    "\n",
    "start = time.perf_counter()\n",
    "array4 = np.sort(array4)\n",
    "end = time.perf_counter()\n",
    "print(\"Sort time =  %s seconds\" % (end - start))\n",
    "sort_time4 = (end - start)*1000 # convert to milliseconds \n",
    "\n",
    "start = time.perf_counter()\n",
    "array5 = np.sort(array5)\n",
    "end = time.perf_counter()\n",
    "print(\"Sort time =  %s seconds\" % (end - start))\n",
    "sort_time5 = (end - start)*1000 # convert to milliseconds "
   ]
  },
  {
   "cell_type": "markdown",
   "metadata": {},
   "source": [
    "### Binary search\n",
    "- Execute the base search algorithm (binary search) (from the text and github code)<br> \n",
    "for each of array, noting the execution time for each array.  \n",
    "- With each execution use the maximum value of the random number array<br>\n",
    "as the number for which you are searching.\n"
   ]
  },
  {
   "cell_type": "code",
   "execution_count": 5,
   "metadata": {},
   "outputs": [
    {
     "name": "stdout",
     "output_type": "stream",
     "text": [
      "Execution time =  0.00021527300000023786 seconds\n",
      "Execution time =  0.00019442400000002635 seconds\n",
      "Execution time =  0.00029333300000011775 seconds\n",
      "Execution time =  0.0005250910000000886 seconds\n",
      "Execution time =  0.0011117569999994359 seconds\n"
     ]
    }
   ],
   "source": [
    "start = time.perf_counter()\n",
    "array1max = binary_search(array1, max(array1))\n",
    "end = time.perf_counter()\n",
    "print(\"Execution time =  %s seconds\" % (end - start))\n",
    "binary_time1 = (end - start)*1000 # convert to milliseconds \n",
    "\n",
    "start = time.perf_counter()\n",
    "array2max = binary_search(array2, max(array2))\n",
    "end = time.perf_counter()\n",
    "print(\"Execution time =  %s seconds\" % (end - start))\n",
    "binary_time2 = (end - start)*1000 # convert to milliseconds \n",
    "\n",
    "start = time.perf_counter()\n",
    "array3max = binary_search(array3, max(array3))\n",
    "end = time.perf_counter()\n",
    "print(\"Execution time =  %s seconds\" % (end - start))\n",
    "binary_time3 = (end - start)*1000 # convert to milliseconds \n",
    "\n",
    "start = time.perf_counter()\n",
    "array4max = binary_search(array4, max(array4))\n",
    "end = time.perf_counter()\n",
    "print(\"Execution time =  %s seconds\" % (end - start))\n",
    "binary_time4 = (end - start)*1000 # convert to milliseconds \n",
    "\n",
    "start = time.perf_counter()\n",
    "array5max = binary_search(array5, max(array5))\n",
    "end = time.perf_counter()\n",
    "print(\"Execution time =  %s seconds\" % (end - start))\n",
    "binary_time5 = (end - start)*1000 # convert to milliseconds "
   ]
  },
  {
   "cell_type": "markdown",
   "metadata": {},
   "source": [
    "<p style=\"page-break-after:always;\"></p>"
   ]
  },
  {
   "cell_type": "markdown",
   "metadata": {},
   "source": [
    "### Linear Search"
   ]
  },
  {
   "cell_type": "code",
   "execution_count": 6,
   "metadata": {},
   "outputs": [
    {
     "name": "stdout",
     "output_type": "stream",
     "text": [
      "Execution time =  0.0005551519999995591 seconds\n",
      "Execution time =  0.0004024239999997903 seconds\n",
      "Execution time =  0.0013483629999999636 seconds\n",
      "Execution time =  0.0024276360000001773 seconds\n",
      "Execution time =  0.0057692119999996905 seconds\n"
     ]
    }
   ],
   "source": [
    "start = time.perf_counter()\n",
    "array1max = simple_search(array1, max(array1))\n",
    "end = time.perf_counter()\n",
    "print(\"Execution time =  %s seconds\" % (end - start))\n",
    "simple_time1 = (end - start)*1000 # convert to milliseconds \n",
    "\n",
    "start = time.perf_counter()\n",
    "array2max = simple_search(array2, max(array2))\n",
    "end = time.perf_counter()\n",
    "print(\"Execution time =  %s seconds\" % (end - start))\n",
    "simple_time2 = (end - start)*1000 # convert to milliseconds \n",
    "\n",
    "start = time.perf_counter()\n",
    "array3max = simple_search(array3, max(array3))\n",
    "end = time.perf_counter()\n",
    "print(\"Execution time =  %s seconds\" % (end - start))\n",
    "simple_time3 = (end - start)*1000 # convert to milliseconds \n",
    "\n",
    "start = time.perf_counter()\n",
    "array4max = simple_search(array4, max(array4))\n",
    "end = time.perf_counter()\n",
    "print(\"Execution time =  %s seconds\" % (end - start))\n",
    "simple_time4 = (end - start)*1000 # convert to milliseconds \n",
    "\n",
    "start = time.perf_counter()\n",
    "array5max = simple_search(array5, max(array5))\n",
    "end = time.perf_counter()\n",
    "print(\"Execution time =  %s seconds\" % (end - start))\n",
    "simple_time5 = (end - start)*1000 # convert to milliseconds \n"
   ]
  },
  {
   "cell_type": "markdown",
   "metadata": {},
   "source": [
    "### Create dataframe \n",
    "Use python to prepare a five-column table containing <br>\n",
    "the following columns with all times in milliseconds:\n",
    "- length of the random number array\n",
    "- sort time\n",
    "- linear search time for the sorted array\n",
    "- binary search time for the sorted array\n",
    "- binary search plus sort times"
   ]
  },
  {
   "cell_type": "code",
   "execution_count": 7,
   "metadata": {},
   "outputs": [
    {
     "data": {
      "text/html": [
       "<div>\n",
       "<style scoped>\n",
       "    .dataframe tbody tr th:only-of-type {\n",
       "        vertical-align: middle;\n",
       "    }\n",
       "\n",
       "    .dataframe tbody tr th {\n",
       "        vertical-align: top;\n",
       "    }\n",
       "\n",
       "    .dataframe thead th {\n",
       "        text-align: right;\n",
       "    }\n",
       "</style>\n",
       "<table border=\"1\" class=\"dataframe\">\n",
       "  <thead>\n",
       "    <tr style=\"text-align: right;\">\n",
       "      <th></th>\n",
       "      <th>array_length</th>\n",
       "      <th>sort_time</th>\n",
       "      <th>linear_search_time</th>\n",
       "      <th>binary_search_time</th>\n",
       "      <th>binary_search_time_plus_sort_time</th>\n",
       "    </tr>\n",
       "  </thead>\n",
       "  <tbody>\n",
       "    <tr>\n",
       "      <th>0</th>\n",
       "      <td>512.0</td>\n",
       "      <td>0.272485</td>\n",
       "      <td>0.555152</td>\n",
       "      <td>0.215273</td>\n",
       "      <td>0.487758</td>\n",
       "    </tr>\n",
       "    <tr>\n",
       "      <th>1</th>\n",
       "      <td>1024.0</td>\n",
       "      <td>0.217697</td>\n",
       "      <td>0.402424</td>\n",
       "      <td>0.194424</td>\n",
       "      <td>0.412121</td>\n",
       "    </tr>\n",
       "    <tr>\n",
       "      <th>2</th>\n",
       "      <td>2048.0</td>\n",
       "      <td>0.363637</td>\n",
       "      <td>1.348363</td>\n",
       "      <td>0.293333</td>\n",
       "      <td>0.656970</td>\n",
       "    </tr>\n",
       "    <tr>\n",
       "      <th>3</th>\n",
       "      <td>4096.0</td>\n",
       "      <td>0.436364</td>\n",
       "      <td>2.427636</td>\n",
       "      <td>0.525091</td>\n",
       "      <td>0.961455</td>\n",
       "    </tr>\n",
       "    <tr>\n",
       "      <th>4</th>\n",
       "      <td>8192.0</td>\n",
       "      <td>0.864970</td>\n",
       "      <td>5.769212</td>\n",
       "      <td>1.111757</td>\n",
       "      <td>1.976727</td>\n",
       "    </tr>\n",
       "  </tbody>\n",
       "</table>\n",
       "</div>"
      ],
      "text/plain": [
       "   array_length  sort_time  linear_search_time  binary_search_time  \\\n",
       "0         512.0   0.272485            0.555152            0.215273   \n",
       "1        1024.0   0.217697            0.402424            0.194424   \n",
       "2        2048.0   0.363637            1.348363            0.293333   \n",
       "3        4096.0   0.436364            2.427636            0.525091   \n",
       "4        8192.0   0.864970            5.769212            1.111757   \n",
       "\n",
       "   binary_search_time_plus_sort_time  \n",
       "0                           0.487758  \n",
       "1                           0.412121  \n",
       "2                           0.656970  \n",
       "3                           0.961455  \n",
       "4                           1.976727  "
      ]
     },
     "execution_count": 7,
     "metadata": {},
     "output_type": "execute_result"
    }
   ],
   "source": [
    "df = pd.DataFrame(np.array([[len(array1),sort_time1,simple_time1,binary_time1,binary_time1+sort_time1],\n",
    "                            [len(array2),sort_time2,simple_time2,binary_time2,binary_time2+sort_time2], \n",
    "                            [len(array3),sort_time3,simple_time3,binary_time3,binary_time3+sort_time3],\n",
    "                            [len(array4),sort_time4,simple_time4,binary_time4,binary_time4+sort_time4],\n",
    "                            [len(array5),sort_time5,simple_time5,binary_time5,binary_time5+sort_time5]]), \n",
    "                            columns=['array_length','sort_time','linear_search_time','binary_search_time',\n",
    "                                     'binary_search_time_plus_sort_time'])\n",
    "df"
   ]
  },
  {
   "cell_type": "markdown",
   "metadata": {},
   "source": [
    "<p style=\"page-break-after:always;\"></p>"
   ]
  },
  {
   "cell_type": "markdown",
   "metadata": {},
   "source": [
    "### Plot Generation (1)\n",
    "- Use python matplotlib or Seaborn to generate a plot <br> \n",
    "with the size of the random number array on the horizontal axis <br> and with execution time in milliseconds on the vertical axis. \n",
    "\n",
    "- The plot should show execution time against array size <br>\n",
    "for linear and binary search algorithms alone.  Discuss the results."
   ]
  },
  {
   "cell_type": "code",
   "execution_count": 14,
   "metadata": {},
   "outputs": [
    {
     "data": {
      "image/png": "[encoded data removed]",
      "text/plain": [
       "<Figure size 432x288 with 1 Axes>"
      ]
     },
     "metadata": {
      "needs_background": "light"
     },
     "output_type": "display_data"
    }
   ],
   "source": [
    "plt.plot( 'array_length', 'linear_search_time', data=df, marker='o', linewidth=2,linestyle='solid')\n",
    "plt.plot( 'array_length', 'binary_search_time', data=df, marker='o', linewidth=2,linestyle='solid')\n",
    "plt.xlabel('array length')\n",
    "plt.ylabel('Execution Time (milliseconds)')\n",
    "plt.title('Fig 1: Array Length vs Search Execution Time')\n",
    "plt.legend()\n",
    "plt.show()"
   ]
  },
  {
   "cell_type": "markdown",
   "metadata": {},
   "source": [
    "Figure 1 shows array length vs search execution time for two algorithms, <br>\n",
    "simple/linear search and binary search. The plot shows that linear search <br>\n",
    "takes longer to execute than binary search. When array length is smaller, <br>\n",
    "the search times are relatively close together, but as array length increases, <br>\n",
    "the linear search time becomes increasingly SLOWER."
   ]
  },
  {
   "cell_type": "markdown",
   "metadata": {},
   "source": [
    "<p style=\"page-break-after:always;\"></p>"
   ]
  },
  {
   "cell_type": "markdown",
   "metadata": {},
   "source": [
    "### Plot Generation (2)\n",
    "- Use Python matplotlib or Seaborn to generate a measure of the size of the data set <br>\n",
    "on the horizontal axis and with execution time in milliseconds on the vertical axis. \n",
    "- The plot should show execution time against array size for each form of the algorithm <br>\n",
    "being tested (last four columns of the table).  Discuss the results."
   ]
  },
  {
   "cell_type": "code",
   "execution_count": 15,
   "metadata": {},
   "outputs": [
    {
     "data": {
      "image/png": "[encoded data removed]",
      "text/plain": [
       "<Figure size 432x288 with 1 Axes>"
      ]
     },
     "metadata": {
      "needs_background": "light"
     },
     "output_type": "display_data"
    }
   ],
   "source": [
    "plt.plot( 'array_length', 'sort_time', data=df, marker='o', linewidth=2,linestyle='solid')\n",
    "plt.plot( 'array_length', 'linear_search_time', data=df, marker='o', linewidth=2,linestyle='solid')\n",
    "plt.plot( 'array_length', 'binary_search_time', data=df, marker='o', linewidth=2,linestyle='solid')\n",
    "plt.plot( 'array_length', 'binary_search_time_plus_sort_time', data=df, marker='o', linewidth=2,linestyle='solid')\n",
    "plt.xlabel('array length')\n",
    "plt.ylabel('Execution Time (milliseconds)')\n",
    "plt.title('Fig 2: Array Length vs Search Execution Time')\n",
    "plt.legend()\n",
    "plt.show()"
   ]
  },
  {
   "cell_type": "markdown",
   "metadata": {},
   "source": [
    "The (binary search time + sort time) shown in Figure 2 <br> \n",
    "is a more accurate way to compare binary search to simple search <br>\n",
    "(see discussion below)."
   ]
  },
  {
   "cell_type": "markdown",
   "metadata": {},
   "source": [
    "<p style=\"page-break-after:always;\"></p>"
   ]
  },
  {
   "cell_type": "markdown",
   "metadata": {},
   "source": [
    "## Executive Summary"
   ]
  },
  {
   "cell_type": "markdown",
   "metadata": {},
   "source": [
    "Algorithm speed is not measured in seconds, but instead by the growth of the number of operations; in other words, how quickly the run time increases as the size of the input increases. Big O notation is special notation that indicates how fast an algorithm is; it is written as O(n), where n is the number of operations an algorithm will make, in the worse case scenario.\n",
    "\n",
    "Above, we compared two different algorithms, simple/linear search and binary search. We saw that binary search is faster than simple search; as the array length increases, the difference of how much faster becomes larger. As shown by the first two data points in Figure 1, when array length is smaller, the search times are relatively close together, but as array length increases, the binary search time becomes increasingly faster. This is what we expect, since simple search has a big O run time of O(n), or linear time; and binary search has a run time of O(log n), or log time. So if your input is any list of n, simple search will take n steps to execute, whereas binary search will take log base 2 of n steps. So if n is 100, simple search will take 100 steps, but binary search will take log base 2 of 10, which rounds to 7 steps.\n",
    "\n",
    "Figure 2 shows two extra lines, sort time and (binary search time + sort time). Binary search only works if your list is in sorted order, so to more accurately compare the two algorithms, we should compare (binary search time + sort time) and linear search time. The graph shows that even when we add sort time to the binary search time, the result is still much faster at higher array lengths when compared with linear search time. \n",
    "\n",
    "Algorithm run times are very useful to data engineers when it comes to thinking about scalability. If we intially use a simple search algorithm, and the current data input is small enough that run time is not an issue, we may be tempted to keep the code simple and use linear search. However, if the volume of data is expected to fluctuate and likely increase (as is the case for many data applications), it may be better to implement a binary search algorithm early on, and the extra work will pay off in the future, as data input increases and run times remain fast."
   ]
  },
  {
   "cell_type": "code",
   "execution_count": null,
   "metadata": {},
   "outputs": [],
   "source": []
  }
 ],
 "metadata": {
  "kernelspec": {
   "display_name": "Python 3",
   "language": "python",
   "name": "python3"
  },
  "language_info": {
   "codemirror_mode": {
    "name": "ipython",
    "version": 3
   },
   "file_extension": ".py",
   "mimetype": "text/x-python",
   "name": "python",
   "nbconvert_exporter": "python",
   "pygments_lexer": "ipython3",
   "version": "3.7.6"
  },
  "varInspector": {
   "cols": {
    "lenName": 16,
    "lenType": 16,
    "lenVar": 40
   },
   "kernels_config": {
    "python": {
     "delete_cmd_postfix": "",
     "delete_cmd_prefix": "del ",
     "library": "var_list.py",
     "varRefreshCmd": "print(var_dic_list())"
    },
    "r": {
     "delete_cmd_postfix": ") ",
     "delete_cmd_prefix": "rm(",
     "library": "var_list.r",
     "varRefreshCmd": "cat(var_dic_list()) "
    }
   },
   "types_to_exclude": [
    "module",
    "function",
    "builtin_function_or_method",
    "instance",
    "_Feature"
   ],
   "window_display": false
  }
 },
 "nbformat": 4,
 "nbformat_minor": 4
}
