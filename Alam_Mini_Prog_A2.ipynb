{
 "cells": [
  {
   "cell_type": "markdown",
   "metadata": {
    "Collapsed": "false"
   },
   "source": [
    "# **Implement a Selection Sort Algorithm**\n",
    "MSDS 432 Module 2\n",
    "\n",
    "Nameyeh Alam"
   ]
  },
  {
   "cell_type": "code",
   "execution_count": 1,
   "metadata": {
    "Collapsed": "false",
    "scrolled": true
   },
   "outputs": [],
   "source": [
    "import numpy as np\n",
    "import time\n",
    "import pandas as pd \n",
    "import matplotlib.pyplot as plt\n",
    "import seaborn as sns\n",
    "import random\n",
    "import string\n",
    "import warnings\n",
    "warnings.filterwarnings(\"ignore\", category=Warning)"
   ]
  },
  {
   "cell_type": "markdown",
   "metadata": {
    "Collapsed": "false"
   },
   "source": [
    "### Define Selection Sort"
   ]
  },
  {
   "cell_type": "code",
   "execution_count": 2,
   "metadata": {
    "Collapsed": "false"
   },
   "outputs": [
    {
     "name": "stdout",
     "output_type": "stream",
     "text": [
      "[2, 3, 5, 6, 10]\n"
     ]
    }
   ],
   "source": [
    "# base code for Selection Sort\n",
    "# as described in Chapter 2 of Grokking Algorithms (Bhargava 2016)\n",
    "\n",
    "# Finds the smallest value in an array\n",
    "def findSmallest(arr):\n",
    "  # Stores the smallest value\n",
    "  smallest = arr[0]\n",
    "  # Stores the index of the smallest value\n",
    "  smallest_index = 0\n",
    "  for i in range(1, len(arr)):\n",
    "    if arr[i] < smallest:\n",
    "      smallest_index = i\n",
    "      smallest = arr[i]      \n",
    "  return smallest_index\n",
    "\n",
    "# Sort array\n",
    "def selectionSort(arr):\n",
    "  newArr = []\n",
    "  for i in range(len(arr)):\n",
    "      # Finds the smallest element in the array and adds it to the new array\n",
    "      smallest = findSmallest(arr)\n",
    "      newArr.append(arr.pop(smallest))\n",
    "  return newArr\n",
    "\n",
    "print(selectionSort([5, 3, 6, 2, 10]))"
   ]
  },
  {
   "cell_type": "markdown",
   "metadata": {
    "Collapsed": "false"
   },
   "source": [
    "# 1. Generate random data  (4 Data Types)\n",
    "- common random number seed (5) is used to generate each of the arrays<br>\n",
    "- five data arrays of length 5,000, 10,000, 15,000, 20,000, and 25,000 of uniformly distributed random numbers (you may use either integers or floating point)\n",
    "    - #### Extra Credit #1 (6 points) :  \n",
    "        - Do the same thing for each of the following four data types:  (1) uniformly distributed random integer, (2) uniformly distributed random float, (3) randomly generated text string of length 5, and (4) randomly generated text string of length 15.  \n",
    "        - The assignment calls for us to profile the Selection Sort algorithm on a single data type over a dimension of size, but this extra credit will profile the algorithm across both size AND data type"
   ]
  },
  {
   "cell_type": "markdown",
   "metadata": {
    "Collapsed": "false",
    "cell_style": "center"
   },
   "source": [
    "### 1.1 Generate random data - INTEGERS\n",
    "-  Ensure that a common random number seed is used to generate each of the arrays"
   ]
  },
  {
   "cell_type": "code",
   "execution_count": 3,
   "metadata": {
    "Collapsed": "false",
    "cell_style": "center"
   },
   "outputs": [
    {
     "data": {
      "text/plain": [
       "int"
      ]
     },
     "execution_count": 3,
     "metadata": {},
     "output_type": "execute_result"
    }
   ],
   "source": [
    "np.random.seed(5)\n",
    "array1 = np.random.randint(low=1, high=1000000, size=5000).tolist()\n",
    "np.random.seed(5)\n",
    "array2 = np.random.randint(low=1, high=1000000, size=10000).tolist()\n",
    "np.random.seed(5)\n",
    "array3 = np.random.randint(low=1, high=1000000, size=15000).tolist()\n",
    "np.random.seed(5)\n",
    "array4 = np.random.randint(low=1, high=1000000, size=20000).tolist()\n",
    "np.random.seed(5)\n",
    "array5 = np.random.randint(low=1, high=1000000, size=25000).tolist()\n",
    "\n",
    "# verify data type\n",
    "type(array1[0])"
   ]
  },
  {
   "cell_type": "markdown",
   "metadata": {
    "Collapsed": "false",
    "cell_style": "center"
   },
   "source": [
    "### 1.2 Generate random data - FLOATS\n",
    "-  Ensure that a common random number seed is used to generate each of the arrays"
   ]
  },
  {
   "cell_type": "code",
   "execution_count": 4,
   "metadata": {
    "Collapsed": "false",
    "cell_style": "center"
   },
   "outputs": [
    {
     "data": {
      "text/plain": [
       "float"
      ]
     },
     "execution_count": 4,
     "metadata": {},
     "output_type": "execute_result"
    }
   ],
   "source": [
    "np.random.seed(5)\n",
    "fl_array1 = np.random.random(size=5000).tolist()\n",
    "np.random.seed(5)\n",
    "fl_array2 = np.random.random(size=10000).tolist()\n",
    "np.random.seed(5)\n",
    "fl_array3 = np.random.random(size=15000).tolist()\n",
    "np.random.seed(5)\n",
    "fl_array4 = np.random.random(size=20000).tolist()\n",
    "np.random.seed(5)\n",
    "fl_array5 = np.random.random(size=25000).tolist()\n",
    "\n",
    "#verify data type\n",
    "type(fl_array1[0])"
   ]
  },
  {
   "cell_type": "markdown",
   "metadata": {
    "Collapsed": "false"
   },
   "source": [
    "<p style=\"page-break-after:always;\"></p>"
   ]
  },
  {
   "cell_type": "markdown",
   "metadata": {
    "Collapsed": "false"
   },
   "source": [
    "### 1.3 Generate random data - STRINGS - length 5\n",
    "-  Ensure that a common random number seed is used to generate each of the arrays"
   ]
  },
  {
   "cell_type": "code",
   "execution_count": 5,
   "metadata": {
    "Collapsed": "false",
    "cell_style": "center"
   },
   "outputs": [],
   "source": [
    "np.random.seed(5)\n",
    "str_5_array1 = [''.join(random.choices(string.ascii_letters, k = 5)) for _ in range(5000)]\n",
    "np.random.seed(5)\n",
    "str_5_array2 = [''.join(random.choices(string.ascii_letters, k = 5)) for _ in range(10000)]\n",
    "np.random.seed(5)\n",
    "str_5_array3 = [''.join(random.choices(string.ascii_letters, k = 5)) for _ in range(15000)]\n",
    "np.random.seed(5)\n",
    "str_5_array4 = [''.join(random.choices(string.ascii_letters, k = 5)) for _ in range(20000)]\n",
    "np.random.seed(5)\n",
    "str_5_array5 = [''.join(random.choices(string.ascii_letters, k = 5)) for _ in range(25000)]"
   ]
  },
  {
   "cell_type": "markdown",
   "metadata": {
    "Collapsed": "false"
   },
   "source": [
    "### 1.4 Generate random data - STRINGS - length 15\n",
    "-  Ensure that a common random number seed is used to generate each of the arrays"
   ]
  },
  {
   "cell_type": "code",
   "execution_count": 6,
   "metadata": {
    "Collapsed": "false"
   },
   "outputs": [],
   "source": [
    "np.random.seed(5)\n",
    "str_15_array1 = [''.join(random.choices(string.ascii_letters, k = 15)) for _ in range(5000)]\n",
    "np.random.seed(5)\n",
    "str_15_array2 = [''.join(random.choices(string.ascii_letters, k = 15)) for _ in range(10000)]\n",
    "np.random.seed(5)\n",
    "str_15_array3 = [''.join(random.choices(string.ascii_letters, k = 15)) for _ in range(15000)]\n",
    "np.random.seed(5)\n",
    "str_15_array4 = [''.join(random.choices(string.ascii_letters, k = 15)) for _ in range(20000)]\n",
    "np.random.seed(5)\n",
    "str_15_array5 = [''.join(random.choices(string.ascii_letters, k = 15)) for _ in range(25000)]"
   ]
  },
  {
   "cell_type": "markdown",
   "metadata": {
    "Collapsed": "false"
   },
   "source": [
    "# 2. Execute Selection Sort\n",
    "- Execute the base algorithm (Selection Sort) for each of the arrays, noting the execution time with each execution. \n"
   ]
  },
  {
   "cell_type": "markdown",
   "metadata": {
    "Collapsed": "false",
    "cell_style": "center"
   },
   "source": [
    "### 2.1 Execute Selection Sort - INTEGERS"
   ]
  },
  {
   "cell_type": "code",
   "execution_count": 7,
   "metadata": {
    "Collapsed": "false",
    "cell_style": "center"
   },
   "outputs": [
    {
     "name": "stdout",
     "output_type": "stream",
     "text": [
      "Sort time =  1.2628004850000005 seconds\n",
      "Sort time =  5.584781576000001 seconds\n",
      "Sort time =  12.108416 seconds\n",
      "Sort time =  20.188089211999998 seconds\n",
      "Sort time =  40.36099103 seconds\n"
     ]
    }
   ],
   "source": [
    "start = time.perf_counter()\n",
    "array1 = selectionSort((array1))\n",
    "end = time.perf_counter()\n",
    "print(\"Sort time =  %s seconds\" % (end - start))\n",
    "int_sort_time1 = (end - start)*1000 # convert to milliseconds \n",
    "\n",
    "start = time.perf_counter()\n",
    "array2 = selectionSort((array2))\n",
    "end = time.perf_counter()\n",
    "print(\"Sort time =  %s seconds\" % (end - start))\n",
    "int_sort_time2 = (end - start)*1000 # convert to milliseconds \n",
    "\n",
    "start = time.perf_counter()\n",
    "array3 = selectionSort((array3))\n",
    "end = time.perf_counter()\n",
    "print(\"Sort time =  %s seconds\" % (end - start))\n",
    "int_sort_time3 = (end - start)*1000 # convert to milliseconds \n",
    "\n",
    "start = time.perf_counter()\n",
    "array4 = selectionSort((array4))\n",
    "end = time.perf_counter()\n",
    "print(\"Sort time =  %s seconds\" % (end - start))\n",
    "int_sort_time4 = (end - start)*1000 # convert to milliseconds \n",
    "\n",
    "start = time.perf_counter()\n",
    "array5 = selectionSort((array5))\n",
    "end = time.perf_counter()\n",
    "print(\"Sort time =  %s seconds\" % (end - start))\n",
    "int_sort_time5 = (end - start)*1000 # convert to milliseconds "
   ]
  },
  {
   "cell_type": "markdown",
   "metadata": {
    "Collapsed": "false",
    "cell_style": "center"
   },
   "source": [
    "### 2.2 Execute Selection Sort - FLOATS"
   ]
  },
  {
   "cell_type": "code",
   "execution_count": 8,
   "metadata": {
    "Collapsed": "false",
    "cell_style": "center"
   },
   "outputs": [
    {
     "name": "stdout",
     "output_type": "stream",
     "text": [
      "Sort time =  1.5647980609999905 seconds\n",
      "Sort time =  6.201333333000008 seconds\n",
      "Sort time =  14.360392242000003 seconds\n",
      "Sort time =  25.924489211999997 seconds\n",
      "Sort time =  40.530579394 seconds\n"
     ]
    }
   ],
   "source": [
    "start = time.perf_counter()\n",
    "fl_array1 = selectionSort((fl_array1))\n",
    "end = time.perf_counter()\n",
    "print(\"Sort time =  %s seconds\" % (end - start))\n",
    "fl_sort_time1 = (end - start)*1000 # convert to milliseconds \n",
    "\n",
    "start = time.perf_counter()\n",
    "fl_array2 = selectionSort((fl_array2))\n",
    "end = time.perf_counter()\n",
    "print(\"Sort time =  %s seconds\" % (end - start))\n",
    "fl_sort_time2 = (end - start)*1000 # convert to milliseconds \n",
    "\n",
    "start = time.perf_counter()\n",
    "fl_array3 = selectionSort((fl_array3))\n",
    "end = time.perf_counter()\n",
    "print(\"Sort time =  %s seconds\" % (end - start))\n",
    "fl_sort_time3 = (end - start)*1000 # convert to milliseconds \n",
    "\n",
    "start = time.perf_counter()\n",
    "fl_array4 = selectionSort((fl_array4))\n",
    "end = time.perf_counter()\n",
    "print(\"Sort time =  %s seconds\" % (end - start))\n",
    "fl_sort_time4 = (end - start)*1000 # convert to milliseconds \n",
    "\n",
    "start = time.perf_counter()\n",
    "fl_array5 = selectionSort((fl_array5))\n",
    "end = time.perf_counter()\n",
    "print(\"Sort time =  %s seconds\" % (end - start))\n",
    "fl_sort_time5 = (end - start)*1000 # convert to milliseconds "
   ]
  },
  {
   "cell_type": "markdown",
   "metadata": {
    "Collapsed": "false"
   },
   "source": [
    "### 2.3 Execute Selection Sort - STRINGS - length 5"
   ]
  },
  {
   "cell_type": "code",
   "execution_count": 9,
   "metadata": {
    "Collapsed": "false",
    "cell_style": "center"
   },
   "outputs": [
    {
     "name": "stdout",
     "output_type": "stream",
     "text": [
      "Sort time =  1.7095689699999923 seconds\n",
      "Sort time =  7.7064416970000025 seconds\n",
      "Sort time =  17.290823273 seconds\n",
      "Sort time =  28.18400097 seconds\n",
      "Sort time =  44.81899684899997 seconds\n"
     ]
    }
   ],
   "source": [
    "start = time.perf_counter()\n",
    "str_5_array1 = selectionSort((str_5_array1))\n",
    "end = time.perf_counter()\n",
    "print(\"Sort time =  %s seconds\" % (end - start))\n",
    "str_5_sort_time1 = (end - start)*1000 # convert to milliseconds \n",
    "\n",
    "start = time.perf_counter()\n",
    "str_5_array2 = selectionSort((str_5_array2))\n",
    "end = time.perf_counter()\n",
    "print(\"Sort time =  %s seconds\" % (end - start))\n",
    "str_5_sort_time2 = (end - start)*1000 # convert to milliseconds \n",
    "\n",
    "start = time.perf_counter()\n",
    "str_5_array3 = selectionSort((str_5_array3))\n",
    "end = time.perf_counter()\n",
    "print(\"Sort time =  %s seconds\" % (end - start))\n",
    "str_5_sort_time3 = (end - start)*1000 # convert to milliseconds \n",
    "\n",
    "start = time.perf_counter()\n",
    "str_5_array4 = selectionSort((str_5_array4))\n",
    "end = time.perf_counter()\n",
    "print(\"Sort time =  %s seconds\" % (end - start))\n",
    "str_5_sort_time4 = (end - start)*1000 # convert to milliseconds \n",
    "\n",
    "start = time.perf_counter()\n",
    "str_5_array5 = selectionSort((str_5_array5))\n",
    "end = time.perf_counter()\n",
    "print(\"Sort time =  %s seconds\" % (end - start))\n",
    "str_5_sort_time5 = (end - start)*1000 # convert to milliseconds "
   ]
  },
  {
   "cell_type": "markdown",
   "metadata": {
    "Collapsed": "false",
    "cell_style": "center"
   },
   "source": [
    "### 2.4 Execute Selection Sort - STRINGS - length 15"
   ]
  },
  {
   "cell_type": "code",
   "execution_count": 10,
   "metadata": {
    "Collapsed": "false",
    "cell_style": "center"
   },
   "outputs": [
    {
     "name": "stdout",
     "output_type": "stream",
     "text": [
      "Sort time =  2.1625934549999783 seconds\n",
      "Sort time =  8.205712484000003 seconds\n",
      "Sort time =  16.332644362999986 seconds\n",
      "Sort time =  29.447379878999982 seconds\n",
      "Sort time =  48.91004509099997 seconds\n"
     ]
    }
   ],
   "source": [
    "start = time.perf_counter()\n",
    "str_15_array1 = selectionSort((str_15_array1))\n",
    "end = time.perf_counter()\n",
    "print(\"Sort time =  %s seconds\" % (end - start))\n",
    "str_15_sort_time1 = (end - start)*1000 # convert to milliseconds \n",
    "\n",
    "start = time.perf_counter()\n",
    "str_15_array2 = selectionSort((str_15_array2))\n",
    "end = time.perf_counter()\n",
    "print(\"Sort time =  %s seconds\" % (end - start))\n",
    "str_15_sort_time2 = (end - start)*1000 # convert to milliseconds \n",
    "\n",
    "start = time.perf_counter()\n",
    "str_15_array3 = selectionSort((str_15_array3))\n",
    "end = time.perf_counter()\n",
    "print(\"Sort time =  %s seconds\" % (end - start))\n",
    "str_15_sort_time3 = (end - start)*1000 # convert to milliseconds \n",
    "\n",
    "start = time.perf_counter()\n",
    "str_15_array4 = selectionSort((str_15_array4))\n",
    "end = time.perf_counter()\n",
    "print(\"Sort time =  %s seconds\" % (end - start))\n",
    "str_15_sort_time4 = (end - start)*1000 # convert to milliseconds \n",
    "\n",
    "start = time.perf_counter()\n",
    "str_15_array5 = selectionSort((str_15_array5))\n",
    "end = time.perf_counter()\n",
    "print(\"Sort time =  %s seconds\" % (end - start))\n",
    "str_15_sort_time5 = (end - start)*1000 # convert to milliseconds "
   ]
  },
  {
   "cell_type": "markdown",
   "metadata": {
    "Collapsed": "false"
   },
   "source": [
    "# 3. Organize Data \n",
    "- Organize the results of the study into a table showing the size of data array and the time taken to sort the array. \n",
    "- Discuss the differences in timing and how they relate to data type and length of array.  "
   ]
  },
  {
   "cell_type": "markdown",
   "metadata": {
    "Collapsed": "false"
   },
   "source": [
    "### 3.1 Create Dataframe - INTEGERS"
   ]
  },
  {
   "cell_type": "code",
   "execution_count": 11,
   "metadata": {
    "Collapsed": "false",
    "cell_style": "center"
   },
   "outputs": [
    {
     "data": {
      "text/html": [
       "<div>\n",
       "<style scoped>\n",
       "    .dataframe tbody tr th:only-of-type {\n",
       "        vertical-align: middle;\n",
       "    }\n",
       "\n",
       "    .dataframe tbody tr th {\n",
       "        vertical-align: top;\n",
       "    }\n",
       "\n",
       "    .dataframe thead th {\n",
       "        text-align: right;\n",
       "    }\n",
       "</style>\n",
       "<table border=\"1\" class=\"dataframe\">\n",
       "  <thead>\n",
       "    <tr style=\"text-align: right;\">\n",
       "      <th></th>\n",
       "      <th>array_length</th>\n",
       "      <th>int_sort_time</th>\n",
       "    </tr>\n",
       "  </thead>\n",
       "  <tbody>\n",
       "    <tr>\n",
       "      <th>0</th>\n",
       "      <td>5000.0</td>\n",
       "      <td>1262.800485</td>\n",
       "    </tr>\n",
       "    <tr>\n",
       "      <th>1</th>\n",
       "      <td>10000.0</td>\n",
       "      <td>5584.781576</td>\n",
       "    </tr>\n",
       "    <tr>\n",
       "      <th>2</th>\n",
       "      <td>15000.0</td>\n",
       "      <td>12108.416000</td>\n",
       "    </tr>\n",
       "    <tr>\n",
       "      <th>3</th>\n",
       "      <td>20000.0</td>\n",
       "      <td>20188.089212</td>\n",
       "    </tr>\n",
       "    <tr>\n",
       "      <th>4</th>\n",
       "      <td>25000.0</td>\n",
       "      <td>40360.991030</td>\n",
       "    </tr>\n",
       "  </tbody>\n",
       "</table>\n",
       "</div>"
      ],
      "text/plain": [
       "   array_length  int_sort_time\n",
       "0        5000.0    1262.800485\n",
       "1       10000.0    5584.781576\n",
       "2       15000.0   12108.416000\n",
       "3       20000.0   20188.089212\n",
       "4       25000.0   40360.991030"
      ]
     },
     "execution_count": 11,
     "metadata": {},
     "output_type": "execute_result"
    }
   ],
   "source": [
    "df_int = pd.DataFrame(np.array([[len(array1),int_sort_time1],\n",
    "                            [len(array2),int_sort_time2], \n",
    "                            [len(array3),int_sort_time3],\n",
    "                            [len(array4),int_sort_time4],\n",
    "                            [len(array5),int_sort_time5]]), \n",
    "                            columns=['array_length','int_sort_time'])\n",
    "df_int"
   ]
  },
  {
   "cell_type": "markdown",
   "metadata": {
    "Collapsed": "false"
   },
   "source": [
    "### 3.2 Create Dataframe - FLOATS"
   ]
  },
  {
   "cell_type": "code",
   "execution_count": 12,
   "metadata": {
    "Collapsed": "false"
   },
   "outputs": [
    {
     "data": {
      "text/html": [
       "<div>\n",
       "<style scoped>\n",
       "    .dataframe tbody tr th:only-of-type {\n",
       "        vertical-align: middle;\n",
       "    }\n",
       "\n",
       "    .dataframe tbody tr th {\n",
       "        vertical-align: top;\n",
       "    }\n",
       "\n",
       "    .dataframe thead th {\n",
       "        text-align: right;\n",
       "    }\n",
       "</style>\n",
       "<table border=\"1\" class=\"dataframe\">\n",
       "  <thead>\n",
       "    <tr style=\"text-align: right;\">\n",
       "      <th></th>\n",
       "      <th>array_length</th>\n",
       "      <th>fl_sort_time</th>\n",
       "    </tr>\n",
       "  </thead>\n",
       "  <tbody>\n",
       "    <tr>\n",
       "      <th>0</th>\n",
       "      <td>5000.0</td>\n",
       "      <td>1564.798061</td>\n",
       "    </tr>\n",
       "    <tr>\n",
       "      <th>1</th>\n",
       "      <td>10000.0</td>\n",
       "      <td>6201.333333</td>\n",
       "    </tr>\n",
       "    <tr>\n",
       "      <th>2</th>\n",
       "      <td>15000.0</td>\n",
       "      <td>14360.392242</td>\n",
       "    </tr>\n",
       "    <tr>\n",
       "      <th>3</th>\n",
       "      <td>20000.0</td>\n",
       "      <td>25924.489212</td>\n",
       "    </tr>\n",
       "    <tr>\n",
       "      <th>4</th>\n",
       "      <td>25000.0</td>\n",
       "      <td>40530.579394</td>\n",
       "    </tr>\n",
       "  </tbody>\n",
       "</table>\n",
       "</div>"
      ],
      "text/plain": [
       "   array_length  fl_sort_time\n",
       "0        5000.0   1564.798061\n",
       "1       10000.0   6201.333333\n",
       "2       15000.0  14360.392242\n",
       "3       20000.0  25924.489212\n",
       "4       25000.0  40530.579394"
      ]
     },
     "execution_count": 12,
     "metadata": {},
     "output_type": "execute_result"
    }
   ],
   "source": [
    "df_fl = pd.DataFrame(np.array([[len(fl_array1),fl_sort_time1],\n",
    "                                [len(fl_array2),fl_sort_time2], \n",
    "                                [len(fl_array3),fl_sort_time3],\n",
    "                                [len(fl_array4),fl_sort_time4],\n",
    "                                [len(fl_array5),fl_sort_time5]]), \n",
    "                            columns=['array_length','fl_sort_time'])\n",
    "df_fl"
   ]
  },
  {
   "cell_type": "markdown",
   "metadata": {
    "Collapsed": "false"
   },
   "source": [
    "### 3.3 Create Dataframe - STRINGS - length 5"
   ]
  },
  {
   "cell_type": "code",
   "execution_count": 13,
   "metadata": {
    "Collapsed": "false"
   },
   "outputs": [
    {
     "data": {
      "text/html": [
       "<div>\n",
       "<style scoped>\n",
       "    .dataframe tbody tr th:only-of-type {\n",
       "        vertical-align: middle;\n",
       "    }\n",
       "\n",
       "    .dataframe tbody tr th {\n",
       "        vertical-align: top;\n",
       "    }\n",
       "\n",
       "    .dataframe thead th {\n",
       "        text-align: right;\n",
       "    }\n",
       "</style>\n",
       "<table border=\"1\" class=\"dataframe\">\n",
       "  <thead>\n",
       "    <tr style=\"text-align: right;\">\n",
       "      <th></th>\n",
       "      <th>array_length</th>\n",
       "      <th>str5_sort_time</th>\n",
       "    </tr>\n",
       "  </thead>\n",
       "  <tbody>\n",
       "    <tr>\n",
       "      <th>0</th>\n",
       "      <td>5000.0</td>\n",
       "      <td>1709.568970</td>\n",
       "    </tr>\n",
       "    <tr>\n",
       "      <th>1</th>\n",
       "      <td>10000.0</td>\n",
       "      <td>7706.441697</td>\n",
       "    </tr>\n",
       "    <tr>\n",
       "      <th>2</th>\n",
       "      <td>15000.0</td>\n",
       "      <td>17290.823273</td>\n",
       "    </tr>\n",
       "    <tr>\n",
       "      <th>3</th>\n",
       "      <td>20000.0</td>\n",
       "      <td>28184.000970</td>\n",
       "    </tr>\n",
       "    <tr>\n",
       "      <th>4</th>\n",
       "      <td>25000.0</td>\n",
       "      <td>44818.996849</td>\n",
       "    </tr>\n",
       "  </tbody>\n",
       "</table>\n",
       "</div>"
      ],
      "text/plain": [
       "   array_length  str5_sort_time\n",
       "0        5000.0     1709.568970\n",
       "1       10000.0     7706.441697\n",
       "2       15000.0    17290.823273\n",
       "3       20000.0    28184.000970\n",
       "4       25000.0    44818.996849"
      ]
     },
     "execution_count": 13,
     "metadata": {},
     "output_type": "execute_result"
    }
   ],
   "source": [
    "df_str5 = pd.DataFrame(np.array([[len(str_5_array1),str_5_sort_time1],\n",
    "                                [len(str_5_array2),str_5_sort_time2], \n",
    "                                [len(str_5_array3),str_5_sort_time3],\n",
    "                                [len(str_5_array4),str_5_sort_time4],\n",
    "                                [len(str_5_array5),str_5_sort_time5]]), \n",
    "                            columns=['array_length','str5_sort_time'])\n",
    "df_str5"
   ]
  },
  {
   "cell_type": "markdown",
   "metadata": {
    "Collapsed": "false"
   },
   "source": [
    "### 3.4 Create Dataframe - STRINGS - length 15"
   ]
  },
  {
   "cell_type": "code",
   "execution_count": 14,
   "metadata": {
    "Collapsed": "false"
   },
   "outputs": [
    {
     "data": {
      "text/html": [
       "<div>\n",
       "<style scoped>\n",
       "    .dataframe tbody tr th:only-of-type {\n",
       "        vertical-align: middle;\n",
       "    }\n",
       "\n",
       "    .dataframe tbody tr th {\n",
       "        vertical-align: top;\n",
       "    }\n",
       "\n",
       "    .dataframe thead th {\n",
       "        text-align: right;\n",
       "    }\n",
       "</style>\n",
       "<table border=\"1\" class=\"dataframe\">\n",
       "  <thead>\n",
       "    <tr style=\"text-align: right;\">\n",
       "      <th></th>\n",
       "      <th>array_length</th>\n",
       "      <th>str15_sort_time</th>\n",
       "    </tr>\n",
       "  </thead>\n",
       "  <tbody>\n",
       "    <tr>\n",
       "      <th>0</th>\n",
       "      <td>5000.0</td>\n",
       "      <td>2162.593455</td>\n",
       "    </tr>\n",
       "    <tr>\n",
       "      <th>1</th>\n",
       "      <td>10000.0</td>\n",
       "      <td>8205.712484</td>\n",
       "    </tr>\n",
       "    <tr>\n",
       "      <th>2</th>\n",
       "      <td>15000.0</td>\n",
       "      <td>16332.644363</td>\n",
       "    </tr>\n",
       "    <tr>\n",
       "      <th>3</th>\n",
       "      <td>20000.0</td>\n",
       "      <td>29447.379879</td>\n",
       "    </tr>\n",
       "    <tr>\n",
       "      <th>4</th>\n",
       "      <td>25000.0</td>\n",
       "      <td>48910.045091</td>\n",
       "    </tr>\n",
       "  </tbody>\n",
       "</table>\n",
       "</div>"
      ],
      "text/plain": [
       "   array_length  str15_sort_time\n",
       "0        5000.0      2162.593455\n",
       "1       10000.0      8205.712484\n",
       "2       15000.0     16332.644363\n",
       "3       20000.0     29447.379879\n",
       "4       25000.0     48910.045091"
      ]
     },
     "execution_count": 14,
     "metadata": {},
     "output_type": "execute_result"
    }
   ],
   "source": [
    "df_str15 = pd.DataFrame(np.array([[len(str_15_array1), str_15_sort_time1],\n",
    "                                [len(str_15_array2),str_15_sort_time2], \n",
    "                                [len(str_15_array3),str_15_sort_time3],\n",
    "                                [len(str_15_array4),str_15_sort_time4],\n",
    "                                [len(str_15_array5),str_15_sort_time5]]), \n",
    "                            columns=['array_length','str15_sort_time'])\n",
    "df_str15"
   ]
  },
  {
   "cell_type": "markdown",
   "metadata": {
    "Collapsed": "false"
   },
   "source": [
    "### 3.5 Merge Dataframes"
   ]
  },
  {
   "cell_type": "code",
   "execution_count": 15,
   "metadata": {
    "Collapsed": "false"
   },
   "outputs": [
    {
     "data": {
      "text/html": [
       "<div>\n",
       "<style scoped>\n",
       "    .dataframe tbody tr th:only-of-type {\n",
       "        vertical-align: middle;\n",
       "    }\n",
       "\n",
       "    .dataframe tbody tr th {\n",
       "        vertical-align: top;\n",
       "    }\n",
       "\n",
       "    .dataframe thead th {\n",
       "        text-align: right;\n",
       "    }\n",
       "</style>\n",
       "<table border=\"1\" class=\"dataframe\">\n",
       "  <thead>\n",
       "    <tr style=\"text-align: right;\">\n",
       "      <th></th>\n",
       "      <th>index</th>\n",
       "      <th>array_length</th>\n",
       "      <th>fl_sort_time</th>\n",
       "      <th>int_sort_time</th>\n",
       "      <th>str15_sort_time</th>\n",
       "      <th>str5_sort_time</th>\n",
       "    </tr>\n",
       "  </thead>\n",
       "  <tbody>\n",
       "    <tr>\n",
       "      <th>0</th>\n",
       "      <td>0</td>\n",
       "      <td>5000.0</td>\n",
       "      <td>NaN</td>\n",
       "      <td>1262.800485</td>\n",
       "      <td>NaN</td>\n",
       "      <td>NaN</td>\n",
       "    </tr>\n",
       "    <tr>\n",
       "      <th>1</th>\n",
       "      <td>1</td>\n",
       "      <td>10000.0</td>\n",
       "      <td>NaN</td>\n",
       "      <td>5584.781576</td>\n",
       "      <td>NaN</td>\n",
       "      <td>NaN</td>\n",
       "    </tr>\n",
       "    <tr>\n",
       "      <th>2</th>\n",
       "      <td>2</td>\n",
       "      <td>15000.0</td>\n",
       "      <td>NaN</td>\n",
       "      <td>12108.416000</td>\n",
       "      <td>NaN</td>\n",
       "      <td>NaN</td>\n",
       "    </tr>\n",
       "    <tr>\n",
       "      <th>3</th>\n",
       "      <td>3</td>\n",
       "      <td>20000.0</td>\n",
       "      <td>NaN</td>\n",
       "      <td>20188.089212</td>\n",
       "      <td>NaN</td>\n",
       "      <td>NaN</td>\n",
       "    </tr>\n",
       "    <tr>\n",
       "      <th>4</th>\n",
       "      <td>4</td>\n",
       "      <td>25000.0</td>\n",
       "      <td>NaN</td>\n",
       "      <td>40360.991030</td>\n",
       "      <td>NaN</td>\n",
       "      <td>NaN</td>\n",
       "    </tr>\n",
       "    <tr>\n",
       "      <th>5</th>\n",
       "      <td>0</td>\n",
       "      <td>5000.0</td>\n",
       "      <td>1564.798061</td>\n",
       "      <td>NaN</td>\n",
       "      <td>NaN</td>\n",
       "      <td>NaN</td>\n",
       "    </tr>\n",
       "    <tr>\n",
       "      <th>6</th>\n",
       "      <td>1</td>\n",
       "      <td>10000.0</td>\n",
       "      <td>6201.333333</td>\n",
       "      <td>NaN</td>\n",
       "      <td>NaN</td>\n",
       "      <td>NaN</td>\n",
       "    </tr>\n",
       "    <tr>\n",
       "      <th>7</th>\n",
       "      <td>2</td>\n",
       "      <td>15000.0</td>\n",
       "      <td>14360.392242</td>\n",
       "      <td>NaN</td>\n",
       "      <td>NaN</td>\n",
       "      <td>NaN</td>\n",
       "    </tr>\n",
       "    <tr>\n",
       "      <th>8</th>\n",
       "      <td>3</td>\n",
       "      <td>20000.0</td>\n",
       "      <td>25924.489212</td>\n",
       "      <td>NaN</td>\n",
       "      <td>NaN</td>\n",
       "      <td>NaN</td>\n",
       "    </tr>\n",
       "    <tr>\n",
       "      <th>9</th>\n",
       "      <td>4</td>\n",
       "      <td>25000.0</td>\n",
       "      <td>40530.579394</td>\n",
       "      <td>NaN</td>\n",
       "      <td>NaN</td>\n",
       "      <td>NaN</td>\n",
       "    </tr>\n",
       "    <tr>\n",
       "      <th>10</th>\n",
       "      <td>0</td>\n",
       "      <td>5000.0</td>\n",
       "      <td>NaN</td>\n",
       "      <td>NaN</td>\n",
       "      <td>NaN</td>\n",
       "      <td>1709.568970</td>\n",
       "    </tr>\n",
       "    <tr>\n",
       "      <th>11</th>\n",
       "      <td>1</td>\n",
       "      <td>10000.0</td>\n",
       "      <td>NaN</td>\n",
       "      <td>NaN</td>\n",
       "      <td>NaN</td>\n",
       "      <td>7706.441697</td>\n",
       "    </tr>\n",
       "    <tr>\n",
       "      <th>12</th>\n",
       "      <td>2</td>\n",
       "      <td>15000.0</td>\n",
       "      <td>NaN</td>\n",
       "      <td>NaN</td>\n",
       "      <td>NaN</td>\n",
       "      <td>17290.823273</td>\n",
       "    </tr>\n",
       "    <tr>\n",
       "      <th>13</th>\n",
       "      <td>3</td>\n",
       "      <td>20000.0</td>\n",
       "      <td>NaN</td>\n",
       "      <td>NaN</td>\n",
       "      <td>NaN</td>\n",
       "      <td>28184.000970</td>\n",
       "    </tr>\n",
       "    <tr>\n",
       "      <th>14</th>\n",
       "      <td>4</td>\n",
       "      <td>25000.0</td>\n",
       "      <td>NaN</td>\n",
       "      <td>NaN</td>\n",
       "      <td>NaN</td>\n",
       "      <td>44818.996849</td>\n",
       "    </tr>\n",
       "    <tr>\n",
       "      <th>15</th>\n",
       "      <td>0</td>\n",
       "      <td>5000.0</td>\n",
       "      <td>NaN</td>\n",
       "      <td>NaN</td>\n",
       "      <td>2162.593455</td>\n",
       "      <td>NaN</td>\n",
       "    </tr>\n",
       "    <tr>\n",
       "      <th>16</th>\n",
       "      <td>1</td>\n",
       "      <td>10000.0</td>\n",
       "      <td>NaN</td>\n",
       "      <td>NaN</td>\n",
       "      <td>8205.712484</td>\n",
       "      <td>NaN</td>\n",
       "    </tr>\n",
       "    <tr>\n",
       "      <th>17</th>\n",
       "      <td>2</td>\n",
       "      <td>15000.0</td>\n",
       "      <td>NaN</td>\n",
       "      <td>NaN</td>\n",
       "      <td>16332.644363</td>\n",
       "      <td>NaN</td>\n",
       "    </tr>\n",
       "    <tr>\n",
       "      <th>18</th>\n",
       "      <td>3</td>\n",
       "      <td>20000.0</td>\n",
       "      <td>NaN</td>\n",
       "      <td>NaN</td>\n",
       "      <td>29447.379879</td>\n",
       "      <td>NaN</td>\n",
       "    </tr>\n",
       "    <tr>\n",
       "      <th>19</th>\n",
       "      <td>4</td>\n",
       "      <td>25000.0</td>\n",
       "      <td>NaN</td>\n",
       "      <td>NaN</td>\n",
       "      <td>48910.045091</td>\n",
       "      <td>NaN</td>\n",
       "    </tr>\n",
       "  </tbody>\n",
       "</table>\n",
       "</div>"
      ],
      "text/plain": [
       "    index  array_length  fl_sort_time  int_sort_time  str15_sort_time  \\\n",
       "0       0        5000.0           NaN    1262.800485              NaN   \n",
       "1       1       10000.0           NaN    5584.781576              NaN   \n",
       "2       2       15000.0           NaN   12108.416000              NaN   \n",
       "3       3       20000.0           NaN   20188.089212              NaN   \n",
       "4       4       25000.0           NaN   40360.991030              NaN   \n",
       "5       0        5000.0   1564.798061            NaN              NaN   \n",
       "6       1       10000.0   6201.333333            NaN              NaN   \n",
       "7       2       15000.0  14360.392242            NaN              NaN   \n",
       "8       3       20000.0  25924.489212            NaN              NaN   \n",
       "9       4       25000.0  40530.579394            NaN              NaN   \n",
       "10      0        5000.0           NaN            NaN              NaN   \n",
       "11      1       10000.0           NaN            NaN              NaN   \n",
       "12      2       15000.0           NaN            NaN              NaN   \n",
       "13      3       20000.0           NaN            NaN              NaN   \n",
       "14      4       25000.0           NaN            NaN              NaN   \n",
       "15      0        5000.0           NaN            NaN      2162.593455   \n",
       "16      1       10000.0           NaN            NaN      8205.712484   \n",
       "17      2       15000.0           NaN            NaN     16332.644363   \n",
       "18      3       20000.0           NaN            NaN     29447.379879   \n",
       "19      4       25000.0           NaN            NaN     48910.045091   \n",
       "\n",
       "    str5_sort_time  \n",
       "0              NaN  \n",
       "1              NaN  \n",
       "2              NaN  \n",
       "3              NaN  \n",
       "4              NaN  \n",
       "5              NaN  \n",
       "6              NaN  \n",
       "7              NaN  \n",
       "8              NaN  \n",
       "9              NaN  \n",
       "10     1709.568970  \n",
       "11     7706.441697  \n",
       "12    17290.823273  \n",
       "13    28184.000970  \n",
       "14    44818.996849  \n",
       "15             NaN  \n",
       "16             NaN  \n",
       "17             NaN  \n",
       "18             NaN  \n",
       "19             NaN  "
      ]
     },
     "execution_count": 15,
     "metadata": {},
     "output_type": "execute_result"
    }
   ],
   "source": [
    "df=pd.concat([df_int, df_fl, df_str5, df_str15], axis=0, join='outer')\n",
    "df=df.reset_index()\n",
    "df"
   ]
  },
  {
   "cell_type": "markdown",
   "metadata": {
    "Collapsed": "false"
   },
   "source": [
    "## 4. Generate Plots"
   ]
  },
  {
   "cell_type": "code",
   "execution_count": 16,
   "metadata": {
    "Collapsed": "false",
    "cell_style": "center"
   },
   "outputs": [
    {
     "data": {
      "image/png": "[encoded data removed]",
      "text/plain": [
       "<Figure size 432x288 with 1 Axes>"
      ]
     },
     "metadata": {},
     "output_type": "display_data"
    },
    {
     "data": {
      "image/png": "[encoded data removed]",
      "text/plain": [
       "<Figure size 432x288 with 1 Axes>"
      ]
     },
     "metadata": {},
     "output_type": "display_data"
    },
    {
     "data": {
      "image/png": "[encoded data removed]",
      "text/plain": [
       "<Figure size 432x288 with 1 Axes>"
      ]
     },
     "metadata": {},
     "output_type": "display_data"
    },
    {
     "data": {
      "text/plain": [
       "<function matplotlib.pyplot.close(fig=None)>"
      ]
     },
     "execution_count": 16,
     "metadata": {},
     "output_type": "execute_result"
    }
   ],
   "source": [
    "plt.style.use('ggplot')\n",
    "# sns.set_context('poster')\n",
    "\n",
    "plt.plot( 'array_length', 'int_sort_time', data=df, marker='o',linewidth=2,linestyle='solid')\n",
    "plt.plot( 'array_length', 'fl_sort_time', data=df, marker='o',linewidth=2,linestyle='solid')\n",
    "plt.xlabel('array length')\n",
    "plt.ylabel('Execution Time (milliseconds)')\n",
    "plt.title('Fig 1: Selection Sort Execution Time vs Array Length\\n for Integers and Floats')\n",
    "plt.legend()\n",
    "plt.show()\n",
    "plt.close()\n",
    "\n",
    "plt.plot( 'array_length', 'str5_sort_time', data=df, marker='o',linewidth=2,linestyle='solid')\n",
    "plt.plot( 'array_length', 'str15_sort_time', data=df, marker='o',linewidth=2,linestyle='solid')\n",
    "plt.xlabel('array length')\n",
    "plt.ylabel('Execution Time (milliseconds)')\n",
    "plt.title('Fig 2: Selection Sort Execution Time vs Array Length\\n for Strings w/ Lengths 5 & 15')\n",
    "plt.legend()\n",
    "plt.show()\n",
    "plt.close()\n",
    "\n",
    "plt.plot( 'array_length', 'int_sort_time', data=df, marker='o', linewidth=2,linestyle='solid')\n",
    "plt.plot( 'array_length', 'fl_sort_time', data=df, marker='o', linewidth=2,linestyle='solid')\n",
    "plt.plot( 'array_length', 'str5_sort_time', data=df, marker='o', linewidth=2,linestyle='solid')\n",
    "plt.plot( 'array_length', 'str15_sort_time', data=df, marker='o', linewidth=2,linestyle='solid')\n",
    "plt.xlabel('array length')\n",
    "plt.ylabel('Execution Time (milliseconds)')\n",
    "plt.title('Fig 3: Selection Sort Execution Time vs Array Length\\n for Numeric and String Data')\n",
    "plt.legend()\n",
    "\n",
    "plt.show()\n",
    "plt.close"
   ]
  },
  {
   "cell_type": "markdown",
   "metadata": {
    "Collapsed": "false",
    "cell_style": "center"
   },
   "source": [
    "# Executive Summary"
   ]
  },
  {
   "cell_type": "markdown",
   "metadata": {
    "Collapsed": "false",
    "cell_style": "center"
   },
   "source": [
    "As noted in Week 1, algorithm speed is measured in terms of how quickly the run time increases as the size of the input increases, written in Big O notation, O(n), where n is the number of operations an algorithm will make, in the worse case scenario.\n",
    "\n",
    "\n",
    "Above, we implemented the selection sort algorithm, which sorts a set of elements. In order to sort a list, you have to check each item on the list; so this checking operation takes O(n) time, which needs to be performed n times, resulting in algorithm speed of O(n × n) time or O(n^2) time. Data types can also impact algorithm speed, since different data types have different size ranges. For example, an unsigned 8-bit integer type has a range of 0 through 255, whereas an unsigned 16-bit integer types has a range of 0 through 65,535 (McConnell, 2004). We profiled the selection sort algorithm for multiple data types over a dimension of size. For a single data type, we expected sort execution time to increase as the size of the array increased, based on our knowledge that the speed of the algorithm is O(n^2). We can see this trend clearly in Figure 3; as array length increases across data types, sort time also increases. \n",
    "\n",
    "\n",
    "In Figure 1, we compared the sort time for integers vs floats. We can see that the algorithm sorts integers slightly faster than floats, which intuitively makes sense since integers are simple and floats are more complex. At array length of 20,000, the difference between sort times is very clear, however, at array length of 25,000, the sort times are much closer together. Similarly, in Figure 2, we compared the sort time for strings of length 5 and strings of length 15. Here, we also expected the small string type (length 5) to be sorted faster than the larger string type (length 15), however, the times are very close together, with a visible difference at array length of 25,000, where the longer string has a slightly larger sort time. \n",
    "\n",
    "\n",
    "Based on Big O speed of the sort algorithm, our results did not perfectly align with our expectations. This may be because of overhead, or other processes running on the machine while the algorithm was sorting. Also, Python is not the best programming language to test this on, since performance differences are more apparent in low-level programming languages like C. \n",
    "\n",
    "\n",
    "Sorting algorithms are very useful to data engineers, since certain tasks, such as binary search from last week, only work if your data is in sorted order. When using an algorithm like this one, data engineers should also be mindful of the data types they're using. If the Big O run time is O(n^2), as is the case with selection sort, choosing a data type that processes faster will make an overall performance difference in the application. \n"
   ]
  }
 ],
 "metadata": {
  "kernelspec": {
   "display_name": "Python 3",
   "language": "python",
   "name": "python3"
  },
  "language_info": {
   "codemirror_mode": {
    "name": "ipython",
    "version": 3
   },
   "file_extension": ".py",
   "mimetype": "text/x-python",
   "name": "python",
   "nbconvert_exporter": "python",
   "pygments_lexer": "ipython3",
   "version": "3.7.6"
  },
  "toc": {
   "base_numbering": 1,
   "nav_menu": {
    "height": "390.972px",
    "width": "403.993px"
   },
   "number_sections": true,
   "sideBar": true,
   "skip_h1_title": false,
   "title_cell": "Table of Contents",
   "title_sidebar": "Contents",
   "toc_cell": false,
   "toc_position": {},
   "toc_section_display": true,
   "toc_window_display": true
  },
  "varInspector": {
   "cols": {
    "lenName": 16,
    "lenType": 16,
    "lenVar": 40
   },
   "kernels_config": {
    "python": {
     "delete_cmd_postfix": "",
     "delete_cmd_prefix": "del ",
     "library": "var_list.py",
     "varRefreshCmd": "print(var_dic_list())"
    },
    "r": {
     "delete_cmd_postfix": ") ",
     "delete_cmd_prefix": "rm(",
     "library": "var_list.r",
     "varRefreshCmd": "cat(var_dic_list()) "
    }
   },
   "position": {
    "height": "422.4px",
    "left": "1016.93px",
    "right": "20px",
    "top": "242px",
    "width": "350.925px"
   },
   "types_to_exclude": [
    "module",
    "function",
    "builtin_function_or_method",
    "instance",
    "_Feature"
   ],
   "window_display": false
  }
 },
 "nbformat": 4,
 "nbformat_minor": 4
}
