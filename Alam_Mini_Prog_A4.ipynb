{
 "cells": [
  {
   "cell_type": "markdown",
   "metadata": {
    "Collapsed": "false",
    "cell_style": "center"
   },
   "source": [
    "# **Implement a Quicksort Algorithm**\n",
    "MSDS 432 Module 4\n",
    "\n",
    "Nameyeh Alam"
   ]
  },
  {
   "cell_type": "code",
   "execution_count": 1,
   "metadata": {
    "Collapsed": "false",
    "cell_style": "center",
    "scrolled": true
   },
   "outputs": [],
   "source": [
    "import numpy as np\n",
    "import pandas as pd \n",
    "import matplotlib.pyplot as plt\n",
    "import seaborn as sns\n",
    "import random\n",
    "import string\n",
    "import warnings\n",
    "warnings.filterwarnings(\"ignore\", category=Warning)\n",
    "import time"
   ]
  },
  {
   "cell_type": "markdown",
   "metadata": {
    "Collapsed": "false"
   },
   "source": [
    "### 1. Set up five lists of randomly generated strings of length 50 characters, each with a length of 200, 400, 600, 800, 1000.\n",
    "In this section, we created our 5 lists, and then created a list of lists to hold our five arrays. In the next section, we'll be able to apply our sorting algorithms to the list of lists, instead of individually to all five lists. We also verified that the lists were unsorted and did not contain duplicates."
   ]
  },
  {
   "cell_type": "code",
   "execution_count": 2,
   "metadata": {
    "Collapsed": "false",
    "cell_style": "center"
   },
   "outputs": [],
   "source": [
    "random.seed(5)\n",
    "array1 = [''.join(random.choices(string.ascii_letters, k = 50)) for _ in range(200)]\n",
    "random.seed(6)\n",
    "array2 = [''.join(random.choices(string.ascii_letters, k = 50)) for _ in range(400)]\n",
    "random.seed(7)\n",
    "array3 = [''.join(random.choices(string.ascii_letters, k = 50)) for _ in range(600)]\n",
    "random.seed(8)\n",
    "array4 = [''.join(random.choices(string.ascii_letters, k = 50)) for _ in range(800)]\n",
    "random.seed(9)\n",
    "array5 = [''.join(random.choices(string.ascii_letters, k = 50)) for _ in range(1000)]"
   ]
  },
  {
   "cell_type": "code",
   "execution_count": 3,
   "metadata": {
    "Collapsed": "false",
    "cell_style": "split"
   },
   "outputs": [
    {
     "name": "stdout",
     "output_type": "stream",
     "text": [
      "['GMPXMVbyXHUfymCDaloVNiPhGgaTklZTpXCJkWJYUpsihdpFaJ', 'rqQyqzKcYbMRaOtEacjXkNWWrsBOfMPSbXerFVrWCqqjehJZic', 'ZBvmEQxvcVbzRgMXGOfwhRpxZSYxzLypuhtZXGzreoOTsOOKIN', 'sKozOJpXHEaCnIyQHPsHMRsRTJYXABiRWyJLLiOEIvGOHLbiwH']\n",
      "\n",
      "['PQznaIyNtOoPLvBJkCPnPJRrePPxekHpXEkIsWVAHKPYbsFpEe', 'TBgIqkzhkTKaOarVGptugZcvMuZmYUIUxRPAyKveMnzOibgEsn', 'xWnvTFnyyhtpPqIYWtFquzPWpaxcbOfLsWSdkXFvOQzyfshGFh', 'GffHyUGKgReGVVUxKPhXVwOxoLdPYoWeSoYwVbeQHBbjtcZNXK']\n",
      "\n",
      "['qhHdBtdAbwdewQglGXEuYcSphgqQjEHtCddkJwqExpPKmDBTLo', 'YgvNhzcINDTqKEExRXyIdKHZQouIbyigdNgmuTexCTQSovsTXh', 'jmmzEnavtDXJAGJcUOTPuufGddkircahfsbTFhnssgSZyzefrn', 'RibXBhCbBYSKntiOBOrlQZSPQMlAsbbonKXxWZXsllkkGURyHP']\n",
      "\n",
      "['lYgKemZkHxxzjRembnvUtfnZdGtIrJzHUEhdXzkXELTosThNfJ', 'KXRAkhBAdUAKlmarnwtRUjuiIYkNpaNriwmvxvEpeefBsQAKYd', 'ahuDMsYaRkTbYNZEjYweFzyigExgwLLyuslkxfLKFbsweYNAKk', 'lBMHaFVMWZlpCYtWSAGXOpRktXSqpFRJWLQFswzBRndMovgRop']\n",
      "\n",
      "['ythTaAUeCGctKxLimfAWEOtMfpJLvenkoQkUTctzbwVfFgEUka', 'eCaezVvuHeEiFXcCFhnZZgKXmFctJEOesSExuZDaPrwlxqeGfO', 'bOPzKmMwmYutStIiRncYiXZFadkuFYshDheCKdxKNtUiLOTzfc', 'BjGeOlajxDuizXBWbZUCBBVdHCpLLfKxzHcFtTmQLGTbFFJvdj']\n"
     ]
    }
   ],
   "source": [
    "# verify that lists are unsorted\n",
    "array_list = [array1,array2,array3,array4,array5]\n",
    "print(str(array_list[0][0:4])+\"\\n\\n\"+\n",
    "      str(array_list[1][0:4])+\"\\n\\n\"+\n",
    "      str(array_list[2][0:4])+\"\\n\\n\"+\n",
    "      str(array_list[3][0:4])+\"\\n\\n\"+\n",
    "      str(array_list[4][0:4]))"
   ]
  },
  {
   "cell_type": "code",
   "execution_count": 4,
   "metadata": {
    "Collapsed": "false",
    "cell_style": "split"
   },
   "outputs": [
    {
     "data": {
      "text/plain": [
       "[200, 400, 600, 800, 1000]"
      ]
     },
     "execution_count": 4,
     "metadata": {},
     "output_type": "execute_result"
    }
   ],
   "source": [
    "array_sizes_list = [len(x) for x in array_list]\n",
    "array_sizes_list"
   ]
  },
  {
   "cell_type": "code",
   "execution_count": 5,
   "metadata": {
    "Collapsed": "false",
    "cell_style": "split"
   },
   "outputs": [
    {
     "name": "stdout",
     "output_type": "stream",
     "text": [
      "[]\n",
      "[]\n",
      "[]\n",
      "[]\n",
      "[]\n"
     ]
    }
   ],
   "source": [
    "# check for duplicates \n",
    "from collections import Counter\n",
    "for x in array_list: \n",
    "    print([k for k,v in Counter(x).items() if v>1])"
   ]
  },
  {
   "cell_type": "markdown",
   "metadata": {
    "Collapsed": "false"
   },
   "source": [
    "### 2. Use the textbook implementation of quicksort to sort the data, being sure to capture the amount of time it takes for each list.\n",
    "\n",
    "In this section, we first defined the quicksort function, as provided in the textbook. We then created empty lists to store the sorted lists and the sort execution time. Lastly, we verified that the sorting was successful by viewing the first three elements in the newly sorted lists by using a list comprehension and list slice. Later, we decided to use a for loop to print the first three elements in the newly sorted lists, for ease of printing when we combined the implementation of the other algorithms into one jupyter cell. \n"
   ]
  },
  {
   "cell_type": "code",
   "execution_count": 6,
   "metadata": {
    "Collapsed": "false",
    "cell_style": "split"
   },
   "outputs": [
    {
     "name": "stdout",
     "output_type": "stream",
     "text": [
      "[2, 3, 5, 10]\n"
     ]
    }
   ],
   "source": [
    "def quicksort(array):\n",
    "  if len(array) < 2:\n",
    "    # base case, \n",
    "    # arrays with 0 or 1 element \n",
    "    # are already \"sorted\"\n",
    "    return array\n",
    "  else:\n",
    "    # recursive case\n",
    "    pivot = array[0]\n",
    "    # sub-array of all \n",
    "    # the elements less than the pivot\n",
    "    less = [i for i in array[1:] if i <= pivot]\n",
    "    # sub-array of all \n",
    "    # the elements greater than the pivot\n",
    "    greater = [i for i in array[1:] if i > pivot]\n",
    "    return quicksort(less) + [pivot] + quicksort(greater)\n",
    "\n",
    "print(quicksort([10, 5, 2, 3]))"
   ]
  },
  {
   "cell_type": "code",
   "execution_count": 7,
   "metadata": {
    "Collapsed": "false",
    "cell_style": "split"
   },
   "outputs": [
    {
     "name": "stdout",
     "output_type": "stream",
     "text": [
      "IMPLEMENT QUICK SORT\n",
      "--------------------\n",
      "QUICK SORT --- SORT TIMES:\n"
     ]
    },
    {
     "data": {
      "text/plain": [
       "[0.5740610000000146,\n",
       " 1.1200010000003147,\n",
       " 2.349093000000302,\n",
       " 2.187638000000103,\n",
       " 3.1214560000001335]"
      ]
     },
     "execution_count": 7,
     "metadata": {},
     "output_type": "execute_result"
    }
   ],
   "source": [
    "array_list_sorted = []\n",
    "array_list_sort_time = []\n",
    "for n in array_list:\n",
    "    import time\n",
    "    start = time.perf_counter()\n",
    "    y = quicksort(n)\n",
    "    end = time.perf_counter()\n",
    "    time = (end - start)*1000 # convert to milliseconds \n",
    "    array_list_sorted.append(y)\n",
    "    array_list_sort_time.append(time)\n",
    "    \n",
    "print(\"IMPLEMENT QUICK SORT\")\n",
    "print(\"--------------------\")\n",
    "print(\"QUICK SORT --- SORT TIMES:\")\n",
    "array_list_sort_time"
   ]
  },
  {
   "cell_type": "code",
   "execution_count": 8,
   "metadata": {
    "Collapsed": "false",
    "cell_style": "split"
   },
   "outputs": [
    {
     "data": {
      "text/plain": [
       "[['AIrJtGFIWKKKlFGdNlzBLNyWxDZqLXeOHCPShzGKXPRdwVXNrO',\n",
       "  'AqqvGYLXpbiRfNZOzkRjayVZAcywItvSPnCcAaGuWAiNuCLuBc',\n",
       "  'AyxHjomwqpXGqfGFDcFPDIstnNMCApYcDqPYELkZxTbrKiaqKS'],\n",
       " ['ADdhTNXDUssrfbUmqEPzAPqQmAykSXlLlcMqDrTwpYNLSOTYuK',\n",
       "  'AVOtwuYDthPdPsbPQCSPvLPVkZJpOZsAxJtgZJsCcXerXTimZm',\n",
       "  'AXbQMBnWgXCpNUIDvBdVqGLbjOlxvVxbqwVZMUvumeBqYLuvjH'],\n",
       " ['ABBawjaPiyLCqACOfDmoOADNVxFAAKxByWKTWnDXRhgwdmdIOU',\n",
       "  'ACfExrRJgfcnHYYSgPNyZFglgFGSaaYnnTfPUDFaFFOAflHefn',\n",
       "  'ADBIdksqYSNHQPotOZKXLIeXCvmudKJZFRRJeJmqrDOiKVrjGi'],\n",
       " ['AAzBAPUalANGoaAWRwKPWZKRFumgnxOEDgQquIfLHPocYflWfc',\n",
       "  'AFzCrZeZZFfTsDqwukBOnafKCIFmVuMTCnjklZiWJeXGTOJPrY',\n",
       "  'AKBgEaMEaqvMYreClOyywPnTbimwDrGDgttxKmjqtomnvvYWnG'],\n",
       " ['AJnmrmZBHKyovznJTtBWnTusDPqWbRRlArnfgqmTAKXyZHmaPm',\n",
       "  'AMSoTyoTPZNXsjQQqNDminGnpdVUnUkNCvSoTyycOvuIfnTyum',\n",
       "  'AOQhmWEdHncSDBlISmvmpYWGSobVfcjJRVMtddvWKhMQyhxamr']]"
      ]
     },
     "execution_count": 8,
     "metadata": {},
     "output_type": "execute_result"
    }
   ],
   "source": [
    "# verify sorting\n",
    "# using list comprehension + list slicing \n",
    "# view sublist first 3 elements in each list\n",
    "[i[0:3] for i in array_list_sorted]  "
   ]
  },
  {
   "cell_type": "markdown",
   "metadata": {
    "Collapsed": "false",
    "cell_style": "split"
   },
   "source": [
    "For the next section, we will capture the computation time for each list, with an unsorted copy of the list each time. Since some functions alter the original list and don't return a copy, we'll create copies below. "
   ]
  },
  {
   "cell_type": "code",
   "execution_count": 9,
   "metadata": {
    "Collapsed": "false",
    "cell_style": "split"
   },
   "outputs": [],
   "source": [
    "# create copies \n",
    "array_list2=array_list.copy()\n",
    "array_list3=array_list.copy()\n",
    "array_list4=array_list.copy()"
   ]
  },
  {
   "cell_type": "markdown",
   "metadata": {
    "Collapsed": "false",
    "cell_style": "center"
   },
   "source": [
    "### 3. Now use at least two other sorting algorithms on the same data set (e.g. merge sort, bubble sort, insertion sort, etc).  \n",
    "Capture the computation time for each list using each sorting algorithm that you have used. "
   ]
  },
  {
   "cell_type": "markdown",
   "metadata": {
    "Collapsed": "false"
   },
   "source": [
    "### Define other sorting algorithms"
   ]
  },
  {
   "cell_type": "code",
   "execution_count": 10,
   "metadata": {
    "Collapsed": "false",
    "cell_style": "center"
   },
   "outputs": [
    {
     "name": "stdout",
     "output_type": "stream",
     "text": [
      "[1, 2, 5, 7, 8, 8, 10, 12, 13, 15]\n",
      "[1, 2, 5, 7, 8, 8, 10, 12, 13, 15]\n",
      "[1, 2, 5, 7, 8, 8, 10, 12, 13, 15]\n"
     ]
    }
   ],
   "source": [
    "# base code for Selection Sort\n",
    "# as described in Chapter 2 of Grokking Algorithms (Bhargava 2016)\n",
    "# Finds the smallest value in an array\n",
    "def findSmallest(arr):\n",
    "  # Stores the smallest value\n",
    "  smallest = arr[0]\n",
    "  # Stores the index of the smallest value\n",
    "  smallest_index = 0\n",
    "  for i in range(1, len(arr)):\n",
    "    if arr[i] < smallest:\n",
    "      smallest_index = i\n",
    "      smallest = arr[i]      \n",
    "  return smallest_index\n",
    "# Sort array\n",
    "def selectionSort(arr):\n",
    "  newArr = []\n",
    "  for i in range(len(arr)):\n",
    "      # Finds the smallest element in the array and adds it to the new array\n",
    "      smallest = findSmallest(arr)\n",
    "      newArr.append(arr.pop(smallest))\n",
    "  return newArr\n",
    "print(selectionSort([10, 5, 2, 13, 7, 8, 1, 15, 12, 8]))\n",
    "########################################################\n",
    "\n",
    "# Using code from geeksforgeeks \n",
    "def bubbleSort(arr): \n",
    "    n = len(arr) \n",
    "  \n",
    "    # Traverse through all array elements \n",
    "    for i in range(n): \n",
    "  \n",
    "        # Last i elements are already in place \n",
    "        for j in range(0, n-i-1): \n",
    "  \n",
    "            # traverse the array from 0 to n-i-1 \n",
    "            # Swap if the element found is greater \n",
    "            # than the next element \n",
    "            if arr[j] > arr[j+1] : \n",
    "                arr[j], arr[j+1] = arr[j+1], arr[j] \n",
    "    return arr\n",
    "print(bubbleSort([10, 5, 2, 13, 7, 8, 1, 15, 12, 8]))\n",
    "########################################################\n",
    "\n",
    "# Using code from geeksforgeeks \n",
    "def mergeSort(arr): \n",
    "    if len(arr) >1: \n",
    "        mid = len(arr)//2 #Finding the mid of the array \n",
    "        L = arr[:mid] # Dividing the array elements  \n",
    "        R = arr[mid:] # into 2 halves \n",
    "        mergeSort(L) # Sorting the first half \n",
    "        mergeSort(R) # Sorting the second half \n",
    "        i = j = k = 0\n",
    "        # Copy data to temp arrays L[] and R[] \n",
    "        while i < len(L) and j < len(R): \n",
    "            if L[i] < R[j]: \n",
    "                arr[k] = L[i] \n",
    "                i+=1\n",
    "            else: \n",
    "                arr[k] = R[j] \n",
    "                j+=1\n",
    "            k+=1\n",
    "        # Checking if any element was left \n",
    "        while i < len(L): \n",
    "            arr[k] = L[i] \n",
    "            i+=1\n",
    "            k+=1\n",
    "        while j < len(R): \n",
    "            arr[k] = R[j] \n",
    "            j+=1\n",
    "            k+=1\n",
    "    return arr\n",
    "print(mergeSort([10, 5, 2, 13, 7, 8, 1, 15, 12, 8]))"
   ]
  },
  {
   "cell_type": "markdown",
   "metadata": {
    "Collapsed": "false",
    "cell_style": "center"
   },
   "source": [
    "### Sort copies of original list of lists"
   ]
  },
  {
   "cell_type": "code",
   "execution_count": 11,
   "metadata": {
    "Collapsed": "false",
    "cell_style": "center"
   },
   "outputs": [
    {
     "name": "stdout",
     "output_type": "stream",
     "text": [
      "--------------------------------------------------------------------------------------\n",
      "IMPLEMENT BUBBLE SORT\n",
      "--------------------------------------------------------------------------------------\n",
      "\n",
      "BUBBLE SORT --- SORT TIMES:\n",
      "\n",
      "[2.402425000000097, 15.668856000000009, 27.220376999999907, 46.905235000000104, 82.74767599999988]\n",
      "\n",
      "--------------------------------------------------------------------------------------\n",
      "view first 3 elements in each list:\n",
      "--------------------------------------------------------------------------------------\n",
      "AIrJtGFIWKKKlFGdNlzBLNyWxDZqLXeOHCPShzGKXPRdwVXNrO\n",
      "AqqvGYLXpbiRfNZOzkRjayVZAcywItvSPnCcAaGuWAiNuCLuBc\n",
      "AyxHjomwqpXGqfGFDcFPDIstnNMCApYcDqPYELkZxTbrKiaqKS\n",
      "----------------------------------------------------------\n",
      "ADdhTNXDUssrfbUmqEPzAPqQmAykSXlLlcMqDrTwpYNLSOTYuK\n",
      "AVOtwuYDthPdPsbPQCSPvLPVkZJpOZsAxJtgZJsCcXerXTimZm\n",
      "AXbQMBnWgXCpNUIDvBdVqGLbjOlxvVxbqwVZMUvumeBqYLuvjH\n",
      "----------------------------------------------------------\n",
      "ABBawjaPiyLCqACOfDmoOADNVxFAAKxByWKTWnDXRhgwdmdIOU\n",
      "ACfExrRJgfcnHYYSgPNyZFglgFGSaaYnnTfPUDFaFFOAflHefn\n",
      "ADBIdksqYSNHQPotOZKXLIeXCvmudKJZFRRJeJmqrDOiKVrjGi\n",
      "----------------------------------------------------------\n",
      "AAzBAPUalANGoaAWRwKPWZKRFumgnxOEDgQquIfLHPocYflWfc\n",
      "AFzCrZeZZFfTsDqwukBOnafKCIFmVuMTCnjklZiWJeXGTOJPrY\n",
      "AKBgEaMEaqvMYreClOyywPnTbimwDrGDgttxKmjqtomnvvYWnG\n",
      "----------------------------------------------------------\n",
      "AJnmrmZBHKyovznJTtBWnTusDPqWbRRlArnfgqmTAKXyZHmaPm\n",
      "AMSoTyoTPZNXsjQQqNDminGnpdVUnUkNCvSoTyycOvuIfnTyum\n",
      "AOQhmWEdHncSDBlISmvmpYWGSobVfcjJRVMtddvWKhMQyhxamr\n",
      "----------------------------------------------------------\n",
      "\n",
      "\n",
      "--------------------------------------------------------------------------------------\n",
      "IMPLEMENT MERGE SORT\n",
      "--------------------------------------------------------------------------------------\n",
      "\n",
      "MERGE SORT --- SORT TIMES:\n",
      "\n",
      "[0.4901820000000612, 1.0618180000001587, 1.737211999999655, 2.1861830000000637, 4.419881000000014]\n",
      "\n",
      "--------------------------------------------------------------------------------------\n",
      "view first 3 elements in each list:\n",
      "--------------------------------------------------------------------------------------\n",
      "AIrJtGFIWKKKlFGdNlzBLNyWxDZqLXeOHCPShzGKXPRdwVXNrO\n",
      "AqqvGYLXpbiRfNZOzkRjayVZAcywItvSPnCcAaGuWAiNuCLuBc\n",
      "AyxHjomwqpXGqfGFDcFPDIstnNMCApYcDqPYELkZxTbrKiaqKS\n",
      "----------------------------------------------------------\n",
      "ADdhTNXDUssrfbUmqEPzAPqQmAykSXlLlcMqDrTwpYNLSOTYuK\n",
      "AVOtwuYDthPdPsbPQCSPvLPVkZJpOZsAxJtgZJsCcXerXTimZm\n",
      "AXbQMBnWgXCpNUIDvBdVqGLbjOlxvVxbqwVZMUvumeBqYLuvjH\n",
      "----------------------------------------------------------\n",
      "ABBawjaPiyLCqACOfDmoOADNVxFAAKxByWKTWnDXRhgwdmdIOU\n",
      "ACfExrRJgfcnHYYSgPNyZFglgFGSaaYnnTfPUDFaFFOAflHefn\n",
      "ADBIdksqYSNHQPotOZKXLIeXCvmudKJZFRRJeJmqrDOiKVrjGi\n",
      "----------------------------------------------------------\n",
      "AAzBAPUalANGoaAWRwKPWZKRFumgnxOEDgQquIfLHPocYflWfc\n",
      "AFzCrZeZZFfTsDqwukBOnafKCIFmVuMTCnjklZiWJeXGTOJPrY\n",
      "AKBgEaMEaqvMYreClOyywPnTbimwDrGDgttxKmjqtomnvvYWnG\n",
      "----------------------------------------------------------\n",
      "AJnmrmZBHKyovznJTtBWnTusDPqWbRRlArnfgqmTAKXyZHmaPm\n",
      "AMSoTyoTPZNXsjQQqNDminGnpdVUnUkNCvSoTyycOvuIfnTyum\n",
      "AOQhmWEdHncSDBlISmvmpYWGSobVfcjJRVMtddvWKhMQyhxamr\n",
      "----------------------------------------------------------\n",
      "\n",
      "\n",
      "--------------------------------------------------------------------------------------\n",
      "IMPLEMENT SELECTION SORT\n",
      "--------------------------------------------------------------------------------------\n",
      "\n",
      "SELECTION SORT --- SORT TIMES:\n",
      "\n",
      "[1.9985459999998234, 5.052608999999819, 9.420610999999912, 17.812857000000015, 28.14740800000015]\n",
      "\n",
      "--------------------------------------------------------------------------------------\n",
      "view first 3 elements in each list:\n",
      "--------------------------------------------------------------------------------------\n",
      "AIrJtGFIWKKKlFGdNlzBLNyWxDZqLXeOHCPShzGKXPRdwVXNrO\n",
      "AqqvGYLXpbiRfNZOzkRjayVZAcywItvSPnCcAaGuWAiNuCLuBc\n",
      "AyxHjomwqpXGqfGFDcFPDIstnNMCApYcDqPYELkZxTbrKiaqKS\n",
      "----------------------------------------------------------\n",
      "ADdhTNXDUssrfbUmqEPzAPqQmAykSXlLlcMqDrTwpYNLSOTYuK\n",
      "AVOtwuYDthPdPsbPQCSPvLPVkZJpOZsAxJtgZJsCcXerXTimZm\n",
      "AXbQMBnWgXCpNUIDvBdVqGLbjOlxvVxbqwVZMUvumeBqYLuvjH\n",
      "----------------------------------------------------------\n",
      "ABBawjaPiyLCqACOfDmoOADNVxFAAKxByWKTWnDXRhgwdmdIOU\n",
      "ACfExrRJgfcnHYYSgPNyZFglgFGSaaYnnTfPUDFaFFOAflHefn\n",
      "ADBIdksqYSNHQPotOZKXLIeXCvmudKJZFRRJeJmqrDOiKVrjGi\n",
      "----------------------------------------------------------\n",
      "AAzBAPUalANGoaAWRwKPWZKRFumgnxOEDgQquIfLHPocYflWfc\n",
      "AFzCrZeZZFfTsDqwukBOnafKCIFmVuMTCnjklZiWJeXGTOJPrY\n",
      "AKBgEaMEaqvMYreClOyywPnTbimwDrGDgttxKmjqtomnvvYWnG\n",
      "----------------------------------------------------------\n",
      "AJnmrmZBHKyovznJTtBWnTusDPqWbRRlArnfgqmTAKXyZHmaPm\n",
      "AMSoTyoTPZNXsjQQqNDminGnpdVUnUkNCvSoTyycOvuIfnTyum\n",
      "AOQhmWEdHncSDBlISmvmpYWGSobVfcjJRVMtddvWKhMQyhxamr\n",
      "----------------------------------------------------------\n"
     ]
    }
   ],
   "source": [
    "#bubbleSort\n",
    "print(\"--------------------------------------------------------------------------------------\")\n",
    "print(\"IMPLEMENT BUBBLE SORT\")\n",
    "print(\"--------------------------------------------------------------------------------------\\n\")\n",
    "array_list2_sorted = []\n",
    "array_list2_sort_time = []\n",
    "for n in array_list2:\n",
    "    import time\n",
    "    start = time.perf_counter()\n",
    "    y = bubbleSort(n)\n",
    "    end = time.perf_counter()\n",
    "    time = (end - start)*1000 # convert to milliseconds \n",
    "    array_list2_sorted.append(y)\n",
    "    array_list2_sort_time.append(time)\n",
    "print(\"BUBBLE SORT --- SORT TIMES:\\n\")\n",
    "print(array_list2_sort_time)\n",
    "print(\"\\n--------------------------------------------------------------------------------------\")\n",
    "# verify sorting\n",
    "# using list comprehension + list slicing \n",
    "print(\"view first 3 elements in each list:\")\n",
    "print(\"--------------------------------------------------------------------------------------\")\n",
    "# [i[0:3] for i in array_list2_sorted]\n",
    "# for loop for better printing\n",
    "for i in array_list2_sorted:\n",
    "    print((i[0]))\n",
    "    print((i[1]))\n",
    "    print((i[2]))\n",
    "    print(\"----------------------------------------------------------\")\n",
    "print(\"\\n\")\n",
    "\n",
    "# mergeSort \n",
    "print(\"--------------------------------------------------------------------------------------\")\n",
    "print(\"IMPLEMENT MERGE SORT\")\n",
    "print(\"--------------------------------------------------------------------------------------\\n\")\n",
    "array_list3_sorted = []\n",
    "array_list3_sort_time = []\n",
    "for n in array_list3:\n",
    "    import time\n",
    "    start = time.perf_counter()\n",
    "    y = mergeSort(n)\n",
    "    end = time.perf_counter()\n",
    "    time = (end - start)*1000 # convert to milliseconds \n",
    "    array_list3_sorted.append(y)\n",
    "    array_list3_sort_time.append(time)\n",
    "print(\"MERGE SORT --- SORT TIMES:\\n\")\n",
    "print(array_list3_sort_time)\n",
    "print(\"\\n--------------------------------------------------------------------------------------\")\n",
    "# verify sorting\n",
    "# using list comprehension + list slicing \n",
    "print(\"view first 3 elements in each list:\")\n",
    "print(\"--------------------------------------------------------------------------------------\")\n",
    "# [i[0:3] for i in array_list3_sorted]  \n",
    "# for loop for better printing\n",
    "for i in array_list3_sorted:\n",
    "    print((i[0]))\n",
    "    print((i[1]))\n",
    "    print((i[2]))\n",
    "    print(\"----------------------------------------------------------\")\n",
    "print(\"\\n\")\n",
    "\n",
    "# selectionSort \n",
    "print(\"--------------------------------------------------------------------------------------\")\n",
    "print(\"IMPLEMENT SELECTION SORT\")\n",
    "print(\"--------------------------------------------------------------------------------------\\n\")\n",
    "array_list4_sorted = []\n",
    "array_list4_sort_time = []\n",
    "for n in array_list4:\n",
    "    import time\n",
    "    start = time.perf_counter()\n",
    "    y = selectionSort(n)\n",
    "    end = time.perf_counter()\n",
    "    time = (end - start)*1000 # convert to milliseconds \n",
    "    array_list4_sorted.append(y)\n",
    "    array_list4_sort_time.append(time)\n",
    "print(\"SELECTION SORT --- SORT TIMES:\\n\")\n",
    "print(array_list4_sort_time)\n",
    "print(\"\\n--------------------------------------------------------------------------------------\")\n",
    "# verify sorting\n",
    "# using list comprehension + list slicing \n",
    "print(\"view first 3 elements in each list:\")\n",
    "print(\"--------------------------------------------------------------------------------------\")\n",
    "# [i[0:3] for i in array_list4_sorted]  \n",
    "# for loop for better printing\n",
    "for i in array_list4_sorted:\n",
    "    print((i[0]))\n",
    "    print((i[1]))\n",
    "    print((i[2]))\n",
    "    print(\"----------------------------------------------------------\")\n",
    "# print(\"\\n\")\n"
   ]
  },
  {
   "cell_type": "markdown",
   "metadata": {
    "Collapsed": "false",
    "cell_style": "center"
   },
   "source": [
    "### 4. Create a table containing each algorithm and the timings for each list. "
   ]
  },
  {
   "cell_type": "code",
   "execution_count": 12,
   "metadata": {
    "Collapsed": "false",
    "cell_style": "center"
   },
   "outputs": [
    {
     "data": {
      "text/html": [
       "<div>\n",
       "<style scoped>\n",
       "    .dataframe tbody tr th:only-of-type {\n",
       "        vertical-align: middle;\n",
       "    }\n",
       "\n",
       "    .dataframe tbody tr th {\n",
       "        vertical-align: top;\n",
       "    }\n",
       "\n",
       "    .dataframe thead th {\n",
       "        text-align: right;\n",
       "    }\n",
       "</style>\n",
       "<table border=\"1\" class=\"dataframe\">\n",
       "  <thead>\n",
       "    <tr style=\"text-align: right;\">\n",
       "      <th></th>\n",
       "      <th>array_size</th>\n",
       "      <th>quickSort_sort_time</th>\n",
       "      <th>bubbleSort_sort_time</th>\n",
       "      <th>mergeSort_sort_time</th>\n",
       "      <th>selectionSort_sort_time</th>\n",
       "    </tr>\n",
       "  </thead>\n",
       "  <tbody>\n",
       "    <tr>\n",
       "      <th>0</th>\n",
       "      <td>200</td>\n",
       "      <td>0.574061</td>\n",
       "      <td>2.402425</td>\n",
       "      <td>0.490182</td>\n",
       "      <td>1.998546</td>\n",
       "    </tr>\n",
       "    <tr>\n",
       "      <th>1</th>\n",
       "      <td>400</td>\n",
       "      <td>1.120001</td>\n",
       "      <td>15.668856</td>\n",
       "      <td>1.061818</td>\n",
       "      <td>5.052609</td>\n",
       "    </tr>\n",
       "    <tr>\n",
       "      <th>2</th>\n",
       "      <td>600</td>\n",
       "      <td>2.349093</td>\n",
       "      <td>27.220377</td>\n",
       "      <td>1.737212</td>\n",
       "      <td>9.420611</td>\n",
       "    </tr>\n",
       "    <tr>\n",
       "      <th>3</th>\n",
       "      <td>800</td>\n",
       "      <td>2.187638</td>\n",
       "      <td>46.905235</td>\n",
       "      <td>2.186183</td>\n",
       "      <td>17.812857</td>\n",
       "    </tr>\n",
       "    <tr>\n",
       "      <th>4</th>\n",
       "      <td>1000</td>\n",
       "      <td>3.121456</td>\n",
       "      <td>82.747676</td>\n",
       "      <td>4.419881</td>\n",
       "      <td>28.147408</td>\n",
       "    </tr>\n",
       "  </tbody>\n",
       "</table>\n",
       "</div>"
      ],
      "text/plain": [
       "   array_size  quickSort_sort_time  bubbleSort_sort_time  mergeSort_sort_time  \\\n",
       "0         200             0.574061              2.402425             0.490182   \n",
       "1         400             1.120001             15.668856             1.061818   \n",
       "2         600             2.349093             27.220377             1.737212   \n",
       "3         800             2.187638             46.905235             2.186183   \n",
       "4        1000             3.121456             82.747676             4.419881   \n",
       "\n",
       "   selectionSort_sort_time  \n",
       "0                 1.998546  \n",
       "1                 5.052609  \n",
       "2                 9.420611  \n",
       "3                17.812857  \n",
       "4                28.147408  "
      ]
     },
     "execution_count": 12,
     "metadata": {},
     "output_type": "execute_result"
    }
   ],
   "source": [
    "df=pd.DataFrame({'array_size':array_sizes_list,\n",
    "                 'quickSort_sort_time':array_list_sort_time,\n",
    "                 'bubbleSort_sort_time':array_list2_sort_time,\n",
    "                 'mergeSort_sort_time':array_list3_sort_time, \n",
    "                 'selectionSort_sort_time':array_list4_sort_time})\n",
    "df"
   ]
  },
  {
   "cell_type": "markdown",
   "metadata": {
    "Collapsed": "false"
   },
   "source": [
    "### 5.  Provide a graph showing how each algorithm scales with size of list (also compare the algorithms themselves).  \n"
   ]
  },
  {
   "cell_type": "code",
   "execution_count": 13,
   "metadata": {
    "Collapsed": "false",
    "cell_style": "split"
   },
   "outputs": [
    {
     "data": {
      "image/png": "[encoded data removed]",
      "text/plain": [
       "<Figure size 504x360 with 1 Axes>"
      ]
     },
     "metadata": {},
     "output_type": "display_data"
    }
   ],
   "source": [
    "plt.style.use('ggplot')\n",
    "plt.figure(figsize = (7,5))\n",
    "plt.plot( 'array_size', 'quickSort_sort_time', data=df, marker='o',linewidth=2,linestyle='solid')\n",
    "plt.plot( 'array_size', 'selectionSort_sort_time', data=df, marker='o',linewidth=2,linestyle='solid')\n",
    "plt.plot( 'array_size', 'mergeSort_sort_time', data=df, marker='o',linewidth=2,linestyle='solid')\n",
    "plt.plot( 'array_size', 'bubbleSort_sort_time', data=df, marker='o',linewidth=2,linestyle='solid')\n",
    "plt.xlabel('array_size')\n",
    "plt.ylabel('Execution Time (milliseconds)')\n",
    "plt.title('Fig 1: Comparison of Sort Times for\\n Quick Sort, Selection Sort, Bubble Sort, & Merge Sort')\n",
    "plt.legend()\n",
    "plt.show()\n",
    "plt.close()"
   ]
  },
  {
   "cell_type": "markdown",
   "metadata": {
    "Collapsed": "false"
   },
   "source": [
    "In Figure 1, we can see that for each of the algorithms, overall, as the array size increases, so does the sort execution time. This difference is barely noticeable for quicksort and merge sort, but very visible for selection sort and bubble sort. We can also see that bubble sort is by far the slowest algorithm of the group. Selection sort is slower than quick sort and merge sort, as expected. Since quick sort and merge sort are so close together on the graph, in Figure 2, we will exclude bubble sort to get a closer look at quick sort and merge sort. "
   ]
  },
  {
   "cell_type": "code",
   "execution_count": null,
   "metadata": {
    "Collapsed": "false"
   },
   "outputs": [],
   "source": [
    "plt.style.use('ggplot')\n",
    "# plt.figure(figsize = (7,5))\n",
    "plt.plot( 'month', 'cases', data=df4, marker='o',linewidth=2,linestyle='solid')\n",
    "plt.plot( 'month', 'tweet_counts', data=df4, marker='o',linewidth=2,linestyle='solid')\n",
    "# plt.plot( 'array_size', 'mergeSort_sort_time', data=df4, marker='o',linewidth=2,linestyle='solid')\n",
    "plt.xlabel('month')\n",
    "plt.ylabel('counts')\n",
    "# plt.title('Fig 2: Comparison of Sort Times for\\n Quick Sort, Selection Sort, & Merge Sort')\n",
    "plt.legend()\n",
    "plt.show()\n",
    "plt.close()"
   ]
  },
  {
   "cell_type": "code",
   "execution_count": 14,
   "metadata": {
    "Collapsed": "false",
    "cell_style": "split"
   },
   "outputs": [
    {
     "data": {
      "image/png": "[encoded data removed]",
      "text/plain": [
       "<Figure size 504x360 with 1 Axes>"
      ]
     },
     "metadata": {},
     "output_type": "display_data"
    }
   ],
   "source": [
    "plt.style.use('ggplot')\n",
    "plt.figure(figsize = (7,5))\n",
    "plt.plot( 'array_size', 'quickSort_sort_time', data=df, marker='o',linewidth=2,linestyle='solid')\n",
    "plt.plot( 'array_size', 'selectionSort_sort_time', data=df, marker='o',linewidth=2,linestyle='solid')\n",
    "plt.plot( 'array_size', 'mergeSort_sort_time', data=df, marker='o',linewidth=2,linestyle='solid')\n",
    "plt.xlabel('array_size')\n",
    "plt.ylabel('Execution Time (milliseconds)')\n",
    "plt.title('Fig 2: Comparison of Sort Times for\\n Quick Sort, Selection Sort, & Merge Sort')\n",
    "plt.legend()\n",
    "plt.show()\n",
    "plt.close()"
   ]
  },
  {
   "cell_type": "markdown",
   "metadata": {
    "Collapsed": "false",
    "cell_style": "split"
   },
   "source": [
    "In Figure 2, we see that quick sort and merge sort are very close together in terms of their execution time, and for the largest array, quick sort is slightly faster than merge sort."
   ]
  },
  {
   "cell_type": "markdown",
   "metadata": {
    "Collapsed": "false"
   },
   "source": [
    "# Executive Summary"
   ]
  },
  {
   "cell_type": "markdown",
   "metadata": {
    "Collapsed": "false"
   },
   "source": [
    "In this assignment, we implemented four different sorting algorithms and compared how each algorithm scales with list size, as well as how the algorithms compare relative to each other. We first defined quick sort using code from the textbook, and implemented it on our original list of lists (array_list). We used a for loop and iteratively looped through array_list to obtain our resulting SORTED list of lists, and the sort execution times for quick sort. In preparing to sort using different algorithms, we made copies of the original list of lists. Next, we defined our other sorting algorithms (bubble sort, merge sort, and selection sort). Just as we did for quick sort, we iteratively looped through our copies of the original list of lists, and implemented the remaining sorting algorithms and obtained execution times for each. We then organized the array sizes and the associated execution times for each algorithm in a pandas DataFrame. And lastly, we generated graphs, comparing array size and execution time for all algorithms.\n",
    "\n",
    "Quick sort is a sorting algorithm that uses the divide and conquer (D&C) technique of breaking a problem down into smaller and smaller pieces. In the worst case, quicksort takes O(n^2) time (SLOW), but in the average case, quick sort takes O(n log n) time. Merge sort, however, ALWAYS takes O(n log n) time. In the worst case, quicksort has O(n) levels and each level takes O(n) time, so O(n) X O(n) = O(n^2). In the best case, however, it has O(log n) levels, so the algorithm takes O(n) X O(log n) = O(n log n) time. If the pivot is always random, quicksort will complete in O(n log n) time on average. Also, quicksort has a smaller constant (c X n) than merge sort, so even though they both have O(n log n) time, quicksort is faster, and in practice quicksort hits the average case more frequently than the worst case, which makes it a better choice than merge sort. This is not very clear from our results, possibly because of something in the data, or even something related to the machine that's running the algorithms. Selection sort always takes O(n^2) time, and bubble sort takes O(n^2) time on average, but we can see in Figure 1 that in implementation, bubble sort is much slower than selection sort, so bubble sort likely has a large constant (c X n). When choosing an algorithm, it's important to note that Big O time is not the only factor that will affect the implementation; we have to consider the coefficient in front of the n for algorithms that have the same Big O, and the data and the implementation environment will also impact run time. \n"
   ]
  },
  {
   "cell_type": "code",
   "execution_count": null,
   "metadata": {
    "Collapsed": "false"
   },
   "outputs": [],
   "source": []
  }
 ],
 "metadata": {
  "kernelspec": {
   "display_name": "Python [conda env:py27]",
   "language": "python",
   "name": "conda-env-py27-py"
  },
  "language_info": {
   "codemirror_mode": {
    "name": "ipython",
    "version": 2
   },
   "file_extension": ".py",
   "mimetype": "text/x-python",
   "name": "python",
   "nbconvert_exporter": "python",
   "pygments_lexer": "ipython2",
   "version": "2.7.16"
  },
  "toc": {
   "base_numbering": 1,
   "nav_menu": {
    "height": "390.972px",
    "width": "403.993px"
   },
   "number_sections": true,
   "sideBar": true,
   "skip_h1_title": false,
   "title_cell": "Table of Contents",
   "title_sidebar": "Contents",
   "toc_cell": false,
   "toc_position": {},
   "toc_section_display": true,
   "toc_window_display": false
  },
  "varInspector": {
   "cols": {
    "lenName": 16,
    "lenType": 16,
    "lenVar": 40
   },
   "kernels_config": {
    "python": {
     "delete_cmd_postfix": "",
     "delete_cmd_prefix": "del ",
     "library": "var_list.py",
     "varRefreshCmd": "print(var_dic_list())"
    },
    "r": {
     "delete_cmd_postfix": ") ",
     "delete_cmd_prefix": "rm(",
     "library": "var_list.r",
     "varRefreshCmd": "cat(var_dic_list()) "
    }
   },
   "position": {
    "height": "422.4px",
    "left": "1016.93px",
    "right": "20px",
    "top": "242px",
    "width": "350.925px"
   },
   "types_to_exclude": [
    "module",
    "function",
    "builtin_function_or_method",
    "instance",
    "_Feature"
   ],
   "window_display": false
  }
 },
 "nbformat": 4,
 "nbformat_minor": 4
}
